{
 "cells": [
  {
   "cell_type": "markdown",
   "metadata": {},
   "source": []
  },
  {
   "cell_type": "markdown",
   "metadata": {},
   "source": [
    "\n",
    "## 5 th analisis \n",
    "### PARA: \n",
    "  `Test de hipotesis Energia -> casi distribucion normal`\n",
    "==================================================================="
   ]
  },
  {
   "cell_type": "markdown",
   "metadata": {},
   "source": [
    "# ANALISIS DE DATOS DE NANOPARTICULAS DE ORO\n",
    "### EDA\n",
    "#### Autora: Josefina Cresta"
   ]
  },
  {
   "cell_type": "markdown",
   "metadata": {},
   "source": [
    "### Importación de librerias"
   ]
  },
  {
   "cell_type": "code",
   "execution_count": 1,
   "metadata": {},
   "outputs": [],
   "source": [
    "import pandas as pd\n",
    "import numpy as np\n",
    "import matplotlib as mpl\n",
    "import matplotlib.pyplot as plt\n",
    "%matplotlib inline"
   ]
  },
  {
   "cell_type": "markdown",
   "metadata": {},
   "source": [
    "## Importación de base de datos"
   ]
  },
  {
   "cell_type": "code",
   "execution_count": 2,
   "metadata": {},
   "outputs": [],
   "source": [
    "data = pd.read_csv(\"/Users/jofi/DEV_THE_BRIDGE_FEB22/EDA/previa/1-Au-DataSet/Au_nanoparticle_dataset.csv\")"
   ]
  },
  {
   "cell_type": "code",
   "execution_count": 5,
   "metadata": {},
   "outputs": [
    {
     "data": {
      "text/html": [
       "<div>\n",
       "<style scoped>\n",
       "    .dataframe tbody tr th:only-of-type {\n",
       "        vertical-align: middle;\n",
       "    }\n",
       "\n",
       "    .dataframe tbody tr th {\n",
       "        vertical-align: top;\n",
       "    }\n",
       "\n",
       "    .dataframe thead th {\n",
       "        text-align: right;\n",
       "    }\n",
       "</style>\n",
       "<table border=\"1\" class=\"dataframe\">\n",
       "  <thead>\n",
       "    <tr style=\"text-align: right;\">\n",
       "      <th></th>\n",
       "      <th>ID</th>\n",
       "      <th>T</th>\n",
       "      <th>tau</th>\n",
       "      <th>time</th>\n",
       "      <th>N_total</th>\n",
       "      <th>N_bulk</th>\n",
       "      <th>N_surface</th>\n",
       "      <th>Volume</th>\n",
       "      <th>R_avg</th>\n",
       "      <th>Avg_total</th>\n",
       "      <th>Avg_bulk</th>\n",
       "      <th>Avg_surf</th>\n",
       "      <th>N_bonds</th>\n",
       "      <th>Avg_bonds</th>\n",
       "      <th>Total_E</th>\n",
       "      <th>Formation_E</th>\n",
       "    </tr>\n",
       "  </thead>\n",
       "  <tbody>\n",
       "    <tr>\n",
       "      <th>0</th>\n",
       "      <td>1</td>\n",
       "      <td>273</td>\n",
       "      <td>0.000025</td>\n",
       "      <td>1</td>\n",
       "      <td>1599</td>\n",
       "      <td>1014</td>\n",
       "      <td>585</td>\n",
       "      <td>2.710000e-26</td>\n",
       "      <td>17.3706</td>\n",
       "      <td>11.1770</td>\n",
       "      <td>12.5552</td>\n",
       "      <td>8.7880</td>\n",
       "      <td>8936</td>\n",
       "      <td>2.92220</td>\n",
       "      <td>-5908.6345</td>\n",
       "      <td>343.4555</td>\n",
       "    </tr>\n",
       "    <tr>\n",
       "      <th>1</th>\n",
       "      <td>2</td>\n",
       "      <td>273</td>\n",
       "      <td>0.000025</td>\n",
       "      <td>2</td>\n",
       "      <td>1642</td>\n",
       "      <td>1034</td>\n",
       "      <td>608</td>\n",
       "      <td>2.780000e-26</td>\n",
       "      <td>17.6061</td>\n",
       "      <td>11.0719</td>\n",
       "      <td>12.4952</td>\n",
       "      <td>8.6513</td>\n",
       "      <td>9090</td>\n",
       "      <td>2.92505</td>\n",
       "      <td>-6035.4034</td>\n",
       "      <td>384.8166</td>\n",
       "    </tr>\n",
       "    <tr>\n",
       "      <th>2</th>\n",
       "      <td>3</td>\n",
       "      <td>273</td>\n",
       "      <td>0.000025</td>\n",
       "      <td>3</td>\n",
       "      <td>4637</td>\n",
       "      <td>3365</td>\n",
       "      <td>1272</td>\n",
       "      <td>7.850000e-26</td>\n",
       "      <td>25.3692</td>\n",
       "      <td>11.3862</td>\n",
       "      <td>12.3902</td>\n",
       "      <td>8.7303</td>\n",
       "      <td>26399</td>\n",
       "      <td>2.92120</td>\n",
       "      <td>-17330.1660</td>\n",
       "      <td>800.5040</td>\n",
       "    </tr>\n",
       "    <tr>\n",
       "      <th>3</th>\n",
       "      <td>4</td>\n",
       "      <td>273</td>\n",
       "      <td>0.000025</td>\n",
       "      <td>4</td>\n",
       "      <td>7189</td>\n",
       "      <td>5292</td>\n",
       "      <td>1897</td>\n",
       "      <td>1.220000e-25</td>\n",
       "      <td>29.7011</td>\n",
       "      <td>11.3198</td>\n",
       "      <td>12.3027</td>\n",
       "      <td>8.5778</td>\n",
       "      <td>40689</td>\n",
       "      <td>2.91181</td>\n",
       "      <td>-26937.2010</td>\n",
       "      <td>1171.7890</td>\n",
       "    </tr>\n",
       "    <tr>\n",
       "      <th>4</th>\n",
       "      <td>5</td>\n",
       "      <td>273</td>\n",
       "      <td>0.000025</td>\n",
       "      <td>5</td>\n",
       "      <td>11004</td>\n",
       "      <td>8508</td>\n",
       "      <td>2496</td>\n",
       "      <td>1.860000e-25</td>\n",
       "      <td>34.2831</td>\n",
       "      <td>11.3851</td>\n",
       "      <td>12.2159</td>\n",
       "      <td>8.5533</td>\n",
       "      <td>62641</td>\n",
       "      <td>2.91042</td>\n",
       "      <td>-41427.9010</td>\n",
       "      <td>1597.7390</td>\n",
       "    </tr>\n",
       "    <tr>\n",
       "      <th>...</th>\n",
       "      <td>...</td>\n",
       "      <td>...</td>\n",
       "      <td>...</td>\n",
       "      <td>...</td>\n",
       "      <td>...</td>\n",
       "      <td>...</td>\n",
       "      <td>...</td>\n",
       "      <td>...</td>\n",
       "      <td>...</td>\n",
       "      <td>...</td>\n",
       "      <td>...</td>\n",
       "      <td>...</td>\n",
       "      <td>...</td>\n",
       "      <td>...</td>\n",
       "      <td>...</td>\n",
       "      <td>...</td>\n",
       "    </tr>\n",
       "    <tr>\n",
       "      <th>3995</th>\n",
       "      <td>3996</td>\n",
       "      <td>973</td>\n",
       "      <td>0.000250</td>\n",
       "      <td>6</td>\n",
       "      <td>1509</td>\n",
       "      <td>950</td>\n",
       "      <td>559</td>\n",
       "      <td>2.550000e-26</td>\n",
       "      <td>17.4079</td>\n",
       "      <td>10.5010</td>\n",
       "      <td>11.8126</td>\n",
       "      <td>8.2719</td>\n",
       "      <td>7923</td>\n",
       "      <td>2.94491</td>\n",
       "      <td>-5346.9589</td>\n",
       "      <td>553.2311</td>\n",
       "    </tr>\n",
       "    <tr>\n",
       "      <th>3996</th>\n",
       "      <td>3997</td>\n",
       "      <td>973</td>\n",
       "      <td>0.000250</td>\n",
       "      <td>7</td>\n",
       "      <td>2315</td>\n",
       "      <td>1469</td>\n",
       "      <td>846</td>\n",
       "      <td>3.920000e-26</td>\n",
       "      <td>21.2937</td>\n",
       "      <td>10.5114</td>\n",
       "      <td>11.7971</td>\n",
       "      <td>8.2790</td>\n",
       "      <td>12167</td>\n",
       "      <td>2.94709</td>\n",
       "      <td>-8218.1252</td>\n",
       "      <td>833.5248</td>\n",
       "    </tr>\n",
       "    <tr>\n",
       "      <th>3997</th>\n",
       "      <td>3998</td>\n",
       "      <td>973</td>\n",
       "      <td>0.000250</td>\n",
       "      <td>8</td>\n",
       "      <td>2764</td>\n",
       "      <td>1905</td>\n",
       "      <td>859</td>\n",
       "      <td>4.680000e-26</td>\n",
       "      <td>21.4990</td>\n",
       "      <td>10.7127</td>\n",
       "      <td>11.7948</td>\n",
       "      <td>8.3132</td>\n",
       "      <td>14805</td>\n",
       "      <td>2.95349</td>\n",
       "      <td>-9876.2899</td>\n",
       "      <td>930.9501</td>\n",
       "    </tr>\n",
       "    <tr>\n",
       "      <th>3998</th>\n",
       "      <td>3999</td>\n",
       "      <td>973</td>\n",
       "      <td>0.000250</td>\n",
       "      <td>9</td>\n",
       "      <td>3148</td>\n",
       "      <td>2199</td>\n",
       "      <td>949</td>\n",
       "      <td>5.330000e-26</td>\n",
       "      <td>22.5111</td>\n",
       "      <td>10.7497</td>\n",
       "      <td>11.8058</td>\n",
       "      <td>8.3024</td>\n",
       "      <td>16920</td>\n",
       "      <td>2.95409</td>\n",
       "      <td>-11261.0810</td>\n",
       "      <td>1047.5990</td>\n",
       "    </tr>\n",
       "    <tr>\n",
       "      <th>3999</th>\n",
       "      <td>4000</td>\n",
       "      <td>973</td>\n",
       "      <td>0.000250</td>\n",
       "      <td>10</td>\n",
       "      <td>3986</td>\n",
       "      <td>2785</td>\n",
       "      <td>1201</td>\n",
       "      <td>6.750000e-26</td>\n",
       "      <td>25.5906</td>\n",
       "      <td>10.7371</td>\n",
       "      <td>11.7566</td>\n",
       "      <td>8.3730</td>\n",
       "      <td>21399</td>\n",
       "      <td>2.95285</td>\n",
       "      <td>-14264.3970</td>\n",
       "      <td>NaN</td>\n",
       "    </tr>\n",
       "  </tbody>\n",
       "</table>\n",
       "<p>4000 rows × 16 columns</p>\n",
       "</div>"
      ],
      "text/plain": [
       "        ID    T       tau  time  N_total  N_bulk  N_surface        Volume  \\\n",
       "0        1  273  0.000025     1     1599    1014        585  2.710000e-26   \n",
       "1        2  273  0.000025     2     1642    1034        608  2.780000e-26   \n",
       "2        3  273  0.000025     3     4637    3365       1272  7.850000e-26   \n",
       "3        4  273  0.000025     4     7189    5292       1897  1.220000e-25   \n",
       "4        5  273  0.000025     5    11004    8508       2496  1.860000e-25   \n",
       "...    ...  ...       ...   ...      ...     ...        ...           ...   \n",
       "3995  3996  973  0.000250     6     1509     950        559  2.550000e-26   \n",
       "3996  3997  973  0.000250     7     2315    1469        846  3.920000e-26   \n",
       "3997  3998  973  0.000250     8     2764    1905        859  4.680000e-26   \n",
       "3998  3999  973  0.000250     9     3148    2199        949  5.330000e-26   \n",
       "3999  4000  973  0.000250    10     3986    2785       1201  6.750000e-26   \n",
       "\n",
       "        R_avg  Avg_total  Avg_bulk  Avg_surf  N_bonds  Avg_bonds     Total_E  \\\n",
       "0     17.3706    11.1770   12.5552    8.7880     8936    2.92220  -5908.6345   \n",
       "1     17.6061    11.0719   12.4952    8.6513     9090    2.92505  -6035.4034   \n",
       "2     25.3692    11.3862   12.3902    8.7303    26399    2.92120 -17330.1660   \n",
       "3     29.7011    11.3198   12.3027    8.5778    40689    2.91181 -26937.2010   \n",
       "4     34.2831    11.3851   12.2159    8.5533    62641    2.91042 -41427.9010   \n",
       "...       ...        ...       ...       ...      ...        ...         ...   \n",
       "3995  17.4079    10.5010   11.8126    8.2719     7923    2.94491  -5346.9589   \n",
       "3996  21.2937    10.5114   11.7971    8.2790    12167    2.94709  -8218.1252   \n",
       "3997  21.4990    10.7127   11.7948    8.3132    14805    2.95349  -9876.2899   \n",
       "3998  22.5111    10.7497   11.8058    8.3024    16920    2.95409 -11261.0810   \n",
       "3999  25.5906    10.7371   11.7566    8.3730    21399    2.95285 -14264.3970   \n",
       "\n",
       "      Formation_E  \n",
       "0        343.4555  \n",
       "1        384.8166  \n",
       "2        800.5040  \n",
       "3       1171.7890  \n",
       "4       1597.7390  \n",
       "...           ...  \n",
       "3995     553.2311  \n",
       "3996     833.5248  \n",
       "3997     930.9501  \n",
       "3998    1047.5990  \n",
       "3999          NaN  \n",
       "\n",
       "[4000 rows x 16 columns]"
      ]
     },
     "execution_count": 5,
     "metadata": {},
     "output_type": "execute_result"
    }
   ],
   "source": [
    "cols=['ID', 'T', 'tau', 'time', 'N_total', 'N_bulk', 'N_surface', 'Volume', 'R_avg','Avg_total', 'Avg_bulk', 'Avg_surf', 'N_bonds', 'Avg_bonds', 'Total_E', 'Formation_E']\n",
    "data_6= data.loc[:,cols]\n",
    "data_6"
   ]
  },
  {
   "cell_type": "code",
   "execution_count": 13,
   "metadata": {},
   "outputs": [
    {
     "data": {
      "text/plain": [
       "(4000, 16)"
      ]
     },
     "execution_count": 13,
     "metadata": {},
     "output_type": "execute_result"
    }
   ],
   "source": [
    "data_6.shape"
   ]
  },
  {
   "cell_type": "code",
   "execution_count": 11,
   "metadata": {},
   "outputs": [
    {
     "data": {
      "text/plain": [
       "1898"
      ]
     },
     "execution_count": 11,
     "metadata": {},
     "output_type": "execute_result"
    }
   ],
   "source": [
    "data_6['N_total'].unique().size\n"
   ]
  },
  {
   "cell_type": "markdown",
   "metadata": {},
   "source": [
    "ENERGIA POR ATOMO"
   ]
  },
  {
   "cell_type": "code",
   "execution_count": 14,
   "metadata": {},
   "outputs": [
    {
     "data": {
      "text/plain": [
       "-3.6083176471057468"
      ]
     },
     "execution_count": 14,
     "metadata": {},
     "output_type": "execute_result"
    }
   ],
   "source": [
    "(data_6['Total_E']/data_6['N_total']).mean()"
   ]
  },
  {
   "cell_type": "code",
   "execution_count": 17,
   "metadata": {},
   "outputs": [
    {
     "data": {
      "text/plain": [
       "0.008802643124541092"
      ]
     },
     "execution_count": 17,
     "metadata": {},
     "output_type": "execute_result"
    }
   ],
   "source": [
    "(data_6['Total_E']/data_6['N_total']).var()"
   ]
  },
  {
   "cell_type": "markdown",
   "metadata": {},
   "source": [
    "RADIO PROMEDIO"
   ]
  },
  {
   "cell_type": "code",
   "execution_count": 21,
   "metadata": {},
   "outputs": [
    {
     "data": {
      "text/plain": [
       "8.5286"
      ]
     },
     "execution_count": 21,
     "metadata": {},
     "output_type": "execute_result"
    }
   ],
   "source": [
    "data_6.R_avg.min()"
   ]
  },
  {
   "cell_type": "code",
   "execution_count": 22,
   "metadata": {},
   "outputs": [
    {
     "data": {
      "text/plain": [
       "39.2392"
      ]
     },
     "execution_count": 22,
     "metadata": {},
     "output_type": "execute_result"
    }
   ],
   "source": [
    "data_6.R_avg.max()"
   ]
  },
  {
   "cell_type": "code",
   "execution_count": 20,
   "metadata": {},
   "outputs": [
    {
     "data": {
      "text/plain": [
       "20.654363375"
      ]
     },
     "execution_count": 20,
     "metadata": {},
     "output_type": "execute_result"
    }
   ],
   "source": [
    "data_6.R_avg.mean()"
   ]
  },
  {
   "cell_type": "markdown",
   "metadata": {},
   "source": [
    "LONGITUD DE ENLACE"
   ]
  },
  {
   "cell_type": "markdown",
   "metadata": {},
   "source": [
    "Numero de enlaces no tiene sentido sacarle la media y vemos que su varianza es enorme. POrque depende de la cantidad de atomos"
   ]
  },
  {
   "cell_type": "code",
   "execution_count": 28,
   "metadata": {},
   "outputs": [
    {
     "data": {
      "text/plain": [
       "19330.7005"
      ]
     },
     "execution_count": 28,
     "metadata": {},
     "output_type": "execute_result"
    }
   ],
   "source": [
    "data_6.N_bonds.mean()"
   ]
  },
  {
   "cell_type": "code",
   "execution_count": 29,
   "metadata": {},
   "outputs": [
    {
     "data": {
      "text/plain": [
       "440804666.0188044"
      ]
     },
     "execution_count": 29,
     "metadata": {},
     "output_type": "execute_result"
    }
   ],
   "source": [
    "data_6.N_bonds.var()"
   ]
  },
  {
   "cell_type": "markdown",
   "metadata": {},
   "source": [
    "Mejor se hace el numero de enlaces por atomo y de eso si se saca el estadistico "
   ]
  },
  {
   "cell_type": "code",
   "execution_count": 27,
   "metadata": {},
   "outputs": [
    {
     "data": {
      "text/plain": [
       "5.400602871569044"
      ]
     },
     "execution_count": 27,
     "metadata": {},
     "output_type": "execute_result"
    }
   ],
   "source": [
    "(data_6.N_bonds/data_6.N_total).mean()"
   ]
  },
  {
   "cell_type": "code",
   "execution_count": 30,
   "metadata": {},
   "outputs": [
    {
     "data": {
      "text/plain": [
       "0.03974751612049866"
      ]
     },
     "execution_count": 30,
     "metadata": {},
     "output_type": "execute_result"
    }
   ],
   "source": [
    "(data_6.N_bonds/data_6.N_total).var()"
   ]
  },
  {
   "cell_type": "markdown",
   "metadata": {},
   "source": [
    "Sacamos el estadistico tambien de la longitud de los enlaces"
   ]
  },
  {
   "cell_type": "code",
   "execution_count": 23,
   "metadata": {},
   "outputs": [
    {
     "data": {
      "text/plain": [
       "2.9147176100000003"
      ]
     },
     "execution_count": 23,
     "metadata": {},
     "output_type": "execute_result"
    }
   ],
   "source": [
    "data_6.Avg_bonds.mean()"
   ]
  },
  {
   "cell_type": "code",
   "execution_count": 24,
   "metadata": {},
   "outputs": [
    {
     "data": {
      "text/plain": [
       "0.0005841064128411104"
      ]
     },
     "execution_count": 24,
     "metadata": {},
     "output_type": "execute_result"
    }
   ],
   "source": [
    "data_6.Avg_bonds.var()"
   ]
  },
  {
   "cell_type": "markdown",
   "metadata": {},
   "source": [
    "CORDINACIONES \n",
    "\n",
    "Avg_total\tAvg_bulk\tAvg_surf\t"
   ]
  },
  {
   "cell_type": "code",
   "execution_count": 34,
   "metadata": {},
   "outputs": [
    {
     "data": {
      "text/plain": [
       "10.80120505"
      ]
     },
     "execution_count": 34,
     "metadata": {},
     "output_type": "execute_result"
    }
   ],
   "source": [
    "data_6.Avg_total.mean()"
   ]
  },
  {
   "cell_type": "code",
   "execution_count": 35,
   "metadata": {},
   "outputs": [
    {
     "data": {
      "text/plain": [
       "0.15899017606851465"
      ]
     },
     "execution_count": 35,
     "metadata": {},
     "output_type": "execute_result"
    }
   ],
   "source": [
    "data_6.Avg_total.var()"
   ]
  },
  {
   "cell_type": "markdown",
   "metadata": {},
   "source": [
    "### Enlaces en BULK ---> FCC"
   ]
  },
  {
   "cell_type": "code",
   "execution_count": 25,
   "metadata": {},
   "outputs": [
    {
     "data": {
      "text/plain": [
       "12.13831165"
      ]
     },
     "execution_count": 25,
     "metadata": {},
     "output_type": "execute_result"
    }
   ],
   "source": [
    "data_6.Avg_bulk.mean()"
   ]
  },
  {
   "cell_type": "code",
   "execution_count": 26,
   "metadata": {},
   "outputs": [
    {
     "data": {
      "text/plain": [
       "0.027173827586174044"
      ]
     },
     "execution_count": 26,
     "metadata": {},
     "output_type": "execute_result"
    }
   ],
   "source": [
    "data_6.Avg_bulk.var()"
   ]
  },
  {
   "cell_type": "code",
   "execution_count": 32,
   "metadata": {},
   "outputs": [
    {
     "data": {
      "text/plain": [
       "8.471661325000001"
      ]
     },
     "execution_count": 32,
     "metadata": {},
     "output_type": "execute_result"
    }
   ],
   "source": [
    "data_6.Avg_surf.mean()"
   ]
  },
  {
   "cell_type": "code",
   "execution_count": 33,
   "metadata": {},
   "outputs": [
    {
     "data": {
      "text/plain": [
       "0.031084400651907353"
      ]
     },
     "execution_count": 33,
     "metadata": {},
     "output_type": "execute_result"
    }
   ],
   "source": [
    "data_6.Avg_surf.var()"
   ]
  },
  {
   "cell_type": "markdown",
   "metadata": {},
   "source": [
    "# Análisis de normalidad "
   ]
  },
  {
   "cell_type": "code",
   "execution_count": 89,
   "metadata": {},
   "outputs": [],
   "source": [
    "# Tratamiento de datos\n",
    "# ==============================================================================\n",
    "import pandas as pd\n",
    "import numpy as np\n",
    "\n",
    "# Gráficos\n",
    "# ==============================================================================\n",
    "import matplotlib.pyplot as plt\n",
    "from matplotlib import style\n",
    "import seaborn as sns\n",
    "\n",
    "# Preprocesado y análisis\n",
    "# ==============================================================================\n",
    "import statsmodels.api as sm\n",
    "from scipy import stats\n",
    "\n",
    "# Configuración matplotlib\n",
    "# ==============================================================================\n",
    "#plt.style.use('ggplot')\n",
    "\n",
    "# Configuración warnings\n",
    "# ==============================================================================\n",
    "import warnings\n",
    "warnings.filterwarnings('ignore')"
   ]
  },
  {
   "cell_type": "markdown",
   "metadata": {},
   "source": [
    "### EJjemplo alturas"
   ]
  },
  {
   "cell_type": "code",
   "execution_count": 37,
   "metadata": {},
   "outputs": [
    {
     "name": "stdout",
     "output_type": "stream",
     "text": [
      "<class 'pandas.core.frame.DataFrame'>\n",
      "RangeIndex: 544 entries, 0 to 543\n",
      "Data columns (total 4 columns):\n",
      " #   Column  Non-Null Count  Dtype  \n",
      "---  ------  --------------  -----  \n",
      " 0   height  544 non-null    float64\n",
      " 1   weight  544 non-null    float64\n",
      " 2   age     544 non-null    float64\n",
      " 3   male    544 non-null    int64  \n",
      "dtypes: float64(3), int64(1)\n",
      "memory usage: 17.1 KB\n",
      "None\n"
     ]
    },
    {
     "data": {
      "text/html": [
       "<div>\n",
       "<style scoped>\n",
       "    .dataframe tbody tr th:only-of-type {\n",
       "        vertical-align: middle;\n",
       "    }\n",
       "\n",
       "    .dataframe tbody tr th {\n",
       "        vertical-align: top;\n",
       "    }\n",
       "\n",
       "    .dataframe thead th {\n",
       "        text-align: right;\n",
       "    }\n",
       "</style>\n",
       "<table border=\"1\" class=\"dataframe\">\n",
       "  <thead>\n",
       "    <tr style=\"text-align: right;\">\n",
       "      <th></th>\n",
       "      <th>height</th>\n",
       "      <th>weight</th>\n",
       "      <th>age</th>\n",
       "      <th>male</th>\n",
       "    </tr>\n",
       "  </thead>\n",
       "  <tbody>\n",
       "    <tr>\n",
       "      <th>0</th>\n",
       "      <td>151.765</td>\n",
       "      <td>47.825606</td>\n",
       "      <td>63.0</td>\n",
       "      <td>1</td>\n",
       "    </tr>\n",
       "    <tr>\n",
       "      <th>1</th>\n",
       "      <td>139.700</td>\n",
       "      <td>36.485807</td>\n",
       "      <td>63.0</td>\n",
       "      <td>0</td>\n",
       "    </tr>\n",
       "    <tr>\n",
       "      <th>2</th>\n",
       "      <td>136.525</td>\n",
       "      <td>31.864838</td>\n",
       "      <td>65.0</td>\n",
       "      <td>0</td>\n",
       "    </tr>\n",
       "    <tr>\n",
       "      <th>3</th>\n",
       "      <td>156.845</td>\n",
       "      <td>53.041914</td>\n",
       "      <td>41.0</td>\n",
       "      <td>1</td>\n",
       "    </tr>\n",
       "  </tbody>\n",
       "</table>\n",
       "</div>"
      ],
      "text/plain": [
       "    height     weight   age  male\n",
       "0  151.765  47.825606  63.0     1\n",
       "1  139.700  36.485807  63.0     0\n",
       "2  136.525  31.864838  65.0     0\n",
       "3  156.845  53.041914  41.0     1"
      ]
     },
     "execution_count": 37,
     "metadata": {},
     "output_type": "execute_result"
    }
   ],
   "source": [
    "# Datos\n",
    "# ==============================================================================\n",
    "url = ('https://raw.githubusercontent.com/JoaquinAmatRodrigo/' +\n",
    "       'Estadistica-machine-learning-python/master/data/Howell1.csv')\n",
    "datos = pd.read_csv(url)\n",
    "print(datos.info())\n",
    "datos.head(4)"
   ]
  },
  {
   "cell_type": "code",
   "execution_count": 38,
   "metadata": {},
   "outputs": [],
   "source": [
    "datos = datos[(datos.age > 15) & (datos.male ==0)]\n",
    "peso = datos['weight']"
   ]
  },
  {
   "cell_type": "markdown",
   "metadata": {},
   "source": [
    "Metodo grafico"
   ]
  },
  {
   "cell_type": "markdown",
   "metadata": {},
   "source": [
    "Uno de los métodos gráficos más empleados para el análisis de normalidad consiste en representar los datos mediante un histograma y superponer la curva de una distribución normal con la misma media y desviación estándar que los datos disponibles. "
   ]
  },
  {
   "cell_type": "code",
   "execution_count": 41,
   "metadata": {},
   "outputs": [
    {
     "data": {
      "image/png": "[encoded data removed]",
      "text/plain": [
       "<Figure size 504x288 with 1 Axes>"
      ]
     },
     "metadata": {},
     "output_type": "display_data"
    }
   ],
   "source": [
    "# Histograma + curva normal teórica\n",
    "# ==============================================================================\n",
    "\n",
    "# Valores de la media (mu) y desviación típica (sigma) de los datos\n",
    "mu, sigma = stats.norm.fit(peso)\n",
    "\n",
    "# Valores teóricos de la normal en el rango observado\n",
    "x_hat = np.linspace(min(peso), max(peso), num=100)\n",
    "y_hat = stats.norm.pdf(x_hat, mu, sigma)\n",
    "\n",
    "# Gráfico\n",
    "fig, ax = plt.subplots(figsize=(7,4))\n",
    "ax.plot(x_hat, y_hat, linewidth=2, label='normal')\n",
    "ax.hist(x=peso, density=True, bins=30, color=\"#3182bd\", alpha=0.5)\n",
    "ax.plot(peso, np.full_like(peso, -0.01), '|k', markeredgewidth=1)\n",
    "ax.set_title('Distribución peso mujeres mayores de 15 años')\n",
    "ax.set_xlabel('peso')\n",
    "ax.set_ylabel('Densidad de probabilidad')\n",
    "ax.legend();"
   ]
  },
  {
   "cell_type": "markdown",
   "metadata": {},
   "source": [
    "Otra representación utilizada con frecuencia son los gráficos de cuantiles teóricos (Gráficos Q-Q). Estos gráficos comparan los cuantiles de la distribución observada con los cuantiles teóricos de una distribución normal con la misma media y desviación estándar que los datos. Cuanto más se aproximen los datos a una normal, más alineados están los puntos entorno a la recta."
   ]
  },
  {
   "cell_type": "code",
   "execution_count": 90,
   "metadata": {},
   "outputs": [
    {
     "data": {
      "image/png": "[encoded data removed]",
      "text/plain": [
       "<Figure size 504x288 with 1 Axes>"
      ]
     },
     "metadata": {},
     "output_type": "display_data"
    }
   ],
   "source": [
    "# Gráfico Q-Q\n",
    "# ==============================================================================\n",
    "fig, ax = plt.subplots(figsize=(7,4))\n",
    "sm.qqplot(\n",
    "    peso,\n",
    "    fit   = True,\n",
    "    line  = 'q',\n",
    "    alpha = 0.4,\n",
    "    lw    = 2,\n",
    "    ax    = ax\n",
    ")\n",
    "ax.set_title('Gráfico Q-Q del peso mujeres mayores de 15 años', fontsize = 10,\n",
    "             fontweight = \"bold\")\n",
    "ax.tick_params(labelsize = 7)"
   ]
  },
  {
   "cell_type": "markdown",
   "metadata": {},
   "source": [
    "# Analisis de normalidad para energia por atomo"
   ]
  },
  {
   "cell_type": "markdown",
   "metadata": {},
   "source": [
    "Energia de formación"
   ]
  },
  {
   "cell_type": "code",
   "execution_count": 65,
   "metadata": {},
   "outputs": [
    {
     "data": {
      "image/png": "[encoded data removed]",
      "text/plain": [
       "<Figure size 432x288 with 1 Axes>"
      ]
     },
     "metadata": {},
     "output_type": "display_data"
    }
   ],
   "source": [
    "energias=data_6['Formation_E'].dropna(how='any')\n",
    "plt.hist(x=energias, density=True, bins=80, color=\"#3182bd\", alpha=0.5);"
   ]
  },
  {
   "cell_type": "code",
   "execution_count": null,
   "metadata": {},
   "outputs": [],
   "source": [
    "sns.box"
   ]
  },
  {
   "cell_type": "markdown",
   "metadata": {},
   "source": [
    "Energias totales"
   ]
  },
  {
   "cell_type": "code",
   "execution_count": 69,
   "metadata": {},
   "outputs": [
    {
     "data": {
      "image/png": "[encoded data removed]",
      "text/plain": [
       "<Figure size 432x288 with 1 Axes>"
      ]
     },
     "metadata": {},
     "output_type": "display_data"
    }
   ],
   "source": [
    "energias=data_6.Total_E.dropna(how='any')\n",
    "plt.hist(x=energias, density=True, bins=80, color=\"#3182bd\", alpha=0.5);"
   ]
  },
  {
   "cell_type": "markdown",
   "metadata": {},
   "source": [
    "Energia por atomo"
   ]
  },
  {
   "cell_type": "code",
   "execution_count": 67,
   "metadata": {},
   "outputs": [
    {
     "data": {
      "image/png": "[encoded data removed]",
      "text/plain": [
       "<Figure size 432x288 with 1 Axes>"
      ]
     },
     "metadata": {},
     "output_type": "display_data"
    }
   ],
   "source": [
    "energias=(data_6.Total_E/data_6.N_total).dropna(how='any')\n",
    "plt.hist(x=energias, density=True, bins=80, color=\"#3182bd\", alpha=0.5);"
   ]
  },
  {
   "cell_type": "markdown",
   "metadata": {},
   "source": [
    "Analisis de normalidad para la energia por atomo"
   ]
  },
  {
   "cell_type": "code",
   "execution_count": 71,
   "metadata": {},
   "outputs": [
    {
     "data": {
      "image/png": "[encoded data removed]",
      "text/plain": [
       "<Figure size 504x288 with 1 Axes>"
      ]
     },
     "metadata": {},
     "output_type": "display_data"
    }
   ],
   "source": [
    "# Histograma + curva normal teórica\n",
    "# ==============================================================================\n",
    "energias=(data_6.Total_E/data_6.N_total).dropna(how='any')\n",
    "\n",
    "# Valores de la media (mu) y desviación típica (sigma) de los datos\n",
    "mu, sigma = stats.norm.fit(energias)\n",
    "\n",
    "# Valores teóricos de la normal en el rango observado\n",
    "x_hat = np.linspace(min(energias), max(energias), num=100)\n",
    "y_hat = stats.norm.pdf(x_hat, mu, sigma)\n",
    "\n",
    "# Gráfico\n",
    "fig, ax = plt.subplots(figsize=(7,4))\n",
    "ax.plot(x_hat, y_hat, linewidth=2, label='normal')\n",
    "ax.hist(x=energias, density=True, bins=80, color=\"#3182bd\", alpha=0.5)\n",
    "ax.plot(energias, np.full_like(energias, -0.01), '|k', markeredgewidth=1)\n",
    "ax.set_title('Distribución energias por unidad de atomo')\n",
    "ax.set_xlabel('Energias por atomo')\n",
    "ax.set_ylabel('Densidad de probabilidad')\n",
    "ax.legend();"
   ]
  },
  {
   "cell_type": "code",
   "execution_count": 86,
   "metadata": {},
   "outputs": [],
   "source": [
    "from statsmodels.graphics.gofplots import qqplot"
   ]
  },
  {
   "cell_type": "code",
   "execution_count": 100,
   "metadata": {},
   "outputs": [
    {
     "data": {
      "image/png": "[encoded data removed]",
      "text/plain": [
       "<Figure size 432x288 with 1 Axes>"
      ]
     },
     "metadata": {},
     "output_type": "display_data"
    }
   ],
   "source": [
    "# Gráfico Q-Q\n",
    "# ==============================================================================\n",
    "energias=(data_6.Total_E/data_6.N_total).dropna(how='any')\n",
    "#fig, ax = plt.subplots(figsize=(7,4))\n",
    "#sm.qqplot(energias, fit = True, line=\"s\", color=\"blue\", alpha = 0.4, lw    = 2, ax= ax)\n",
    "qqplot(energias, line=\"s\", color='g');\n",
    "#ax.set_title('Gráfico Q-Q del peso mujeres mayores de 15 años', fontsize = 10, fontweight = \"bold\")\n",
    "#ax.tick_params(labelsize = 7)"
   ]
  },
  {
   "cell_type": "markdown",
   "metadata": {},
   "source": [
    "## Métodos analíticos asimetría y curtosis"
   ]
  },
  {
   "cell_type": "markdown",
   "metadata": {},
   "source": [
    "\n",
    "Los estadísticos de asimetría (Skewness) y curtosis pueden emplearse para detectar desviaciones de la normalidad. Un valor de curtosis y/o coeficiente de asimetría entre -1 y 1, es generalmente considerada una ligera desviación de la normalidad (Bulmer, 1979), (Brown, n.d.). Entre -2 y 2 hay una evidente desviación de la normal pero no extrema. "
   ]
  },
  {
   "cell_type": "code",
   "execution_count": 101,
   "metadata": {},
   "outputs": [
    {
     "name": "stdout",
     "output_type": "stream",
     "text": [
      "Kursotis: 0.006069844284549042\n",
      "Skewness: 0.5427347528795372\n"
     ]
    }
   ],
   "source": [
    "print('Kursotis:', stats.kurtosis(energias))\n",
    "print('Skewness:', stats.skew(energias))"
   ]
  },
  {
   "cell_type": "markdown",
   "metadata": {},
   "source": [
    "Las energias totales deberian dar fatal.. "
   ]
  },
  {
   "cell_type": "code",
   "execution_count": 110,
   "metadata": {},
   "outputs": [
    {
     "name": "stdout",
     "output_type": "stream",
     "text": [
      "Kursotis: 1.3953922641231156\n",
      "Skewness: -1.5734787716149707\n"
     ]
    }
   ],
   "source": [
    "energias_totales=data_6.Total_E.dropna(how='any')\n",
    "\n",
    "print('Kursotis:', stats.kurtosis(energias_totales))\n",
    "print('Skewness:', stats.skew(energias_totales))"
   ]
  },
  {
   "cell_type": "code",
   "execution_count": 115,
   "metadata": {},
   "outputs": [
    {
     "name": "stderr",
     "output_type": "stream",
     "text": [
      "No artists with labels found to put in legend.  Note that artists whose label start with an underscore are ignored when legend() is called with no argument.\n"
     ]
    },
    {
     "data": {
      "image/png": "[encoded data removed]",
      "text/plain": [
       "<Figure size 432x288 with 1 Axes>"
      ]
     },
     "metadata": {},
     "output_type": "display_data"
    }
   ],
   "source": [
    "# Histograma + curva normal teórica\n",
    "# ==============================================================================\n",
    "energias_totales=(data_6.Total_E).dropna(how='any')\n",
    "\n",
    "\n",
    "plt.hist(x=energias_totales, density=True, bins=80, color=\"#3182bd\", alpha=0.5)\n",
    "\n",
    "plt.title('Distribución energias totales')\n",
    "plt.xlabel('Energias totales')\n",
    "plt.ylabel('Densidad de probabilidad')\n",
    "plt.legend();"
   ]
  },
  {
   "cell_type": "markdown",
   "metadata": {},
   "source": [
    "bueno no tan fatal. \n",
    "\n",
    "Pero vemos cola a la izquierda. Diremos que hay **asimetría negativa**  (o a la izquierda) si la \"cola\" a la izquierda de la media es más larga que la de la derecha, es decir, si hay valores más separados de la media a la izquierda.\n",
    "\n",
    "Esto se debe a que hay memos probabilidad de energias bajas en la muestra"
   ]
  },
  {
   "cell_type": "markdown",
   "metadata": {},
   "source": [
    "## Contraste de hipótesis\n",
    "\n",
    "\n",
    "Los test **Shapiro-Wilk** test y **D'Agostino's K-squared**  test son dos de los test de hipótesis más empleados para analizar la normalidad. En ambos, se considera como hipótesis nula que los datos proceden de una distribución normal.\n",
    "\n",
    "El p-value de estos test indica la probabilidad de obtener unos datos como los observados si realmente procediesen de una población con una distribución normal con la misma media y desviación que estos. Por lo tanto, si el p-value es menor que un determinado valor (típicamente 0.05), entonces se considera que hay evidencias suficientes para rechazar la normalidad.\n",
    "\n",
    "El test de Shapiro-Wilk se desaconseja cuando se dispone de muchos datos (más de 50) por su elevada sensibilidad a pequeñas desviaciones de la normal. "
   ]
  },
  {
   "cell_type": "code",
   "execution_count": 118,
   "metadata": {},
   "outputs": [
    {
     "data": {
      "text/plain": [
       "ShapiroResult(statistic=0.9768173694610596, pvalue=4.9649298070516095e-25)"
      ]
     },
     "execution_count": 118,
     "metadata": {},
     "output_type": "execute_result"
    }
   ],
   "source": [
    "\n",
    "# Shapiro-Wilk test\n",
    "# ==============================================================================\n",
    "shapiro_test = stats.shapiro(energias)\n",
    "shapiro_test"
   ]
  },
  {
   "cell_type": "code",
   "execution_count": 119,
   "metadata": {},
   "outputs": [
    {
     "name": "stdout",
     "output_type": "stream",
     "text": [
      "Estadístico = 173.56178055964725, p-value = 2.0489823473127228e-38\n"
     ]
    }
   ],
   "source": [
    "# D'Agostino's K-squared test\n",
    "# ==============================================================================\n",
    "k2, p_value = stats.normaltest(energias)\n",
    "print(f\"Estadístico = {k2}, p-value = {p_value}\")"
   ]
  },
  {
   "cell_type": "markdown",
   "metadata": {},
   "source": [
    "# EL P_VALOR ME DA MUUUY CHICO. "
   ]
  },
  {
   "cell_type": "code",
   "execution_count": 120,
   "metadata": {},
   "outputs": [
    {
     "name": "stdout",
     "output_type": "stream",
     "text": [
      "Estadístico = 1012.1636488938932, p-value = 1.627257384921689e-220\n"
     ]
    }
   ],
   "source": [
    "energias_totales=(data_6.Total_E).dropna(how='any')\n",
    "k2, p_value = stats.normaltest(energias_totales)\n",
    "print(f\"Estadístico = {k2}, p-value = {p_value}\")"
   ]
  },
  {
   "cell_type": "markdown",
   "metadata": {},
   "source": [
    "# Análisis de homocedasticidad y heterocedasticidad con python"
   ]
  },
  {
   "cell_type": "code",
   "execution_count": 131,
   "metadata": {},
   "outputs": [],
   "source": [
    "pares = data_6[data_6['N_total']%2==0]"
   ]
  },
  {
   "cell_type": "code",
   "execution_count": 135,
   "metadata": {},
   "outputs": [
    {
     "data": {
      "text/plain": [
       "1      -3.675642\n",
       "4      -3.764804\n",
       "8      -3.795445\n",
       "9      -3.795376\n",
       "10     -3.690615\n",
       "          ...   \n",
       "3989   -3.590056\n",
       "3990   -3.452393\n",
       "3997   -3.573187\n",
       "3998   -3.577218\n",
       "3999   -3.578624\n",
       "Length: 1922, dtype: float64"
      ]
     },
     "execution_count": 135,
     "metadata": {},
     "output_type": "execute_result"
    }
   ],
   "source": [
    "(pares.Total_E)/pares.N_total"
   ]
  },
  {
   "cell_type": "code",
   "execution_count": 132,
   "metadata": {},
   "outputs": [],
   "source": [
    "impares= data_6[data_6['N_total']%2!=0]"
   ]
  },
  {
   "cell_type": "code",
   "execution_count": 136,
   "metadata": {},
   "outputs": [
    {
     "data": {
      "text/plain": [
       "LeveneResult(statistic=2.352340983245974, pvalue=0.12517415005882918)"
      ]
     },
     "execution_count": 136,
     "metadata": {},
     "output_type": "execute_result"
    }
   ],
   "source": [
    "# Levene test\n",
    "# ==============================================================================\n",
    "levene_test = stats.levene((pares.Total_E)/pares.N_total, (impares.Total_E)/impares.N_total, center='median')\n",
    "levene_test"
   ]
  },
  {
   "cell_type": "code",
   "execution_count": null,
   "metadata": {},
   "outputs": [],
   "source": [
    "datos['male'] = datos['male'].astype(str)\n",
    "datos = datos[(datos.age > 15)]\n",
    "pares = data_6[data_6['N_total']%2==0]\n",
    "peso_mujeres = datos.loc[datos.male == '0', 'weight']"
   ]
  },
  {
   "cell_type": "code",
   "execution_count": null,
   "metadata": {},
   "outputs": [],
   "source": [
    "data_6['N_total']"
   ]
  },
  {
   "cell_type": "code",
   "execution_count": 142,
   "metadata": {},
   "outputs": [
    {
     "data": {
      "text/plain": [
       "0       False\n",
       "1        True\n",
       "2       False\n",
       "3       False\n",
       "4        True\n",
       "        ...  \n",
       "3995    False\n",
       "3996    False\n",
       "3997     True\n",
       "3998     True\n",
       "3999     True\n",
       "Name: N_total, Length: 4000, dtype: bool"
      ]
     },
     "execution_count": 142,
     "metadata": {},
     "output_type": "execute_result"
    }
   ],
   "source": [
    "(data_6['N_total']%2==0)"
   ]
  },
  {
   "cell_type": "code",
   "execution_count": 152,
   "metadata": {},
   "outputs": [
    {
     "data": {
      "text/html": [
       "<div>\n",
       "<style scoped>\n",
       "    .dataframe tbody tr th:only-of-type {\n",
       "        vertical-align: middle;\n",
       "    }\n",
       "\n",
       "    .dataframe tbody tr th {\n",
       "        vertical-align: top;\n",
       "    }\n",
       "\n",
       "    .dataframe thead th {\n",
       "        text-align: right;\n",
       "    }\n",
       "</style>\n",
       "<table border=\"1\" class=\"dataframe\">\n",
       "  <thead>\n",
       "    <tr style=\"text-align: right;\">\n",
       "      <th></th>\n",
       "      <th>ID</th>\n",
       "      <th>T</th>\n",
       "      <th>tau</th>\n",
       "      <th>time</th>\n",
       "      <th>N_total</th>\n",
       "      <th>N_bulk</th>\n",
       "      <th>N_surface</th>\n",
       "      <th>Volume</th>\n",
       "      <th>R_avg</th>\n",
       "      <th>Avg_total</th>\n",
       "      <th>Avg_bulk</th>\n",
       "      <th>Avg_surf</th>\n",
       "      <th>N_bonds</th>\n",
       "      <th>Avg_bonds</th>\n",
       "      <th>Total_E</th>\n",
       "      <th>Formation_E</th>\n",
       "      <th>paridad</th>\n",
       "    </tr>\n",
       "  </thead>\n",
       "  <tbody>\n",
       "    <tr>\n",
       "      <th>0</th>\n",
       "      <td>1</td>\n",
       "      <td>273</td>\n",
       "      <td>0.000025</td>\n",
       "      <td>1</td>\n",
       "      <td>1599</td>\n",
       "      <td>1014</td>\n",
       "      <td>585</td>\n",
       "      <td>2.710000e-26</td>\n",
       "      <td>17.3706</td>\n",
       "      <td>11.1770</td>\n",
       "      <td>12.5552</td>\n",
       "      <td>8.7880</td>\n",
       "      <td>8936</td>\n",
       "      <td>2.92220</td>\n",
       "      <td>-5908.6345</td>\n",
       "      <td>343.4555</td>\n",
       "      <td>False</td>\n",
       "    </tr>\n",
       "    <tr>\n",
       "      <th>1</th>\n",
       "      <td>2</td>\n",
       "      <td>273</td>\n",
       "      <td>0.000025</td>\n",
       "      <td>2</td>\n",
       "      <td>1642</td>\n",
       "      <td>1034</td>\n",
       "      <td>608</td>\n",
       "      <td>2.780000e-26</td>\n",
       "      <td>17.6061</td>\n",
       "      <td>11.0719</td>\n",
       "      <td>12.4952</td>\n",
       "      <td>8.6513</td>\n",
       "      <td>9090</td>\n",
       "      <td>2.92505</td>\n",
       "      <td>-6035.4034</td>\n",
       "      <td>384.8166</td>\n",
       "      <td>True</td>\n",
       "    </tr>\n",
       "    <tr>\n",
       "      <th>2</th>\n",
       "      <td>3</td>\n",
       "      <td>273</td>\n",
       "      <td>0.000025</td>\n",
       "      <td>3</td>\n",
       "      <td>4637</td>\n",
       "      <td>3365</td>\n",
       "      <td>1272</td>\n",
       "      <td>7.850000e-26</td>\n",
       "      <td>25.3692</td>\n",
       "      <td>11.3862</td>\n",
       "      <td>12.3902</td>\n",
       "      <td>8.7303</td>\n",
       "      <td>26399</td>\n",
       "      <td>2.92120</td>\n",
       "      <td>-17330.1660</td>\n",
       "      <td>800.5040</td>\n",
       "      <td>False</td>\n",
       "    </tr>\n",
       "    <tr>\n",
       "      <th>3</th>\n",
       "      <td>4</td>\n",
       "      <td>273</td>\n",
       "      <td>0.000025</td>\n",
       "      <td>4</td>\n",
       "      <td>7189</td>\n",
       "      <td>5292</td>\n",
       "      <td>1897</td>\n",
       "      <td>1.220000e-25</td>\n",
       "      <td>29.7011</td>\n",
       "      <td>11.3198</td>\n",
       "      <td>12.3027</td>\n",
       "      <td>8.5778</td>\n",
       "      <td>40689</td>\n",
       "      <td>2.91181</td>\n",
       "      <td>-26937.2010</td>\n",
       "      <td>1171.7890</td>\n",
       "      <td>False</td>\n",
       "    </tr>\n",
       "    <tr>\n",
       "      <th>4</th>\n",
       "      <td>5</td>\n",
       "      <td>273</td>\n",
       "      <td>0.000025</td>\n",
       "      <td>5</td>\n",
       "      <td>11004</td>\n",
       "      <td>8508</td>\n",
       "      <td>2496</td>\n",
       "      <td>1.860000e-25</td>\n",
       "      <td>34.2831</td>\n",
       "      <td>11.3851</td>\n",
       "      <td>12.2159</td>\n",
       "      <td>8.5533</td>\n",
       "      <td>62641</td>\n",
       "      <td>2.91042</td>\n",
       "      <td>-41427.9010</td>\n",
       "      <td>1597.7390</td>\n",
       "      <td>True</td>\n",
       "    </tr>\n",
       "    <tr>\n",
       "      <th>...</th>\n",
       "      <td>...</td>\n",
       "      <td>...</td>\n",
       "      <td>...</td>\n",
       "      <td>...</td>\n",
       "      <td>...</td>\n",
       "      <td>...</td>\n",
       "      <td>...</td>\n",
       "      <td>...</td>\n",
       "      <td>...</td>\n",
       "      <td>...</td>\n",
       "      <td>...</td>\n",
       "      <td>...</td>\n",
       "      <td>...</td>\n",
       "      <td>...</td>\n",
       "      <td>...</td>\n",
       "      <td>...</td>\n",
       "      <td>...</td>\n",
       "    </tr>\n",
       "    <tr>\n",
       "      <th>3995</th>\n",
       "      <td>3996</td>\n",
       "      <td>973</td>\n",
       "      <td>0.000250</td>\n",
       "      <td>6</td>\n",
       "      <td>1509</td>\n",
       "      <td>950</td>\n",
       "      <td>559</td>\n",
       "      <td>2.550000e-26</td>\n",
       "      <td>17.4079</td>\n",
       "      <td>10.5010</td>\n",
       "      <td>11.8126</td>\n",
       "      <td>8.2719</td>\n",
       "      <td>7923</td>\n",
       "      <td>2.94491</td>\n",
       "      <td>-5346.9589</td>\n",
       "      <td>553.2311</td>\n",
       "      <td>False</td>\n",
       "    </tr>\n",
       "    <tr>\n",
       "      <th>3996</th>\n",
       "      <td>3997</td>\n",
       "      <td>973</td>\n",
       "      <td>0.000250</td>\n",
       "      <td>7</td>\n",
       "      <td>2315</td>\n",
       "      <td>1469</td>\n",
       "      <td>846</td>\n",
       "      <td>3.920000e-26</td>\n",
       "      <td>21.2937</td>\n",
       "      <td>10.5114</td>\n",
       "      <td>11.7971</td>\n",
       "      <td>8.2790</td>\n",
       "      <td>12167</td>\n",
       "      <td>2.94709</td>\n",
       "      <td>-8218.1252</td>\n",
       "      <td>833.5248</td>\n",
       "      <td>False</td>\n",
       "    </tr>\n",
       "    <tr>\n",
       "      <th>3997</th>\n",
       "      <td>3998</td>\n",
       "      <td>973</td>\n",
       "      <td>0.000250</td>\n",
       "      <td>8</td>\n",
       "      <td>2764</td>\n",
       "      <td>1905</td>\n",
       "      <td>859</td>\n",
       "      <td>4.680000e-26</td>\n",
       "      <td>21.4990</td>\n",
       "      <td>10.7127</td>\n",
       "      <td>11.7948</td>\n",
       "      <td>8.3132</td>\n",
       "      <td>14805</td>\n",
       "      <td>2.95349</td>\n",
       "      <td>-9876.2899</td>\n",
       "      <td>930.9501</td>\n",
       "      <td>True</td>\n",
       "    </tr>\n",
       "    <tr>\n",
       "      <th>3998</th>\n",
       "      <td>3999</td>\n",
       "      <td>973</td>\n",
       "      <td>0.000250</td>\n",
       "      <td>9</td>\n",
       "      <td>3148</td>\n",
       "      <td>2199</td>\n",
       "      <td>949</td>\n",
       "      <td>5.330000e-26</td>\n",
       "      <td>22.5111</td>\n",
       "      <td>10.7497</td>\n",
       "      <td>11.8058</td>\n",
       "      <td>8.3024</td>\n",
       "      <td>16920</td>\n",
       "      <td>2.95409</td>\n",
       "      <td>-11261.0810</td>\n",
       "      <td>1047.5990</td>\n",
       "      <td>True</td>\n",
       "    </tr>\n",
       "    <tr>\n",
       "      <th>3999</th>\n",
       "      <td>4000</td>\n",
       "      <td>973</td>\n",
       "      <td>0.000250</td>\n",
       "      <td>10</td>\n",
       "      <td>3986</td>\n",
       "      <td>2785</td>\n",
       "      <td>1201</td>\n",
       "      <td>6.750000e-26</td>\n",
       "      <td>25.5906</td>\n",
       "      <td>10.7371</td>\n",
       "      <td>11.7566</td>\n",
       "      <td>8.3730</td>\n",
       "      <td>21399</td>\n",
       "      <td>2.95285</td>\n",
       "      <td>-14264.3970</td>\n",
       "      <td>NaN</td>\n",
       "      <td>True</td>\n",
       "    </tr>\n",
       "  </tbody>\n",
       "</table>\n",
       "<p>4000 rows × 17 columns</p>\n",
       "</div>"
      ],
      "text/plain": [
       "        ID    T       tau  time  N_total  N_bulk  N_surface        Volume  \\\n",
       "0        1  273  0.000025     1     1599    1014        585  2.710000e-26   \n",
       "1        2  273  0.000025     2     1642    1034        608  2.780000e-26   \n",
       "2        3  273  0.000025     3     4637    3365       1272  7.850000e-26   \n",
       "3        4  273  0.000025     4     7189    5292       1897  1.220000e-25   \n",
       "4        5  273  0.000025     5    11004    8508       2496  1.860000e-25   \n",
       "...    ...  ...       ...   ...      ...     ...        ...           ...   \n",
       "3995  3996  973  0.000250     6     1509     950        559  2.550000e-26   \n",
       "3996  3997  973  0.000250     7     2315    1469        846  3.920000e-26   \n",
       "3997  3998  973  0.000250     8     2764    1905        859  4.680000e-26   \n",
       "3998  3999  973  0.000250     9     3148    2199        949  5.330000e-26   \n",
       "3999  4000  973  0.000250    10     3986    2785       1201  6.750000e-26   \n",
       "\n",
       "        R_avg  Avg_total  Avg_bulk  Avg_surf  N_bonds  Avg_bonds     Total_E  \\\n",
       "0     17.3706    11.1770   12.5552    8.7880     8936    2.92220  -5908.6345   \n",
       "1     17.6061    11.0719   12.4952    8.6513     9090    2.92505  -6035.4034   \n",
       "2     25.3692    11.3862   12.3902    8.7303    26399    2.92120 -17330.1660   \n",
       "3     29.7011    11.3198   12.3027    8.5778    40689    2.91181 -26937.2010   \n",
       "4     34.2831    11.3851   12.2159    8.5533    62641    2.91042 -41427.9010   \n",
       "...       ...        ...       ...       ...      ...        ...         ...   \n",
       "3995  17.4079    10.5010   11.8126    8.2719     7923    2.94491  -5346.9589   \n",
       "3996  21.2937    10.5114   11.7971    8.2790    12167    2.94709  -8218.1252   \n",
       "3997  21.4990    10.7127   11.7948    8.3132    14805    2.95349  -9876.2899   \n",
       "3998  22.5111    10.7497   11.8058    8.3024    16920    2.95409 -11261.0810   \n",
       "3999  25.5906    10.7371   11.7566    8.3730    21399    2.95285 -14264.3970   \n",
       "\n",
       "      Formation_E  paridad  \n",
       "0        343.4555    False  \n",
       "1        384.8166     True  \n",
       "2        800.5040    False  \n",
       "3       1171.7890    False  \n",
       "4       1597.7390     True  \n",
       "...           ...      ...  \n",
       "3995     553.2311    False  \n",
       "3996     833.5248    False  \n",
       "3997     930.9501     True  \n",
       "3998    1047.5990     True  \n",
       "3999          NaN     True  \n",
       "\n",
       "[4000 rows x 17 columns]"
      ]
     },
     "execution_count": 152,
     "metadata": {},
     "output_type": "execute_result"
    }
   ],
   "source": [
    "\n",
    "data_6"
   ]
  },
  {
   "cell_type": "code",
   "execution_count": null,
   "metadata": {},
   "outputs": [],
   "source": []
  }
 ],
 "metadata": {
  "interpreter": {
   "hash": "445205104a770911ae53d4ff7a59ff70b3e90228acbd85cde7f2b8827f0b2456"
  },
  "kernelspec": {
   "display_name": "Python 3.9.5 ('the_bridge_22')",
   "language": "python",
   "name": "python3"
  },
  "language_info": {
   "codemirror_mode": {
    "name": "ipython",
    "version": 3
   },
   "file_extension": ".py",
   "mimetype": "text/x-python",
   "name": "python",
   "nbconvert_exporter": "python",
   "pygments_lexer": "ipython3",
   "version": "3.9.5"
  },
  "orig_nbformat": 4
 },
 "nbformat": 4,
 "nbformat_minor": 2
}
