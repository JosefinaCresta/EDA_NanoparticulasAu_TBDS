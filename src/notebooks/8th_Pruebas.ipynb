{
 "cells": [
  {
   "cell_type": "markdown",
   "metadata": {},
   "source": []
  },
  {
   "cell_type": "markdown",
   "metadata": {},
   "source": [
    "\n",
    "## 5 th analisis \n",
    "### PARA: \n",
    "  `Distribución Energía-> Outliers + Distribucion Normal`\n",
    "==================================================================="
   ]
  },
  {
   "cell_type": "markdown",
   "metadata": {},
   "source": [
    "# ANALISIS DE DATOS DE NANOPARTICULAS DE ORO\n",
    "### EDA\n",
    "#### Autora: Josefina Cresta"
   ]
  },
  {
   "cell_type": "markdown",
   "metadata": {},
   "source": [
    "### Importación de librerias"
   ]
  },
  {
   "cell_type": "code",
   "execution_count": 12,
   "metadata": {},
   "outputs": [],
   "source": [
    "import pandas as pd\n",
    "import numpy as np\n",
    "import matplotlib as mpl\n",
    "import matplotlib.pyplot as plt\n",
    "%matplotlib inline\n",
    "\n",
    "# Tratamiento de datos\n",
    "# ==============================================================================\n",
    "import pandas as pd\n",
    "import numpy as np\n",
    "\n",
    "# Gráficos\n",
    "# ==============================================================================\n",
    "import matplotlib.pyplot as plt\n",
    "from matplotlib import style\n",
    "import seaborn as sns\n",
    "\n",
    "# Preprocesado y análisis\n",
    "# ==============================================================================\n",
    "import statsmodels.api as sm\n",
    "from scipy import stats\n",
    "\n",
    "# Configuración matplotlib\n",
    "# ==============================================================================\n",
    "#plt.style.use('ggplot')\n",
    "\n",
    "# Configuración warnings\n",
    "# ==============================================================================\n",
    "import warnings\n",
    "warnings.filterwarnings('ignore')"
   ]
  },
  {
   "cell_type": "markdown",
   "metadata": {},
   "source": [
    "## Importación de base de datos\n",
    "`y guardada de df vip`"
   ]
  },
  {
   "cell_type": "code",
   "execution_count": 80,
   "metadata": {},
   "outputs": [],
   "source": [
    "data_original = pd.read_csv(\"Au_nanoparticle_dataset.csv\")"
   ]
  },
  {
   "cell_type": "code",
   "execution_count": 87,
   "metadata": {},
   "outputs": [
    {
     "data": {
      "text/html": [
       "<div>\n",
       "<style scoped>\n",
       "    .dataframe tbody tr th:only-of-type {\n",
       "        vertical-align: middle;\n",
       "    }\n",
       "\n",
       "    .dataframe tbody tr th {\n",
       "        vertical-align: top;\n",
       "    }\n",
       "\n",
       "    .dataframe thead th {\n",
       "        text-align: right;\n",
       "    }\n",
       "</style>\n",
       "<table border=\"1\" class=\"dataframe\">\n",
       "  <thead>\n",
       "    <tr style=\"text-align: right;\">\n",
       "      <th></th>\n",
       "      <th>ID</th>\n",
       "      <th>T</th>\n",
       "      <th>tau</th>\n",
       "      <th>time</th>\n",
       "      <th>N_total</th>\n",
       "      <th>N_bulk</th>\n",
       "      <th>N_surface</th>\n",
       "      <th>Volume</th>\n",
       "      <th>R_avg</th>\n",
       "      <th>Avg_total</th>\n",
       "      <th>Avg_bulk</th>\n",
       "      <th>Avg_surf</th>\n",
       "      <th>N_bonds</th>\n",
       "      <th>Avg_bonds</th>\n",
       "      <th>Total_E</th>\n",
       "      <th>Formation_E</th>\n",
       "    </tr>\n",
       "  </thead>\n",
       "  <tbody>\n",
       "    <tr>\n",
       "      <th>0</th>\n",
       "      <td>1</td>\n",
       "      <td>273</td>\n",
       "      <td>0.000025</td>\n",
       "      <td>1</td>\n",
       "      <td>1599</td>\n",
       "      <td>1014</td>\n",
       "      <td>585</td>\n",
       "      <td>2.710000e-26</td>\n",
       "      <td>17.3706</td>\n",
       "      <td>11.1770</td>\n",
       "      <td>12.5552</td>\n",
       "      <td>8.7880</td>\n",
       "      <td>8936</td>\n",
       "      <td>2.92220</td>\n",
       "      <td>-5908.6345</td>\n",
       "      <td>343.4555</td>\n",
       "    </tr>\n",
       "    <tr>\n",
       "      <th>1</th>\n",
       "      <td>2</td>\n",
       "      <td>273</td>\n",
       "      <td>0.000025</td>\n",
       "      <td>2</td>\n",
       "      <td>1642</td>\n",
       "      <td>1034</td>\n",
       "      <td>608</td>\n",
       "      <td>2.780000e-26</td>\n",
       "      <td>17.6061</td>\n",
       "      <td>11.0719</td>\n",
       "      <td>12.4952</td>\n",
       "      <td>8.6513</td>\n",
       "      <td>9090</td>\n",
       "      <td>2.92505</td>\n",
       "      <td>-6035.4034</td>\n",
       "      <td>384.8166</td>\n",
       "    </tr>\n",
       "    <tr>\n",
       "      <th>2</th>\n",
       "      <td>3</td>\n",
       "      <td>273</td>\n",
       "      <td>0.000025</td>\n",
       "      <td>3</td>\n",
       "      <td>4637</td>\n",
       "      <td>3365</td>\n",
       "      <td>1272</td>\n",
       "      <td>7.850000e-26</td>\n",
       "      <td>25.3692</td>\n",
       "      <td>11.3862</td>\n",
       "      <td>12.3902</td>\n",
       "      <td>8.7303</td>\n",
       "      <td>26399</td>\n",
       "      <td>2.92120</td>\n",
       "      <td>-17330.1660</td>\n",
       "      <td>800.5040</td>\n",
       "    </tr>\n",
       "    <tr>\n",
       "      <th>3</th>\n",
       "      <td>4</td>\n",
       "      <td>273</td>\n",
       "      <td>0.000025</td>\n",
       "      <td>4</td>\n",
       "      <td>7189</td>\n",
       "      <td>5292</td>\n",
       "      <td>1897</td>\n",
       "      <td>1.220000e-25</td>\n",
       "      <td>29.7011</td>\n",
       "      <td>11.3198</td>\n",
       "      <td>12.3027</td>\n",
       "      <td>8.5778</td>\n",
       "      <td>40689</td>\n",
       "      <td>2.91181</td>\n",
       "      <td>-26937.2010</td>\n",
       "      <td>1171.7890</td>\n",
       "    </tr>\n",
       "  </tbody>\n",
       "</table>\n",
       "</div>"
      ],
      "text/plain": [
       "   ID    T       tau  time  N_total  N_bulk  N_surface        Volume    R_avg  \\\n",
       "0   1  273  0.000025     1     1599    1014        585  2.710000e-26  17.3706   \n",
       "1   2  273  0.000025     2     1642    1034        608  2.780000e-26  17.6061   \n",
       "2   3  273  0.000025     3     4637    3365       1272  7.850000e-26  25.3692   \n",
       "3   4  273  0.000025     4     7189    5292       1897  1.220000e-25  29.7011   \n",
       "\n",
       "   Avg_total  Avg_bulk  Avg_surf  N_bonds  Avg_bonds     Total_E  Formation_E  \n",
       "0    11.1770   12.5552    8.7880     8936    2.92220  -5908.6345     343.4555  \n",
       "1    11.0719   12.4952    8.6513     9090    2.92505  -6035.4034     384.8166  \n",
       "2    11.3862   12.3902    8.7303    26399    2.92120 -17330.1660     800.5040  \n",
       "3    11.3198   12.3027    8.5778    40689    2.91181 -26937.2010    1171.7890  "
      ]
     },
     "execution_count": 87,
     "metadata": {},
     "output_type": "execute_result"
    }
   ],
   "source": [
    "cols=['ID', 'T', 'tau', 'time', 'N_total', 'N_bulk', 'N_surface', 'Volume', 'R_avg','Avg_total', 'Avg_bulk', 'Avg_surf', 'N_bonds', 'Avg_bonds',  'Total_E', 'Formation_E']\n",
    "data= data_original.loc[:,cols]\n",
    "data\n",
    "data.head(4)"
   ]
  },
  {
   "cell_type": "code",
   "execution_count": 88,
   "metadata": {},
   "outputs": [],
   "source": [
    "#Lista de variables locales\n",
    "cols=['ID', 'T', 'tau', 'time', 'N_total', 'N_bulk', 'N_surface', 'Volume', 'R_avg','Avg_total', 'Avg_bulk', 'Avg_surf', 'N_bonds', 'Avg_bonds', 'Total_E', 'Formation_E']\n",
    "\n",
    "#Diccionario de traduccioón\n",
    "traduccion={\"ID\":           \"ID\",\n",
    "            \"T\":            \"Temp\",\n",
    "            \"tau\":          \"Crecimiento\", \n",
    "            \"time\":         \"Tiempo\", \n",
    "            \"N_total\":      \"N_total\",\n",
    "            \"N_bulk\":       \"N_bulk\",\n",
    "            \"N_surface\":    \"N_super\", \n",
    "            \"Volume\":       \"Volumen\",\n",
    "            \"R_avg\":        \"Radio\",\n",
    "            \"Avg_total\":    \"Coord_total\",\n",
    "            \"Avg_bulk\":     \"Coord_bulk\",\n",
    "            \"Avg_surf\":     \"Coord_super\",\n",
    "            \"N_bonds\":      \"N_enlaces\",\n",
    "            \"Avg_bonds\":    \"Long_enlaces\",\n",
    "            \"Total_E\":      \"Total_E\",\n",
    "            \"Formation_E\":  \"Energia_Forma\",\n",
    "}"
   ]
  },
  {
   "cell_type": "code",
   "execution_count": 89,
   "metadata": {},
   "outputs": [],
   "source": [
    "data = data[cols].rename(columns=traduccion)"
   ]
  },
  {
   "cell_type": "code",
   "execution_count": 90,
   "metadata": {},
   "outputs": [],
   "source": [
    "data[\"E_atomo\"]=data.Total_E/data.N_total\n"
   ]
  },
  {
   "cell_type": "code",
   "execution_count": 91,
   "metadata": {},
   "outputs": [],
   "source": [
    "cols=['FCC','HCP', 'ICOS','DECA']\n",
    "data_add= data_original.loc[:,cols]\n",
    "data = pd.concat([data,data_add], axis=1)\n"
   ]
  },
  {
   "cell_type": "code",
   "execution_count": 92,
   "metadata": {},
   "outputs": [
    {
     "data": {
      "text/html": [
       "<div>\n",
       "<style scoped>\n",
       "    .dataframe tbody tr th:only-of-type {\n",
       "        vertical-align: middle;\n",
       "    }\n",
       "\n",
       "    .dataframe tbody tr th {\n",
       "        vertical-align: top;\n",
       "    }\n",
       "\n",
       "    .dataframe thead th {\n",
       "        text-align: right;\n",
       "    }\n",
       "</style>\n",
       "<table border=\"1\" class=\"dataframe\">\n",
       "  <thead>\n",
       "    <tr style=\"text-align: right;\">\n",
       "      <th></th>\n",
       "      <th>ID</th>\n",
       "      <th>Temp</th>\n",
       "      <th>Crecimiento</th>\n",
       "      <th>Tiempo</th>\n",
       "      <th>N_total</th>\n",
       "      <th>N_bulk</th>\n",
       "      <th>N_super</th>\n",
       "      <th>Volumen</th>\n",
       "      <th>Radio</th>\n",
       "      <th>Coord_total</th>\n",
       "      <th>...</th>\n",
       "      <th>Coord_super</th>\n",
       "      <th>N_enlaces</th>\n",
       "      <th>Long_enlaces</th>\n",
       "      <th>Total_E</th>\n",
       "      <th>Energia_Forma</th>\n",
       "      <th>E_atomo</th>\n",
       "      <th>FCC</th>\n",
       "      <th>HCP</th>\n",
       "      <th>ICOS</th>\n",
       "      <th>DECA</th>\n",
       "    </tr>\n",
       "  </thead>\n",
       "  <tbody>\n",
       "    <tr>\n",
       "      <th>705</th>\n",
       "      <td>706</td>\n",
       "      <td>323</td>\n",
       "      <td>0.000000</td>\n",
       "      <td>10</td>\n",
       "      <td>4495</td>\n",
       "      <td>2934</td>\n",
       "      <td>1561</td>\n",
       "      <td>7.610000e-26</td>\n",
       "      <td>27.3728</td>\n",
       "      <td>10.9437</td>\n",
       "      <td>...</td>\n",
       "      <td>8.7687</td>\n",
       "      <td>24596</td>\n",
       "      <td>2.88509</td>\n",
       "      <td>-16669.9860</td>\n",
       "      <td>905.4640</td>\n",
       "      <td>-3.708562</td>\n",
       "      <td>2590</td>\n",
       "      <td>17</td>\n",
       "      <td>0</td>\n",
       "      <td>0</td>\n",
       "    </tr>\n",
       "    <tr>\n",
       "      <th>436</th>\n",
       "      <td>437</td>\n",
       "      <td>323</td>\n",
       "      <td>0.000000</td>\n",
       "      <td>10</td>\n",
       "      <td>1228</td>\n",
       "      <td>766</td>\n",
       "      <td>462</td>\n",
       "      <td>2.080000e-26</td>\n",
       "      <td>15.8463</td>\n",
       "      <td>10.6759</td>\n",
       "      <td>...</td>\n",
       "      <td>8.4026</td>\n",
       "      <td>6555</td>\n",
       "      <td>2.87741</td>\n",
       "      <td>-4512.1914</td>\n",
       "      <td>289.2886</td>\n",
       "      <td>-3.674423</td>\n",
       "      <td>514</td>\n",
       "      <td>194</td>\n",
       "      <td>0</td>\n",
       "      <td>11</td>\n",
       "    </tr>\n",
       "    <tr>\n",
       "      <th>2940</th>\n",
       "      <td>2941</td>\n",
       "      <td>773</td>\n",
       "      <td>0.000125</td>\n",
       "      <td>1</td>\n",
       "      <td>1088</td>\n",
       "      <td>641</td>\n",
       "      <td>447</td>\n",
       "      <td>1.840000e-26</td>\n",
       "      <td>15.3236</td>\n",
       "      <td>10.4982</td>\n",
       "      <td>...</td>\n",
       "      <td>8.2953</td>\n",
       "      <td>5711</td>\n",
       "      <td>2.93509</td>\n",
       "      <td>-3869.9724</td>\n",
       "      <td>384.1076</td>\n",
       "      <td>-3.556960</td>\n",
       "      <td>0</td>\n",
       "      <td>0</td>\n",
       "      <td>0</td>\n",
       "      <td>1</td>\n",
       "    </tr>\n",
       "    <tr>\n",
       "      <th>1992</th>\n",
       "      <td>1993</td>\n",
       "      <td>573</td>\n",
       "      <td>0.000250</td>\n",
       "      <td>3</td>\n",
       "      <td>808</td>\n",
       "      <td>438</td>\n",
       "      <td>370</td>\n",
       "      <td>1.370000e-26</td>\n",
       "      <td>13.8432</td>\n",
       "      <td>10.6782</td>\n",
       "      <td>...</td>\n",
       "      <td>8.4838</td>\n",
       "      <td>4314</td>\n",
       "      <td>2.92924</td>\n",
       "      <td>-2910.6955</td>\n",
       "      <td>248.5845</td>\n",
       "      <td>-3.602346</td>\n",
       "      <td>10</td>\n",
       "      <td>7</td>\n",
       "      <td>0</td>\n",
       "      <td>0</td>\n",
       "    </tr>\n",
       "    <tr>\n",
       "      <th>3699</th>\n",
       "      <td>3700</td>\n",
       "      <td>923</td>\n",
       "      <td>0.000000</td>\n",
       "      <td>10</td>\n",
       "      <td>3999</td>\n",
       "      <td>2913</td>\n",
       "      <td>1086</td>\n",
       "      <td>6.770000e-26</td>\n",
       "      <td>24.3290</td>\n",
       "      <td>11.1623</td>\n",
       "      <td>...</td>\n",
       "      <td>8.4972</td>\n",
       "      <td>22319</td>\n",
       "      <td>2.93973</td>\n",
       "      <td>-14175.9980</td>\n",
       "      <td>1460.0920</td>\n",
       "      <td>-3.544886</td>\n",
       "      <td>586</td>\n",
       "      <td>62</td>\n",
       "      <td>0</td>\n",
       "      <td>0</td>\n",
       "    </tr>\n",
       "    <tr>\n",
       "      <th>3776</th>\n",
       "      <td>3777</td>\n",
       "      <td>923</td>\n",
       "      <td>0.000000</td>\n",
       "      <td>10</td>\n",
       "      <td>10095</td>\n",
       "      <td>7898</td>\n",
       "      <td>2197</td>\n",
       "      <td>1.710000e-25</td>\n",
       "      <td>33.8354</td>\n",
       "      <td>11.4415</td>\n",
       "      <td>...</td>\n",
       "      <td>8.8275</td>\n",
       "      <td>57751</td>\n",
       "      <td>2.94096</td>\n",
       "      <td>-36205.8100</td>\n",
       "      <td>3265.6400</td>\n",
       "      <td>-3.586509</td>\n",
       "      <td>2380</td>\n",
       "      <td>2</td>\n",
       "      <td>0</td>\n",
       "      <td>0</td>\n",
       "    </tr>\n",
       "  </tbody>\n",
       "</table>\n",
       "<p>6 rows × 21 columns</p>\n",
       "</div>"
      ],
      "text/plain": [
       "        ID  Temp  Crecimiento  Tiempo  N_total  N_bulk  N_super       Volumen  \\\n",
       "705    706   323     0.000000      10     4495    2934     1561  7.610000e-26   \n",
       "436    437   323     0.000000      10     1228     766      462  2.080000e-26   \n",
       "2940  2941   773     0.000125       1     1088     641      447  1.840000e-26   \n",
       "1992  1993   573     0.000250       3      808     438      370  1.370000e-26   \n",
       "3699  3700   923     0.000000      10     3999    2913     1086  6.770000e-26   \n",
       "3776  3777   923     0.000000      10    10095    7898     2197  1.710000e-25   \n",
       "\n",
       "        Radio  Coord_total  ...  Coord_super  N_enlaces  Long_enlaces  \\\n",
       "705   27.3728      10.9437  ...       8.7687      24596       2.88509   \n",
       "436   15.8463      10.6759  ...       8.4026       6555       2.87741   \n",
       "2940  15.3236      10.4982  ...       8.2953       5711       2.93509   \n",
       "1992  13.8432      10.6782  ...       8.4838       4314       2.92924   \n",
       "3699  24.3290      11.1623  ...       8.4972      22319       2.93973   \n",
       "3776  33.8354      11.4415  ...       8.8275      57751       2.94096   \n",
       "\n",
       "         Total_E  Energia_Forma   E_atomo   FCC  HCP  ICOS  DECA  \n",
       "705  -16669.9860       905.4640 -3.708562  2590   17     0     0  \n",
       "436   -4512.1914       289.2886 -3.674423   514  194     0    11  \n",
       "2940  -3869.9724       384.1076 -3.556960     0    0     0     1  \n",
       "1992  -2910.6955       248.5845 -3.602346    10    7     0     0  \n",
       "3699 -14175.9980      1460.0920 -3.544886   586   62     0     0  \n",
       "3776 -36205.8100      3265.6400 -3.586509  2380    2     0     0  \n",
       "\n",
       "[6 rows x 21 columns]"
      ]
     },
     "execution_count": 92,
     "metadata": {},
     "output_type": "execute_result"
    }
   ],
   "source": [
    "data.sample(6)"
   ]
  },
  {
   "cell_type": "code",
   "execution_count": 99,
   "metadata": {},
   "outputs": [
    {
     "data": {
      "text/html": [
       "<div>\n",
       "<style scoped>\n",
       "    .dataframe tbody tr th:only-of-type {\n",
       "        vertical-align: middle;\n",
       "    }\n",
       "\n",
       "    .dataframe tbody tr th {\n",
       "        vertical-align: top;\n",
       "    }\n",
       "\n",
       "    .dataframe thead th {\n",
       "        text-align: right;\n",
       "    }\n",
       "</style>\n",
       "<table border=\"1\" class=\"dataframe\">\n",
       "  <thead>\n",
       "    <tr style=\"text-align: right;\">\n",
       "      <th></th>\n",
       "      <th>FCC</th>\n",
       "      <th>HCP</th>\n",
       "      <th>ICOS</th>\n",
       "      <th>DECA</th>\n",
       "    </tr>\n",
       "  </thead>\n",
       "  <tbody>\n",
       "    <tr>\n",
       "      <th>0</th>\n",
       "      <td>24</td>\n",
       "      <td>23</td>\n",
       "      <td>2</td>\n",
       "      <td>8</td>\n",
       "    </tr>\n",
       "    <tr>\n",
       "      <th>1</th>\n",
       "      <td>30</td>\n",
       "      <td>35</td>\n",
       "      <td>1</td>\n",
       "      <td>7</td>\n",
       "    </tr>\n",
       "    <tr>\n",
       "      <th>2</th>\n",
       "      <td>700</td>\n",
       "      <td>376</td>\n",
       "      <td>0</td>\n",
       "      <td>17</td>\n",
       "    </tr>\n",
       "    <tr>\n",
       "      <th>3</th>\n",
       "      <td>1858</td>\n",
       "      <td>823</td>\n",
       "      <td>0</td>\n",
       "      <td>11</td>\n",
       "    </tr>\n",
       "    <tr>\n",
       "      <th>4</th>\n",
       "      <td>3575</td>\n",
       "      <td>1350</td>\n",
       "      <td>0</td>\n",
       "      <td>28</td>\n",
       "    </tr>\n",
       "    <tr>\n",
       "      <th>...</th>\n",
       "      <td>...</td>\n",
       "      <td>...</td>\n",
       "      <td>...</td>\n",
       "      <td>...</td>\n",
       "    </tr>\n",
       "    <tr>\n",
       "      <th>3995</th>\n",
       "      <td>0</td>\n",
       "      <td>0</td>\n",
       "      <td>0</td>\n",
       "      <td>0</td>\n",
       "    </tr>\n",
       "    <tr>\n",
       "      <th>3996</th>\n",
       "      <td>0</td>\n",
       "      <td>0</td>\n",
       "      <td>0</td>\n",
       "      <td>0</td>\n",
       "    </tr>\n",
       "    <tr>\n",
       "      <th>3997</th>\n",
       "      <td>0</td>\n",
       "      <td>0</td>\n",
       "      <td>0</td>\n",
       "      <td>0</td>\n",
       "    </tr>\n",
       "    <tr>\n",
       "      <th>3998</th>\n",
       "      <td>1</td>\n",
       "      <td>1</td>\n",
       "      <td>0</td>\n",
       "      <td>1</td>\n",
       "    </tr>\n",
       "    <tr>\n",
       "      <th>3999</th>\n",
       "      <td>0</td>\n",
       "      <td>0</td>\n",
       "      <td>0</td>\n",
       "      <td>0</td>\n",
       "    </tr>\n",
       "  </tbody>\n",
       "</table>\n",
       "<p>4000 rows × 4 columns</p>\n",
       "</div>"
      ],
      "text/plain": [
       "       FCC   HCP  ICOS  DECA\n",
       "0       24    23     2     8\n",
       "1       30    35     1     7\n",
       "2      700   376     0    17\n",
       "3     1858   823     0    11\n",
       "4     3575  1350     0    28\n",
       "...    ...   ...   ...   ...\n",
       "3995     0     0     0     0\n",
       "3996     0     0     0     0\n",
       "3997     0     0     0     0\n",
       "3998     1     1     0     1\n",
       "3999     0     0     0     0\n",
       "\n",
       "[4000 rows x 4 columns]"
      ]
     },
     "execution_count": 99,
     "metadata": {},
     "output_type": "execute_result"
    }
   ],
   "source": [
    "data.loc[:,['FCC', 'HCP', 'ICOS', 'DECA']].index()"
   ]
  },
  {
   "cell_type": "code",
   "execution_count": 108,
   "metadata": {},
   "outputs": [
    {
     "data": {
      "text/plain": [
       "0         57.0\n",
       "1         73.0\n",
       "2       1093.0\n",
       "3       2692.0\n",
       "4       4953.0\n",
       "         ...  \n",
       "3995       0.0\n",
       "3996       0.0\n",
       "3997       0.0\n",
       "3998       3.0\n",
       "3999       0.0\n",
       "Length: 4000, dtype: float64"
      ]
     },
     "execution_count": 108,
     "metadata": {},
     "output_type": "execute_result"
    }
   ],
   "source": [
    "config = data.apply(lambda row: row['FCC']+row['HCP']+row['ICOS']+row['DECA'], axis=1)\n",
    "config"
   ]
  },
  {
   "cell_type": "code",
   "execution_count": 109,
   "metadata": {},
   "outputs": [],
   "source": [
    "data[\"Estructuras\"]=config"
   ]
  },
  {
   "cell_type": "code",
   "execution_count": 110,
   "metadata": {},
   "outputs": [
    {
     "data": {
      "text/plain": [
       "Index(['ID', 'Temp', 'Crecimiento', 'Tiempo', 'N_total', 'N_bulk', 'N_super',\n",
       "       'Volumen', 'Radio', 'Coord_total', 'Coord_bulk', 'Coord_super',\n",
       "       'N_enlaces', 'Long_enlaces', 'Total_E', 'Energia_Forma', 'E_atomo',\n",
       "       'FCC', 'HCP', 'ICOS', 'DECA', 'Estructuras'],\n",
       "      dtype='object')"
      ]
     },
     "execution_count": 110,
     "metadata": {},
     "output_type": "execute_result"
    }
   ],
   "source": [
    "data.columns\n"
   ]
  },
  {
   "cell_type": "code",
   "execution_count": 111,
   "metadata": {},
   "outputs": [
    {
     "data": {
      "text/html": [
       "<div>\n",
       "<style scoped>\n",
       "    .dataframe tbody tr th:only-of-type {\n",
       "        vertical-align: middle;\n",
       "    }\n",
       "\n",
       "    .dataframe tbody tr th {\n",
       "        vertical-align: top;\n",
       "    }\n",
       "\n",
       "    .dataframe thead th {\n",
       "        text-align: right;\n",
       "    }\n",
       "</style>\n",
       "<table border=\"1\" class=\"dataframe\">\n",
       "  <thead>\n",
       "    <tr style=\"text-align: right;\">\n",
       "      <th></th>\n",
       "      <th>ID</th>\n",
       "      <th>Temp</th>\n",
       "      <th>Crecimiento</th>\n",
       "      <th>Tiempo</th>\n",
       "      <th>N_total</th>\n",
       "      <th>N_bulk</th>\n",
       "      <th>N_super</th>\n",
       "      <th>Volumen</th>\n",
       "      <th>Radio</th>\n",
       "      <th>Coord_total</th>\n",
       "      <th>...</th>\n",
       "      <th>N_enlaces</th>\n",
       "      <th>Long_enlaces</th>\n",
       "      <th>Total_E</th>\n",
       "      <th>Energia_Forma</th>\n",
       "      <th>E_atomo</th>\n",
       "      <th>FCC</th>\n",
       "      <th>HCP</th>\n",
       "      <th>ICOS</th>\n",
       "      <th>DECA</th>\n",
       "      <th>Estructuras</th>\n",
       "    </tr>\n",
       "  </thead>\n",
       "  <tbody>\n",
       "    <tr>\n",
       "      <th>0</th>\n",
       "      <td>1</td>\n",
       "      <td>273</td>\n",
       "      <td>0.000025</td>\n",
       "      <td>1</td>\n",
       "      <td>1599</td>\n",
       "      <td>1014</td>\n",
       "      <td>585</td>\n",
       "      <td>2.710000e-26</td>\n",
       "      <td>17.3706</td>\n",
       "      <td>11.1770</td>\n",
       "      <td>...</td>\n",
       "      <td>8936</td>\n",
       "      <td>2.92220</td>\n",
       "      <td>-5908.6345</td>\n",
       "      <td>343.4555</td>\n",
       "      <td>-3.695206</td>\n",
       "      <td>24</td>\n",
       "      <td>23</td>\n",
       "      <td>2</td>\n",
       "      <td>8</td>\n",
       "      <td>57.0</td>\n",
       "    </tr>\n",
       "    <tr>\n",
       "      <th>1</th>\n",
       "      <td>2</td>\n",
       "      <td>273</td>\n",
       "      <td>0.000025</td>\n",
       "      <td>2</td>\n",
       "      <td>1642</td>\n",
       "      <td>1034</td>\n",
       "      <td>608</td>\n",
       "      <td>2.780000e-26</td>\n",
       "      <td>17.6061</td>\n",
       "      <td>11.0719</td>\n",
       "      <td>...</td>\n",
       "      <td>9090</td>\n",
       "      <td>2.92505</td>\n",
       "      <td>-6035.4034</td>\n",
       "      <td>384.8166</td>\n",
       "      <td>-3.675642</td>\n",
       "      <td>30</td>\n",
       "      <td>35</td>\n",
       "      <td>1</td>\n",
       "      <td>7</td>\n",
       "      <td>73.0</td>\n",
       "    </tr>\n",
       "    <tr>\n",
       "      <th>2</th>\n",
       "      <td>3</td>\n",
       "      <td>273</td>\n",
       "      <td>0.000025</td>\n",
       "      <td>3</td>\n",
       "      <td>4637</td>\n",
       "      <td>3365</td>\n",
       "      <td>1272</td>\n",
       "      <td>7.850000e-26</td>\n",
       "      <td>25.3692</td>\n",
       "      <td>11.3862</td>\n",
       "      <td>...</td>\n",
       "      <td>26399</td>\n",
       "      <td>2.92120</td>\n",
       "      <td>-17330.1660</td>\n",
       "      <td>800.5040</td>\n",
       "      <td>-3.737366</td>\n",
       "      <td>700</td>\n",
       "      <td>376</td>\n",
       "      <td>0</td>\n",
       "      <td>17</td>\n",
       "      <td>1093.0</td>\n",
       "    </tr>\n",
       "    <tr>\n",
       "      <th>3</th>\n",
       "      <td>4</td>\n",
       "      <td>273</td>\n",
       "      <td>0.000025</td>\n",
       "      <td>4</td>\n",
       "      <td>7189</td>\n",
       "      <td>5292</td>\n",
       "      <td>1897</td>\n",
       "      <td>1.220000e-25</td>\n",
       "      <td>29.7011</td>\n",
       "      <td>11.3198</td>\n",
       "      <td>...</td>\n",
       "      <td>40689</td>\n",
       "      <td>2.91181</td>\n",
       "      <td>-26937.2010</td>\n",
       "      <td>1171.7890</td>\n",
       "      <td>-3.747003</td>\n",
       "      <td>1858</td>\n",
       "      <td>823</td>\n",
       "      <td>0</td>\n",
       "      <td>11</td>\n",
       "      <td>2692.0</td>\n",
       "    </tr>\n",
       "    <tr>\n",
       "      <th>4</th>\n",
       "      <td>5</td>\n",
       "      <td>273</td>\n",
       "      <td>0.000025</td>\n",
       "      <td>5</td>\n",
       "      <td>11004</td>\n",
       "      <td>8508</td>\n",
       "      <td>2496</td>\n",
       "      <td>1.860000e-25</td>\n",
       "      <td>34.2831</td>\n",
       "      <td>11.3851</td>\n",
       "      <td>...</td>\n",
       "      <td>62641</td>\n",
       "      <td>2.91042</td>\n",
       "      <td>-41427.9010</td>\n",
       "      <td>1597.7390</td>\n",
       "      <td>-3.764804</td>\n",
       "      <td>3575</td>\n",
       "      <td>1350</td>\n",
       "      <td>0</td>\n",
       "      <td>28</td>\n",
       "      <td>4953.0</td>\n",
       "    </tr>\n",
       "    <tr>\n",
       "      <th>...</th>\n",
       "      <td>...</td>\n",
       "      <td>...</td>\n",
       "      <td>...</td>\n",
       "      <td>...</td>\n",
       "      <td>...</td>\n",
       "      <td>...</td>\n",
       "      <td>...</td>\n",
       "      <td>...</td>\n",
       "      <td>...</td>\n",
       "      <td>...</td>\n",
       "      <td>...</td>\n",
       "      <td>...</td>\n",
       "      <td>...</td>\n",
       "      <td>...</td>\n",
       "      <td>...</td>\n",
       "      <td>...</td>\n",
       "      <td>...</td>\n",
       "      <td>...</td>\n",
       "      <td>...</td>\n",
       "      <td>...</td>\n",
       "      <td>...</td>\n",
       "    </tr>\n",
       "    <tr>\n",
       "      <th>3995</th>\n",
       "      <td>3996</td>\n",
       "      <td>973</td>\n",
       "      <td>0.000250</td>\n",
       "      <td>6</td>\n",
       "      <td>1509</td>\n",
       "      <td>950</td>\n",
       "      <td>559</td>\n",
       "      <td>2.550000e-26</td>\n",
       "      <td>17.4079</td>\n",
       "      <td>10.5010</td>\n",
       "      <td>...</td>\n",
       "      <td>7923</td>\n",
       "      <td>2.94491</td>\n",
       "      <td>-5346.9589</td>\n",
       "      <td>553.2311</td>\n",
       "      <td>-3.543379</td>\n",
       "      <td>0</td>\n",
       "      <td>0</td>\n",
       "      <td>0</td>\n",
       "      <td>0</td>\n",
       "      <td>0.0</td>\n",
       "    </tr>\n",
       "    <tr>\n",
       "      <th>3996</th>\n",
       "      <td>3997</td>\n",
       "      <td>973</td>\n",
       "      <td>0.000250</td>\n",
       "      <td>7</td>\n",
       "      <td>2315</td>\n",
       "      <td>1469</td>\n",
       "      <td>846</td>\n",
       "      <td>3.920000e-26</td>\n",
       "      <td>21.2937</td>\n",
       "      <td>10.5114</td>\n",
       "      <td>...</td>\n",
       "      <td>12167</td>\n",
       "      <td>2.94709</td>\n",
       "      <td>-8218.1252</td>\n",
       "      <td>833.5248</td>\n",
       "      <td>-3.549946</td>\n",
       "      <td>0</td>\n",
       "      <td>0</td>\n",
       "      <td>0</td>\n",
       "      <td>0</td>\n",
       "      <td>0.0</td>\n",
       "    </tr>\n",
       "    <tr>\n",
       "      <th>3997</th>\n",
       "      <td>3998</td>\n",
       "      <td>973</td>\n",
       "      <td>0.000250</td>\n",
       "      <td>8</td>\n",
       "      <td>2764</td>\n",
       "      <td>1905</td>\n",
       "      <td>859</td>\n",
       "      <td>4.680000e-26</td>\n",
       "      <td>21.4990</td>\n",
       "      <td>10.7127</td>\n",
       "      <td>...</td>\n",
       "      <td>14805</td>\n",
       "      <td>2.95349</td>\n",
       "      <td>-9876.2899</td>\n",
       "      <td>930.9501</td>\n",
       "      <td>-3.573187</td>\n",
       "      <td>0</td>\n",
       "      <td>0</td>\n",
       "      <td>0</td>\n",
       "      <td>0</td>\n",
       "      <td>0.0</td>\n",
       "    </tr>\n",
       "    <tr>\n",
       "      <th>3998</th>\n",
       "      <td>3999</td>\n",
       "      <td>973</td>\n",
       "      <td>0.000250</td>\n",
       "      <td>9</td>\n",
       "      <td>3148</td>\n",
       "      <td>2199</td>\n",
       "      <td>949</td>\n",
       "      <td>5.330000e-26</td>\n",
       "      <td>22.5111</td>\n",
       "      <td>10.7497</td>\n",
       "      <td>...</td>\n",
       "      <td>16920</td>\n",
       "      <td>2.95409</td>\n",
       "      <td>-11261.0810</td>\n",
       "      <td>1047.5990</td>\n",
       "      <td>-3.577218</td>\n",
       "      <td>1</td>\n",
       "      <td>1</td>\n",
       "      <td>0</td>\n",
       "      <td>1</td>\n",
       "      <td>3.0</td>\n",
       "    </tr>\n",
       "    <tr>\n",
       "      <th>3999</th>\n",
       "      <td>4000</td>\n",
       "      <td>973</td>\n",
       "      <td>0.000250</td>\n",
       "      <td>10</td>\n",
       "      <td>3986</td>\n",
       "      <td>2785</td>\n",
       "      <td>1201</td>\n",
       "      <td>6.750000e-26</td>\n",
       "      <td>25.5906</td>\n",
       "      <td>10.7371</td>\n",
       "      <td>...</td>\n",
       "      <td>21399</td>\n",
       "      <td>2.95285</td>\n",
       "      <td>-14264.3970</td>\n",
       "      <td>NaN</td>\n",
       "      <td>-3.578624</td>\n",
       "      <td>0</td>\n",
       "      <td>0</td>\n",
       "      <td>0</td>\n",
       "      <td>0</td>\n",
       "      <td>0.0</td>\n",
       "    </tr>\n",
       "  </tbody>\n",
       "</table>\n",
       "<p>4000 rows × 22 columns</p>\n",
       "</div>"
      ],
      "text/plain": [
       "        ID  Temp  Crecimiento  Tiempo  N_total  N_bulk  N_super       Volumen  \\\n",
       "0        1   273     0.000025       1     1599    1014      585  2.710000e-26   \n",
       "1        2   273     0.000025       2     1642    1034      608  2.780000e-26   \n",
       "2        3   273     0.000025       3     4637    3365     1272  7.850000e-26   \n",
       "3        4   273     0.000025       4     7189    5292     1897  1.220000e-25   \n",
       "4        5   273     0.000025       5    11004    8508     2496  1.860000e-25   \n",
       "...    ...   ...          ...     ...      ...     ...      ...           ...   \n",
       "3995  3996   973     0.000250       6     1509     950      559  2.550000e-26   \n",
       "3996  3997   973     0.000250       7     2315    1469      846  3.920000e-26   \n",
       "3997  3998   973     0.000250       8     2764    1905      859  4.680000e-26   \n",
       "3998  3999   973     0.000250       9     3148    2199      949  5.330000e-26   \n",
       "3999  4000   973     0.000250      10     3986    2785     1201  6.750000e-26   \n",
       "\n",
       "        Radio  Coord_total  ...  N_enlaces  Long_enlaces     Total_E  \\\n",
       "0     17.3706      11.1770  ...       8936       2.92220  -5908.6345   \n",
       "1     17.6061      11.0719  ...       9090       2.92505  -6035.4034   \n",
       "2     25.3692      11.3862  ...      26399       2.92120 -17330.1660   \n",
       "3     29.7011      11.3198  ...      40689       2.91181 -26937.2010   \n",
       "4     34.2831      11.3851  ...      62641       2.91042 -41427.9010   \n",
       "...       ...          ...  ...        ...           ...         ...   \n",
       "3995  17.4079      10.5010  ...       7923       2.94491  -5346.9589   \n",
       "3996  21.2937      10.5114  ...      12167       2.94709  -8218.1252   \n",
       "3997  21.4990      10.7127  ...      14805       2.95349  -9876.2899   \n",
       "3998  22.5111      10.7497  ...      16920       2.95409 -11261.0810   \n",
       "3999  25.5906      10.7371  ...      21399       2.95285 -14264.3970   \n",
       "\n",
       "      Energia_Forma   E_atomo   FCC   HCP  ICOS  DECA  Estructuras  \n",
       "0          343.4555 -3.695206    24    23     2     8         57.0  \n",
       "1          384.8166 -3.675642    30    35     1     7         73.0  \n",
       "2          800.5040 -3.737366   700   376     0    17       1093.0  \n",
       "3         1171.7890 -3.747003  1858   823     0    11       2692.0  \n",
       "4         1597.7390 -3.764804  3575  1350     0    28       4953.0  \n",
       "...             ...       ...   ...   ...   ...   ...          ...  \n",
       "3995       553.2311 -3.543379     0     0     0     0          0.0  \n",
       "3996       833.5248 -3.549946     0     0     0     0          0.0  \n",
       "3997       930.9501 -3.573187     0     0     0     0          0.0  \n",
       "3998      1047.5990 -3.577218     1     1     0     1          3.0  \n",
       "3999            NaN -3.578624     0     0     0     0          0.0  \n",
       "\n",
       "[4000 rows x 22 columns]"
      ]
     },
     "execution_count": 111,
     "metadata": {},
     "output_type": "execute_result"
    }
   ],
   "source": [
    "data"
   ]
  },
  {
   "cell_type": "code",
   "execution_count": 112,
   "metadata": {},
   "outputs": [
    {
     "data": {
      "text/plain": [
       "ID                 int64\n",
       "Temp               int64\n",
       "Crecimiento      float64\n",
       "Tiempo             int64\n",
       "N_total            int64\n",
       "N_bulk             int64\n",
       "N_super            int64\n",
       "Volumen          float64\n",
       "Radio            float64\n",
       "Coord_total      float64\n",
       "Coord_bulk       float64\n",
       "Coord_super      float64\n",
       "N_enlaces          int64\n",
       "Long_enlaces     float64\n",
       "Total_E          float64\n",
       "Energia_Forma    float64\n",
       "E_atomo          float64\n",
       "FCC                int64\n",
       "HCP                int64\n",
       "ICOS               int64\n",
       "DECA               int64\n",
       "Estructuras      float64\n",
       "dtype: object"
      ]
     },
     "execution_count": 112,
     "metadata": {},
     "output_type": "execute_result"
    }
   ],
   "source": [
    "data.dtypes"
   ]
  },
  {
   "cell_type": "code",
   "execution_count": 113,
   "metadata": {},
   "outputs": [],
   "source": [
    "data.to_csv(\"./Au_Nano_principal.csv\", index=False)"
   ]
  },
  {
   "cell_type": "code",
   "execution_count": null,
   "metadata": {},
   "outputs": [],
   "source": []
  },
  {
   "cell_type": "markdown",
   "metadata": {},
   "source": [
    "# Analisis de la distirbución de energia"
   ]
  },
  {
   "cell_type": "markdown",
   "metadata": {},
   "source": [
    "Analicemos la funcion densidad de probabilidad de a energía. Que como vimos en el IPYNB 6 no sigue una distribución normal."
   ]
  },
  {
   "cell_type": "code",
   "execution_count": null,
   "metadata": {},
   "outputs": [
    {
     "data": {
      "text/html": [
       "<div>\n",
       "<style scoped>\n",
       "    .dataframe tbody tr th:only-of-type {\n",
       "        vertical-align: middle;\n",
       "    }\n",
       "\n",
       "    .dataframe tbody tr th {\n",
       "        vertical-align: top;\n",
       "    }\n",
       "\n",
       "    .dataframe thead th {\n",
       "        text-align: right;\n",
       "    }\n",
       "</style>\n",
       "<table border=\"1\" class=\"dataframe\">\n",
       "  <thead>\n",
       "    <tr style=\"text-align: right;\">\n",
       "      <th></th>\n",
       "      <th>ID</th>\n",
       "      <th>Temp</th>\n",
       "      <th>Crecimiento</th>\n",
       "      <th>Tiempo</th>\n",
       "      <th>N_total</th>\n",
       "      <th>N_bulk</th>\n",
       "      <th>N_super</th>\n",
       "      <th>Volumen</th>\n",
       "      <th>Radio</th>\n",
       "      <th>Coord_all</th>\n",
       "      <th>Coord_bulk</th>\n",
       "      <th>Coord_super</th>\n",
       "      <th>N_enlaces</th>\n",
       "      <th>Long_enlaces</th>\n",
       "      <th>Total_E</th>\n",
       "      <th>Energia_Forma</th>\n",
       "    </tr>\n",
       "  </thead>\n",
       "  <tbody>\n",
       "    <tr>\n",
       "      <th>0</th>\n",
       "      <td>1</td>\n",
       "      <td>273</td>\n",
       "      <td>0.000025</td>\n",
       "      <td>1</td>\n",
       "      <td>1599</td>\n",
       "      <td>1014</td>\n",
       "      <td>585</td>\n",
       "      <td>2.710000e-26</td>\n",
       "      <td>17.3706</td>\n",
       "      <td>11.1770</td>\n",
       "      <td>12.5552</td>\n",
       "      <td>8.7880</td>\n",
       "      <td>8936</td>\n",
       "      <td>2.92220</td>\n",
       "      <td>-5908.6345</td>\n",
       "      <td>343.4555</td>\n",
       "    </tr>\n",
       "    <tr>\n",
       "      <th>1</th>\n",
       "      <td>2</td>\n",
       "      <td>273</td>\n",
       "      <td>0.000025</td>\n",
       "      <td>2</td>\n",
       "      <td>1642</td>\n",
       "      <td>1034</td>\n",
       "      <td>608</td>\n",
       "      <td>2.780000e-26</td>\n",
       "      <td>17.6061</td>\n",
       "      <td>11.0719</td>\n",
       "      <td>12.4952</td>\n",
       "      <td>8.6513</td>\n",
       "      <td>9090</td>\n",
       "      <td>2.92505</td>\n",
       "      <td>-6035.4034</td>\n",
       "      <td>384.8166</td>\n",
       "    </tr>\n",
       "    <tr>\n",
       "      <th>2</th>\n",
       "      <td>3</td>\n",
       "      <td>273</td>\n",
       "      <td>0.000025</td>\n",
       "      <td>3</td>\n",
       "      <td>4637</td>\n",
       "      <td>3365</td>\n",
       "      <td>1272</td>\n",
       "      <td>7.850000e-26</td>\n",
       "      <td>25.3692</td>\n",
       "      <td>11.3862</td>\n",
       "      <td>12.3902</td>\n",
       "      <td>8.7303</td>\n",
       "      <td>26399</td>\n",
       "      <td>2.92120</td>\n",
       "      <td>-17330.1660</td>\n",
       "      <td>800.5040</td>\n",
       "    </tr>\n",
       "    <tr>\n",
       "      <th>3</th>\n",
       "      <td>4</td>\n",
       "      <td>273</td>\n",
       "      <td>0.000025</td>\n",
       "      <td>4</td>\n",
       "      <td>7189</td>\n",
       "      <td>5292</td>\n",
       "      <td>1897</td>\n",
       "      <td>1.220000e-25</td>\n",
       "      <td>29.7011</td>\n",
       "      <td>11.3198</td>\n",
       "      <td>12.3027</td>\n",
       "      <td>8.5778</td>\n",
       "      <td>40689</td>\n",
       "      <td>2.91181</td>\n",
       "      <td>-26937.2010</td>\n",
       "      <td>1171.7890</td>\n",
       "    </tr>\n",
       "    <tr>\n",
       "      <th>4</th>\n",
       "      <td>5</td>\n",
       "      <td>273</td>\n",
       "      <td>0.000025</td>\n",
       "      <td>5</td>\n",
       "      <td>11004</td>\n",
       "      <td>8508</td>\n",
       "      <td>2496</td>\n",
       "      <td>1.860000e-25</td>\n",
       "      <td>34.2831</td>\n",
       "      <td>11.3851</td>\n",
       "      <td>12.2159</td>\n",
       "      <td>8.5533</td>\n",
       "      <td>62641</td>\n",
       "      <td>2.91042</td>\n",
       "      <td>-41427.9010</td>\n",
       "      <td>1597.7390</td>\n",
       "    </tr>\n",
       "    <tr>\n",
       "      <th>...</th>\n",
       "      <td>...</td>\n",
       "      <td>...</td>\n",
       "      <td>...</td>\n",
       "      <td>...</td>\n",
       "      <td>...</td>\n",
       "      <td>...</td>\n",
       "      <td>...</td>\n",
       "      <td>...</td>\n",
       "      <td>...</td>\n",
       "      <td>...</td>\n",
       "      <td>...</td>\n",
       "      <td>...</td>\n",
       "      <td>...</td>\n",
       "      <td>...</td>\n",
       "      <td>...</td>\n",
       "      <td>...</td>\n",
       "    </tr>\n",
       "    <tr>\n",
       "      <th>3995</th>\n",
       "      <td>3996</td>\n",
       "      <td>973</td>\n",
       "      <td>0.000250</td>\n",
       "      <td>6</td>\n",
       "      <td>1509</td>\n",
       "      <td>950</td>\n",
       "      <td>559</td>\n",
       "      <td>2.550000e-26</td>\n",
       "      <td>17.4079</td>\n",
       "      <td>10.5010</td>\n",
       "      <td>11.8126</td>\n",
       "      <td>8.2719</td>\n",
       "      <td>7923</td>\n",
       "      <td>2.94491</td>\n",
       "      <td>-5346.9589</td>\n",
       "      <td>553.2311</td>\n",
       "    </tr>\n",
       "    <tr>\n",
       "      <th>3996</th>\n",
       "      <td>3997</td>\n",
       "      <td>973</td>\n",
       "      <td>0.000250</td>\n",
       "      <td>7</td>\n",
       "      <td>2315</td>\n",
       "      <td>1469</td>\n",
       "      <td>846</td>\n",
       "      <td>3.920000e-26</td>\n",
       "      <td>21.2937</td>\n",
       "      <td>10.5114</td>\n",
       "      <td>11.7971</td>\n",
       "      <td>8.2790</td>\n",
       "      <td>12167</td>\n",
       "      <td>2.94709</td>\n",
       "      <td>-8218.1252</td>\n",
       "      <td>833.5248</td>\n",
       "    </tr>\n",
       "    <tr>\n",
       "      <th>3997</th>\n",
       "      <td>3998</td>\n",
       "      <td>973</td>\n",
       "      <td>0.000250</td>\n",
       "      <td>8</td>\n",
       "      <td>2764</td>\n",
       "      <td>1905</td>\n",
       "      <td>859</td>\n",
       "      <td>4.680000e-26</td>\n",
       "      <td>21.4990</td>\n",
       "      <td>10.7127</td>\n",
       "      <td>11.7948</td>\n",
       "      <td>8.3132</td>\n",
       "      <td>14805</td>\n",
       "      <td>2.95349</td>\n",
       "      <td>-9876.2899</td>\n",
       "      <td>930.9501</td>\n",
       "    </tr>\n",
       "    <tr>\n",
       "      <th>3998</th>\n",
       "      <td>3999</td>\n",
       "      <td>973</td>\n",
       "      <td>0.000250</td>\n",
       "      <td>9</td>\n",
       "      <td>3148</td>\n",
       "      <td>2199</td>\n",
       "      <td>949</td>\n",
       "      <td>5.330000e-26</td>\n",
       "      <td>22.5111</td>\n",
       "      <td>10.7497</td>\n",
       "      <td>11.8058</td>\n",
       "      <td>8.3024</td>\n",
       "      <td>16920</td>\n",
       "      <td>2.95409</td>\n",
       "      <td>-11261.0810</td>\n",
       "      <td>1047.5990</td>\n",
       "    </tr>\n",
       "    <tr>\n",
       "      <th>3999</th>\n",
       "      <td>4000</td>\n",
       "      <td>973</td>\n",
       "      <td>0.000250</td>\n",
       "      <td>10</td>\n",
       "      <td>3986</td>\n",
       "      <td>2785</td>\n",
       "      <td>1201</td>\n",
       "      <td>6.750000e-26</td>\n",
       "      <td>25.5906</td>\n",
       "      <td>10.7371</td>\n",
       "      <td>11.7566</td>\n",
       "      <td>8.3730</td>\n",
       "      <td>21399</td>\n",
       "      <td>2.95285</td>\n",
       "      <td>-14264.3970</td>\n",
       "      <td>NaN</td>\n",
       "    </tr>\n",
       "  </tbody>\n",
       "</table>\n",
       "<p>4000 rows × 16 columns</p>\n",
       "</div>"
      ],
      "text/plain": [
       "        ID  Temp  Crecimiento  Tiempo  N_total  N_bulk  N_super       Volumen  \\\n",
       "0        1   273     0.000025       1     1599    1014      585  2.710000e-26   \n",
       "1        2   273     0.000025       2     1642    1034      608  2.780000e-26   \n",
       "2        3   273     0.000025       3     4637    3365     1272  7.850000e-26   \n",
       "3        4   273     0.000025       4     7189    5292     1897  1.220000e-25   \n",
       "4        5   273     0.000025       5    11004    8508     2496  1.860000e-25   \n",
       "...    ...   ...          ...     ...      ...     ...      ...           ...   \n",
       "3995  3996   973     0.000250       6     1509     950      559  2.550000e-26   \n",
       "3996  3997   973     0.000250       7     2315    1469      846  3.920000e-26   \n",
       "3997  3998   973     0.000250       8     2764    1905      859  4.680000e-26   \n",
       "3998  3999   973     0.000250       9     3148    2199      949  5.330000e-26   \n",
       "3999  4000   973     0.000250      10     3986    2785     1201  6.750000e-26   \n",
       "\n",
       "        Radio  Coord_all  Coord_bulk  Coord_super  N_enlaces  Long_enlaces  \\\n",
       "0     17.3706    11.1770     12.5552       8.7880       8936       2.92220   \n",
       "1     17.6061    11.0719     12.4952       8.6513       9090       2.92505   \n",
       "2     25.3692    11.3862     12.3902       8.7303      26399       2.92120   \n",
       "3     29.7011    11.3198     12.3027       8.5778      40689       2.91181   \n",
       "4     34.2831    11.3851     12.2159       8.5533      62641       2.91042   \n",
       "...       ...        ...         ...          ...        ...           ...   \n",
       "3995  17.4079    10.5010     11.8126       8.2719       7923       2.94491   \n",
       "3996  21.2937    10.5114     11.7971       8.2790      12167       2.94709   \n",
       "3997  21.4990    10.7127     11.7948       8.3132      14805       2.95349   \n",
       "3998  22.5111    10.7497     11.8058       8.3024      16920       2.95409   \n",
       "3999  25.5906    10.7371     11.7566       8.3730      21399       2.95285   \n",
       "\n",
       "         Total_E  Energia_Forma  \n",
       "0     -5908.6345       343.4555  \n",
       "1     -6035.4034       384.8166  \n",
       "2    -17330.1660       800.5040  \n",
       "3    -26937.2010      1171.7890  \n",
       "4    -41427.9010      1597.7390  \n",
       "...          ...            ...  \n",
       "3995  -5346.9589       553.2311  \n",
       "3996  -8218.1252       833.5248  \n",
       "3997  -9876.2899       930.9501  \n",
       "3998 -11261.0810      1047.5990  \n",
       "3999 -14264.3970            NaN  \n",
       "\n",
       "[4000 rows x 16 columns]"
      ]
     },
     "execution_count": 19,
     "metadata": {},
     "output_type": "execute_result"
    }
   ],
   "source": [
    "data"
   ]
  },
  {
   "cell_type": "markdown",
   "metadata": {},
   "source": [
    "### Energía total"
   ]
  },
  {
   "cell_type": "code",
   "execution_count": null,
   "metadata": {},
   "outputs": [],
   "source": [
    "energias = data.loc[:, ['ID','Total_E']]"
   ]
  },
  {
   "cell_type": "code",
   "execution_count": null,
   "metadata": {},
   "outputs": [
    {
     "data": {
      "text/html": [
       "<div>\n",
       "<style scoped>\n",
       "    .dataframe tbody tr th:only-of-type {\n",
       "        vertical-align: middle;\n",
       "    }\n",
       "\n",
       "    .dataframe tbody tr th {\n",
       "        vertical-align: top;\n",
       "    }\n",
       "\n",
       "    .dataframe thead th {\n",
       "        text-align: right;\n",
       "    }\n",
       "</style>\n",
       "<table border=\"1\" class=\"dataframe\">\n",
       "  <thead>\n",
       "    <tr style=\"text-align: right;\">\n",
       "      <th></th>\n",
       "      <th>ID</th>\n",
       "      <th>Total_E</th>\n",
       "    </tr>\n",
       "  </thead>\n",
       "  <tbody>\n",
       "    <tr>\n",
       "      <th>0</th>\n",
       "      <td>1</td>\n",
       "      <td>-5908.6345</td>\n",
       "    </tr>\n",
       "    <tr>\n",
       "      <th>1</th>\n",
       "      <td>2</td>\n",
       "      <td>-6035.4034</td>\n",
       "    </tr>\n",
       "    <tr>\n",
       "      <th>2</th>\n",
       "      <td>3</td>\n",
       "      <td>-17330.1660</td>\n",
       "    </tr>\n",
       "    <tr>\n",
       "      <th>3</th>\n",
       "      <td>4</td>\n",
       "      <td>-26937.2010</td>\n",
       "    </tr>\n",
       "    <tr>\n",
       "      <th>4</th>\n",
       "      <td>5</td>\n",
       "      <td>-41427.9010</td>\n",
       "    </tr>\n",
       "    <tr>\n",
       "      <th>...</th>\n",
       "      <td>...</td>\n",
       "      <td>...</td>\n",
       "    </tr>\n",
       "    <tr>\n",
       "      <th>3995</th>\n",
       "      <td>3996</td>\n",
       "      <td>-5346.9589</td>\n",
       "    </tr>\n",
       "    <tr>\n",
       "      <th>3996</th>\n",
       "      <td>3997</td>\n",
       "      <td>-8218.1252</td>\n",
       "    </tr>\n",
       "    <tr>\n",
       "      <th>3997</th>\n",
       "      <td>3998</td>\n",
       "      <td>-9876.2899</td>\n",
       "    </tr>\n",
       "    <tr>\n",
       "      <th>3998</th>\n",
       "      <td>3999</td>\n",
       "      <td>-11261.0810</td>\n",
       "    </tr>\n",
       "    <tr>\n",
       "      <th>3999</th>\n",
       "      <td>4000</td>\n",
       "      <td>-14264.3970</td>\n",
       "    </tr>\n",
       "  </tbody>\n",
       "</table>\n",
       "<p>4000 rows × 2 columns</p>\n",
       "</div>"
      ],
      "text/plain": [
       "        ID     Total_E\n",
       "0        1  -5908.6345\n",
       "1        2  -6035.4034\n",
       "2        3 -17330.1660\n",
       "3        4 -26937.2010\n",
       "4        5 -41427.9010\n",
       "...    ...         ...\n",
       "3995  3996  -5346.9589\n",
       "3996  3997  -8218.1252\n",
       "3997  3998  -9876.2899\n",
       "3998  3999 -11261.0810\n",
       "3999  4000 -14264.3970\n",
       "\n",
       "[4000 rows x 2 columns]"
      ]
     },
     "execution_count": 21,
     "metadata": {},
     "output_type": "execute_result"
    }
   ],
   "source": [
    "energias"
   ]
  },
  {
   "cell_type": "code",
   "execution_count": null,
   "metadata": {},
   "outputs": [],
   "source": [
    "energias['N_total']=data.N_total"
   ]
  },
  {
   "cell_type": "code",
   "execution_count": null,
   "metadata": {},
   "outputs": [],
   "source": [
    "energias['E_atomo']=energias.Total_E/energias.N_total\n"
   ]
  },
  {
   "cell_type": "code",
   "execution_count": null,
   "metadata": {},
   "outputs": [
    {
     "data": {
      "text/html": [
       "<div>\n",
       "<style scoped>\n",
       "    .dataframe tbody tr th:only-of-type {\n",
       "        vertical-align: middle;\n",
       "    }\n",
       "\n",
       "    .dataframe tbody tr th {\n",
       "        vertical-align: top;\n",
       "    }\n",
       "\n",
       "    .dataframe thead th {\n",
       "        text-align: right;\n",
       "    }\n",
       "</style>\n",
       "<table border=\"1\" class=\"dataframe\">\n",
       "  <thead>\n",
       "    <tr style=\"text-align: right;\">\n",
       "      <th></th>\n",
       "      <th>ID</th>\n",
       "      <th>Total_E</th>\n",
       "      <th>N_total</th>\n",
       "      <th>E_atomo</th>\n",
       "    </tr>\n",
       "  </thead>\n",
       "  <tbody>\n",
       "    <tr>\n",
       "      <th>0</th>\n",
       "      <td>1</td>\n",
       "      <td>-5908.6345</td>\n",
       "      <td>1599</td>\n",
       "      <td>-3.695206</td>\n",
       "    </tr>\n",
       "    <tr>\n",
       "      <th>1</th>\n",
       "      <td>2</td>\n",
       "      <td>-6035.4034</td>\n",
       "      <td>1642</td>\n",
       "      <td>-3.675642</td>\n",
       "    </tr>\n",
       "    <tr>\n",
       "      <th>2</th>\n",
       "      <td>3</td>\n",
       "      <td>-17330.1660</td>\n",
       "      <td>4637</td>\n",
       "      <td>-3.737366</td>\n",
       "    </tr>\n",
       "    <tr>\n",
       "      <th>3</th>\n",
       "      <td>4</td>\n",
       "      <td>-26937.2010</td>\n",
       "      <td>7189</td>\n",
       "      <td>-3.747003</td>\n",
       "    </tr>\n",
       "    <tr>\n",
       "      <th>4</th>\n",
       "      <td>5</td>\n",
       "      <td>-41427.9010</td>\n",
       "      <td>11004</td>\n",
       "      <td>-3.764804</td>\n",
       "    </tr>\n",
       "    <tr>\n",
       "      <th>...</th>\n",
       "      <td>...</td>\n",
       "      <td>...</td>\n",
       "      <td>...</td>\n",
       "      <td>...</td>\n",
       "    </tr>\n",
       "    <tr>\n",
       "      <th>3995</th>\n",
       "      <td>3996</td>\n",
       "      <td>-5346.9589</td>\n",
       "      <td>1509</td>\n",
       "      <td>-3.543379</td>\n",
       "    </tr>\n",
       "    <tr>\n",
       "      <th>3996</th>\n",
       "      <td>3997</td>\n",
       "      <td>-8218.1252</td>\n",
       "      <td>2315</td>\n",
       "      <td>-3.549946</td>\n",
       "    </tr>\n",
       "    <tr>\n",
       "      <th>3997</th>\n",
       "      <td>3998</td>\n",
       "      <td>-9876.2899</td>\n",
       "      <td>2764</td>\n",
       "      <td>-3.573187</td>\n",
       "    </tr>\n",
       "    <tr>\n",
       "      <th>3998</th>\n",
       "      <td>3999</td>\n",
       "      <td>-11261.0810</td>\n",
       "      <td>3148</td>\n",
       "      <td>-3.577218</td>\n",
       "    </tr>\n",
       "    <tr>\n",
       "      <th>3999</th>\n",
       "      <td>4000</td>\n",
       "      <td>-14264.3970</td>\n",
       "      <td>3986</td>\n",
       "      <td>-3.578624</td>\n",
       "    </tr>\n",
       "  </tbody>\n",
       "</table>\n",
       "<p>4000 rows × 4 columns</p>\n",
       "</div>"
      ],
      "text/plain": [
       "        ID     Total_E  N_total   E_atomo\n",
       "0        1  -5908.6345     1599 -3.695206\n",
       "1        2  -6035.4034     1642 -3.675642\n",
       "2        3 -17330.1660     4637 -3.737366\n",
       "3        4 -26937.2010     7189 -3.747003\n",
       "4        5 -41427.9010    11004 -3.764804\n",
       "...    ...         ...      ...       ...\n",
       "3995  3996  -5346.9589     1509 -3.543379\n",
       "3996  3997  -8218.1252     2315 -3.549946\n",
       "3997  3998  -9876.2899     2764 -3.573187\n",
       "3998  3999 -11261.0810     3148 -3.577218\n",
       "3999  4000 -14264.3970     3986 -3.578624\n",
       "\n",
       "[4000 rows x 4 columns]"
      ]
     },
     "execution_count": 24,
     "metadata": {},
     "output_type": "execute_result"
    }
   ],
   "source": [
    "energias"
   ]
  },
  {
   "cell_type": "markdown",
   "metadata": {},
   "source": [
    "Preguntas para elegir que distribución utilizar para analisis de <span style=\"color:green\">Energía por Átomo</span>:\n",
    "\n",
    "    1)  Es continua? -> Sí\n",
    "    2)  Es simétrica? -> Sí (ver analisis simetria IPYNB 6)\n",
    "    3)  Esta la data alrededor de cierto valor? -> Sí\n",
    "    4)  Como son los <span style=\"color:red\">OUTLIERS<span>? -> ??\n",
    "  <span style=\"color:red\">OUTLIERS<span>"
   ]
  },
  {
   "cell_type": "markdown",
   "metadata": {},
   "source": []
  },
  {
   "cell_type": "markdown",
   "metadata": {},
   "source": [
    "# Outliers \n",
    "Un primer y útil paso para detectar valores atípicos univariados es la visualización de la distribución de las variables. Por lo general, cuando se realiza una EDA, esto debe hacerse individualmente para todas las variables interesantes de un conjunto de datos. Una manera fácil de resumir visualmente la distribución de una variable es el diagrama de caja.\n",
    "\n",
    "En un diagrama de caja, introducido por John Tukey en 1970, los datos se dividen en cuartiles. Por lo general, muestra una caja rectangular que representa el 25%-75% de las observaciones de una muestra, extendida por los llamados bigotes que alcanzan la entrada de datos mínima y máxima. Las observaciones que se muestran fuera de los bigotes son valores atípicos."
   ]
  },
  {
   "cell_type": "markdown",
   "metadata": {},
   "source": [
    "## Outliers de Energia y Energia por atomo"
   ]
  },
  {
   "cell_type": "markdown",
   "metadata": {},
   "source": [
    "Trabajando ocn la energia por atomo"
   ]
  },
  {
   "cell_type": "code",
   "execution_count": null,
   "metadata": {},
   "outputs": [
    {
     "data": {
      "text/plain": [
       "Text(0.5, 0, 'Energía por átomo')"
      ]
     },
     "execution_count": 25,
     "metadata": {},
     "output_type": "execute_result"
    },
    {
     "data": {
      "image/png": "[encoded data removed]",
      "text/plain": [
       "<Figure size 432x288 with 1 Axes>"
      ]
     },
     "metadata": {
      "needs_background": "light"
     },
     "output_type": "display_data"
    }
   ],
   "source": [
    "ax = sns.boxplot(x=(energias['E_atomo']))\n",
    "ax.set_xlabel('Energía por átomo')"
   ]
  },
  {
   "cell_type": "markdown",
   "metadata": {},
   "source": [
    "Los diagramas de caja son excelentes para resumir y visualizar la distribución de variables de manera fácil y rápida. Sin embargo, no identifican los índices reales de las observaciones periféricas.\n",
    "Se defini función para identificar los indices de los outliers, Para su posterior tratamiento"
   ]
  },
  {
   "cell_type": "code",
   "execution_count": null,
   "metadata": {},
   "outputs": [],
   "source": [
    "def outliers(df):\n",
    "    \"\"\"\n",
    "    Función que cuenta el número de outliers de un dataframe y devuelve un dataframe con los outliers\n",
    "\n",
    "    Parameters\n",
    "    ----------\n",
    "    df : dataframe\n",
    "\n",
    "    Returns\n",
    "    -------\n",
    "    df : dataframe con el número de outliers por columna\n",
    "    \"\"\"\n",
    "\n",
    "    outliers = 0\n",
    "    df_out = pd.DataFrame()\n",
    "    df_num = df.select_dtypes(exclude=['object'])\n",
    "    \n",
    "    for col in df_num.columns:\n",
    "        q1 = df_num[col].quantile(0.25)\n",
    "        q3 = df_num[col].quantile(0.75)\n",
    "        \n",
    "        ri = q3 - q1\n",
    "        \n",
    "        minimo = q1 - (ri * 1.5)\n",
    "        maximo = q3 + (ri * 1.5)\n",
    "        \n",
    "        outliers = df_num[(df_num[col] < minimo) | (df_num[col] > maximo)].shape[0]\n",
    "        df_out[col] = [outliers]\n",
    "\n",
    "    return df_out"
   ]
  },
  {
   "cell_type": "code",
   "execution_count": null,
   "metadata": {},
   "outputs": [
    {
     "data": {
      "text/html": [
       "<div>\n",
       "<style scoped>\n",
       "    .dataframe tbody tr th:only-of-type {\n",
       "        vertical-align: middle;\n",
       "    }\n",
       "\n",
       "    .dataframe tbody tr th {\n",
       "        vertical-align: top;\n",
       "    }\n",
       "\n",
       "    .dataframe thead th {\n",
       "        text-align: right;\n",
       "    }\n",
       "</style>\n",
       "<table border=\"1\" class=\"dataframe\">\n",
       "  <thead>\n",
       "    <tr style=\"text-align: right;\">\n",
       "      <th></th>\n",
       "      <th>ID</th>\n",
       "      <th>Total_E</th>\n",
       "      <th>N_total</th>\n",
       "      <th>E_atomo</th>\n",
       "    </tr>\n",
       "  </thead>\n",
       "  <tbody>\n",
       "    <tr>\n",
       "      <th>0</th>\n",
       "      <td>0</td>\n",
       "      <td>425</td>\n",
       "      <td>431</td>\n",
       "      <td>49</td>\n",
       "    </tr>\n",
       "  </tbody>\n",
       "</table>\n",
       "</div>"
      ],
      "text/plain": [
       "   ID  Total_E  N_total  E_atomo\n",
       "0   0      425      431       49"
      ]
     },
     "execution_count": 27,
     "metadata": {},
     "output_type": "execute_result"
    }
   ],
   "source": [
    "outliers(energias)"
   ]
  },
  {
   "cell_type": "markdown",
   "metadata": {},
   "source": [
    "`medium `"
   ]
  },
  {
   "cell_type": "markdown",
   "metadata": {},
   "source": [
    "Veamos un ejemplo. El siguiente gráfico muestra la mayoría de las variables incluidas en el conjunto de datos de vivienda de Boston. Para recibir una descripción general rápida de las distribuciones de todas las variables, puede usar una gráfica de grupo. Tenga en cuenta que las variables pueden diferir en escala, y agregar todas las variables en una cuadrícula puede generar algunos gráficos difíciles de leer. Ejecuté df.describe() primero para tener una idea de la escala de cada variable y luego creé tres diagramas de grupo para tres grupos de variables diferentes. Aquí hay un ejemplo de variables de escala media:"
   ]
  },
  {
   "cell_type": "markdown",
   "metadata": {},
   "source": [
    "En nuestro caso, podemos visualizar las variables y en esa “cajita” veremos donde se concentra el 50 por ciento de nuestra distribución (percentiles 25 a 75), los valores mínimos y máximos (las rayas en “T”) y -por supuesto- los outliers, esos “valores extraños” y alejados.\n",
    "\n"
   ]
  },
  {
   "cell_type": "markdown",
   "metadata": {},
   "source": [
    "Técnicas para la detección y eliminación de valores atípicos:\n",
    "👉 Tratamiento de puntuación Z:\n",
    "\n",
    "Suposición: las características tienen una distribución normal o aproximadamente normal.\n"
   ]
  },
  {
   "cell_type": "code",
   "execution_count": null,
   "metadata": {},
   "outputs": [
    {
     "name": "stdout",
     "output_type": "stream",
     "text": [
      "-3.5541895977432167 -3.6788399297054024\n"
     ]
    }
   ],
   "source": [
    "# Finding the IQR\n",
    "percentile25 = energias.E_atomo.quantile(0.25)\n",
    "percentile75 = energias.E_atomo.quantile(0.75)\n",
    "print(percentile75, percentile25)"
   ]
  },
  {
   "cell_type": "code",
   "execution_count": null,
   "metadata": {},
   "outputs": [
    {
     "name": "stdout",
     "output_type": "stream",
     "text": [
      "-3.3672140997999382 -3.865815427648681\n"
     ]
    }
   ],
   "source": [
    "#Finding upper and lower limit\n",
    "iqr=percentile75-percentile25\n",
    "\n",
    "upper_limit = percentile75 + 1.5 * iqr\n",
    "lower_limit = percentile25 - 1.5 * iqr\n",
    "print(upper_limit, lower_limit)"
   ]
  },
  {
   "cell_type": "code",
   "execution_count": null,
   "metadata": {},
   "outputs": [
    {
     "name": "stdout",
     "output_type": "stream",
     "text": [
      "236\n",
      "460\n",
      "49\n",
      "nan\n",
      "nan\n",
      "0\n"
     ]
    }
   ],
   "source": [
    "#Finding Outliers\n",
    "\n",
    "print(energias[energias['E_atomo'] > upper_limit][\"N_total\"].min())\n",
    "print(energias[energias['E_atomo'] > upper_limit][\"N_total\"].max())\n",
    "print(len(energias[energias['E_atomo'] > upper_limit][\"N_total\"]))\n",
    "\n",
    "print(energias[energias['E_atomo'] < lower_limit][\"N_total\"].min())\n",
    "print(energias[energias['E_atomo'] < lower_limit][\"N_total\"].max())\n",
    "print(len(energias[energias['E_atomo'] < lower_limit][\"N_total\"]))\n"
   ]
  },
  {
   "cell_type": "markdown",
   "metadata": {},
   "source": [
    "Interesante que no hay Outliers por debajo del limite inferior. Pero si unas 50 energias por encima del limite superior. Como representa un 1.25% de la muestra total los eliminamos. \n",
    "Es interesante notar que es para una cantidad de atomos entre 236 y 460 átomos. \n",
    "Me voy a fijar si queda alguna estructura en ese rango. Sino algo fisico debe pasar con esas cantidades. \n",
    "🟣Por ahora)(Luego con la energia media muestral la multiplicaria por la cantidad de atomos en cada una y le imputaria de esa forma la energia a estos outliers)"
   ]
  },
  {
   "cell_type": "markdown",
   "metadata": {},
   "source": [
    "¿Cómo tratar los valores atípicos?\n",
    "\n",
    "👉 Trimming: Excluye los valores atípicos de nuestro análisis. Al aplicar esta técnica, nuestros datos se adelgazan cuando hay más valores atípicos presentes en el conjunto de datos. Su principal ventaja es su naturaleza más rápida.\n",
    "\n",
    "👉Capping: en esta técnica, limitamos nuestros datos de valores atípicos y establecemos el límite, es decir, por encima de un valor particular o por debajo de ese valor, todos los valores se considerarán como valores atípicos, y la cantidad de valores atípicos en el conjunto de datos proporciona ese límite. número.\n",
    "\n",
    "Por ejemplo, si está trabajando en la característica de ingresos, puede encontrar que las personas por encima de cierto nivel de ingresos se comportan de la misma manera que aquellas con ingresos más bajos. En este caso, puede limitar el valor de los ingresos a un nivel que lo mantenga intacto y tratar los valores atípicos en consecuencia."
   ]
  },
  {
   "cell_type": "markdown",
   "metadata": {},
   "source": [
    "👉 IQR based filtering :\n",
    "\n",
    "Used when our data distribution is skewed."
   ]
  },
  {
   "cell_type": "code",
   "execution_count": null,
   "metadata": {},
   "outputs": [
    {
     "data": {
      "text/html": [
       "<div>\n",
       "<style scoped>\n",
       "    .dataframe tbody tr th:only-of-type {\n",
       "        vertical-align: middle;\n",
       "    }\n",
       "\n",
       "    .dataframe tbody tr th {\n",
       "        vertical-align: top;\n",
       "    }\n",
       "\n",
       "    .dataframe thead th {\n",
       "        text-align: right;\n",
       "    }\n",
       "</style>\n",
       "<table border=\"1\" class=\"dataframe\">\n",
       "  <thead>\n",
       "    <tr style=\"text-align: right;\">\n",
       "      <th></th>\n",
       "      <th>ID</th>\n",
       "      <th>Total_E</th>\n",
       "      <th>N_total</th>\n",
       "      <th>E_atomo</th>\n",
       "    </tr>\n",
       "  </thead>\n",
       "  <tbody>\n",
       "    <tr>\n",
       "      <th>0</th>\n",
       "      <td>1</td>\n",
       "      <td>-5908.6345</td>\n",
       "      <td>1599</td>\n",
       "      <td>-3.695206</td>\n",
       "    </tr>\n",
       "    <tr>\n",
       "      <th>1</th>\n",
       "      <td>2</td>\n",
       "      <td>-6035.4034</td>\n",
       "      <td>1642</td>\n",
       "      <td>-3.675642</td>\n",
       "    </tr>\n",
       "    <tr>\n",
       "      <th>2</th>\n",
       "      <td>3</td>\n",
       "      <td>-17330.1660</td>\n",
       "      <td>4637</td>\n",
       "      <td>-3.737366</td>\n",
       "    </tr>\n",
       "    <tr>\n",
       "      <th>3</th>\n",
       "      <td>4</td>\n",
       "      <td>-26937.2010</td>\n",
       "      <td>7189</td>\n",
       "      <td>-3.747003</td>\n",
       "    </tr>\n",
       "    <tr>\n",
       "      <th>4</th>\n",
       "      <td>5</td>\n",
       "      <td>-41427.9010</td>\n",
       "      <td>11004</td>\n",
       "      <td>-3.764804</td>\n",
       "    </tr>\n",
       "    <tr>\n",
       "      <th>...</th>\n",
       "      <td>...</td>\n",
       "      <td>...</td>\n",
       "      <td>...</td>\n",
       "      <td>...</td>\n",
       "    </tr>\n",
       "    <tr>\n",
       "      <th>3995</th>\n",
       "      <td>3996</td>\n",
       "      <td>-5346.9589</td>\n",
       "      <td>1509</td>\n",
       "      <td>-3.543379</td>\n",
       "    </tr>\n",
       "    <tr>\n",
       "      <th>3996</th>\n",
       "      <td>3997</td>\n",
       "      <td>-8218.1252</td>\n",
       "      <td>2315</td>\n",
       "      <td>-3.549946</td>\n",
       "    </tr>\n",
       "    <tr>\n",
       "      <th>3997</th>\n",
       "      <td>3998</td>\n",
       "      <td>-9876.2899</td>\n",
       "      <td>2764</td>\n",
       "      <td>-3.573187</td>\n",
       "    </tr>\n",
       "    <tr>\n",
       "      <th>3998</th>\n",
       "      <td>3999</td>\n",
       "      <td>-11261.0810</td>\n",
       "      <td>3148</td>\n",
       "      <td>-3.577218</td>\n",
       "    </tr>\n",
       "    <tr>\n",
       "      <th>3999</th>\n",
       "      <td>4000</td>\n",
       "      <td>-14264.3970</td>\n",
       "      <td>3986</td>\n",
       "      <td>-3.578624</td>\n",
       "    </tr>\n",
       "  </tbody>\n",
       "</table>\n",
       "<p>3951 rows × 4 columns</p>\n",
       "</div>"
      ],
      "text/plain": [
       "        ID     Total_E  N_total   E_atomo\n",
       "0        1  -5908.6345     1599 -3.695206\n",
       "1        2  -6035.4034     1642 -3.675642\n",
       "2        3 -17330.1660     4637 -3.737366\n",
       "3        4 -26937.2010     7189 -3.747003\n",
       "4        5 -41427.9010    11004 -3.764804\n",
       "...    ...         ...      ...       ...\n",
       "3995  3996  -5346.9589     1509 -3.543379\n",
       "3996  3997  -8218.1252     2315 -3.549946\n",
       "3997  3998  -9876.2899     2764 -3.573187\n",
       "3998  3999 -11261.0810     3148 -3.577218\n",
       "3999  4000 -14264.3970     3986 -3.578624\n",
       "\n",
       "[3951 rows x 4 columns]"
      ]
     },
     "execution_count": 31,
     "metadata": {},
     "output_type": "execute_result"
    }
   ],
   "source": [
    "new_energias = energias[energias['E_atomo'] < upper_limit]\n",
    "new_energias"
   ]
  },
  {
   "cell_type": "markdown",
   "metadata": {},
   "source": [
    "y vemos que quedan estructuras en ese rango. Osea que quitamos los outliers sin problemas"
   ]
  },
  {
   "cell_type": "code",
   "execution_count": null,
   "metadata": {},
   "outputs": [
    {
     "data": {
      "text/html": [
       "<div>\n",
       "<style scoped>\n",
       "    .dataframe tbody tr th:only-of-type {\n",
       "        vertical-align: middle;\n",
       "    }\n",
       "\n",
       "    .dataframe tbody tr th {\n",
       "        vertical-align: top;\n",
       "    }\n",
       "\n",
       "    .dataframe thead th {\n",
       "        text-align: right;\n",
       "    }\n",
       "</style>\n",
       "<table border=\"1\" class=\"dataframe\">\n",
       "  <thead>\n",
       "    <tr style=\"text-align: right;\">\n",
       "      <th></th>\n",
       "      <th>ID</th>\n",
       "      <th>Total_E</th>\n",
       "      <th>N_total</th>\n",
       "      <th>E_atomo</th>\n",
       "    </tr>\n",
       "  </thead>\n",
       "  <tbody>\n",
       "    <tr>\n",
       "      <th>90</th>\n",
       "      <td>91</td>\n",
       "      <td>-1252.6011</td>\n",
       "      <td>361</td>\n",
       "      <td>-3.469809</td>\n",
       "    </tr>\n",
       "    <tr>\n",
       "      <th>91</th>\n",
       "      <td>92</td>\n",
       "      <td>-1279.9390</td>\n",
       "      <td>364</td>\n",
       "      <td>-3.516316</td>\n",
       "    </tr>\n",
       "    <tr>\n",
       "      <th>170</th>\n",
       "      <td>171</td>\n",
       "      <td>-1401.3113</td>\n",
       "      <td>395</td>\n",
       "      <td>-3.547624</td>\n",
       "    </tr>\n",
       "    <tr>\n",
       "      <th>171</th>\n",
       "      <td>172</td>\n",
       "      <td>-1427.9532</td>\n",
       "      <td>400</td>\n",
       "      <td>-3.569883</td>\n",
       "    </tr>\n",
       "    <tr>\n",
       "      <th>190</th>\n",
       "      <td>191</td>\n",
       "      <td>-1291.3030</td>\n",
       "      <td>363</td>\n",
       "      <td>-3.557309</td>\n",
       "    </tr>\n",
       "    <tr>\n",
       "      <th>...</th>\n",
       "      <td>...</td>\n",
       "      <td>...</td>\n",
       "      <td>...</td>\n",
       "      <td>...</td>\n",
       "    </tr>\n",
       "    <tr>\n",
       "      <th>3891</th>\n",
       "      <td>3892</td>\n",
       "      <td>-1464.0629</td>\n",
       "      <td>422</td>\n",
       "      <td>-3.469343</td>\n",
       "    </tr>\n",
       "    <tr>\n",
       "      <th>3970</th>\n",
       "      <td>3971</td>\n",
       "      <td>-1452.9767</td>\n",
       "      <td>422</td>\n",
       "      <td>-3.443073</td>\n",
       "    </tr>\n",
       "    <tr>\n",
       "      <th>3971</th>\n",
       "      <td>3972</td>\n",
       "      <td>-1476.0225</td>\n",
       "      <td>428</td>\n",
       "      <td>-3.448651</td>\n",
       "    </tr>\n",
       "    <tr>\n",
       "      <th>3990</th>\n",
       "      <td>3991</td>\n",
       "      <td>-1374.0525</td>\n",
       "      <td>398</td>\n",
       "      <td>-3.452393</td>\n",
       "    </tr>\n",
       "    <tr>\n",
       "      <th>3991</th>\n",
       "      <td>3992</td>\n",
       "      <td>-1432.1186</td>\n",
       "      <td>415</td>\n",
       "      <td>-3.450888</td>\n",
       "    </tr>\n",
       "  </tbody>\n",
       "</table>\n",
       "<p>223 rows × 4 columns</p>\n",
       "</div>"
      ],
      "text/plain": [
       "        ID    Total_E  N_total   E_atomo\n",
       "90      91 -1252.6011      361 -3.469809\n",
       "91      92 -1279.9390      364 -3.516316\n",
       "170    171 -1401.3113      395 -3.547624\n",
       "171    172 -1427.9532      400 -3.569883\n",
       "190    191 -1291.3030      363 -3.557309\n",
       "...    ...        ...      ...       ...\n",
       "3891  3892 -1464.0629      422 -3.469343\n",
       "3970  3971 -1452.9767      422 -3.443073\n",
       "3971  3972 -1476.0225      428 -3.448651\n",
       "3990  3991 -1374.0525      398 -3.452393\n",
       "3991  3992 -1432.1186      415 -3.450888\n",
       "\n",
       "[223 rows x 4 columns]"
      ]
     },
     "execution_count": 32,
     "metadata": {},
     "output_type": "execute_result"
    }
   ],
   "source": [
    "new_energias.loc[(new_energias['N_total']>236)  & (new_energias['N_total']<460), :]"
   ]
  },
  {
   "cell_type": "code",
   "execution_count": null,
   "metadata": {},
   "outputs": [
    {
     "data": {
      "image/png": "[encoded data removed]",
      "text/plain": [
       "<Figure size 1152x576 with 4 Axes>"
      ]
     },
     "metadata": {
      "needs_background": "light"
     },
     "output_type": "display_data"
    }
   ],
   "source": [
    "#Compare the plots after trimming\n",
    "\n",
    "plt.figure(figsize=(16,8))\n",
    "plt.subplot(2,2,1)\n",
    "sns.distplot(energias['E_atomo'])\n",
    "plt.subplot(2,2,2)\n",
    "sns.boxplot(energias['E_atomo'])\n",
    "plt.subplot(2,2,3)\n",
    "sns.distplot(new_energias['E_atomo'])\n",
    "plt.subplot(2,2,4)\n",
    "sns.boxplot(new_energias['E_atomo'])\n",
    "plt.show()"
   ]
  },
  {
   "cell_type": "code",
   "execution_count": null,
   "metadata": {},
   "outputs": [],
   "source": [
    "#Capping\n",
    "\n",
    "new_energias_cap = energias.copy()\n",
    "new_energias_cap['E_atomo'] = np.where(\n",
    "    new_energias_cap['E_atomo'] > upper_limit,\n",
    "    upper_limit,\n",
    "    np.where(\n",
    "        new_energias_cap['E_atomo'] < lower_limit,\n",
    "        lower_limit,\n",
    "        new_energias_cap['E_atomo']\n",
    "    )\n",
    ")"
   ]
  },
  {
   "cell_type": "code",
   "execution_count": null,
   "metadata": {},
   "outputs": [
    {
     "data": {
      "image/png": "[encoded data removed]",
      "text/plain": [
       "<Figure size 1152x576 with 4 Axes>"
      ]
     },
     "metadata": {
      "needs_background": "light"
     },
     "output_type": "display_data"
    }
   ],
   "source": [
    "#Compare the plots after capping\n",
    "\n",
    "plt.figure(figsize=(16,8))\n",
    "plt.subplot(2,2,1)\n",
    "sns.distplot(energias['E_atomo'])\n",
    "plt.subplot(2,2,2)\n",
    "sns.boxplot(energias['E_atomo'])\n",
    "plt.subplot(2,2,3)\n",
    "sns.distplot(new_energias_cap['E_atomo'])\n",
    "plt.subplot(2,2,4)\n",
    "sns.boxplot(new_energias_cap['E_atomo'])\n",
    "plt.show()"
   ]
  },
  {
   "cell_type": "markdown",
   "metadata": {},
   "source": [
    "🟣👉 Discretización: En esta técnica, al hacer los grupos incluimos los valores atípicos en un grupo en particular y los obligamos a comportarse de la misma manera que los de otros puntos de ese grupo. Esta técnica también se conoce como Binning.\n",
    "https://www.analyticsvidhya.com/blog/2021/05/feature-engineering-how-to-detect-and-remove-outliers-with-python-code/"
   ]
  },
  {
   "cell_type": "markdown",
   "metadata": {},
   "source": [
    "# Analisis Distribucion normal"
   ]
  },
  {
   "cell_type": "markdown",
   "metadata": {},
   "source": [
    "Estimaciones de ubicación\n",
    "Un paso fundamental en la exploración de un conjunto de datos es obtener un valor resumido para cada característica o variable. Esta es comúnmente una estimación de dónde se encuentran la mayoría de los datos, o en otras palabras, la tendencia central.\n",
    "\n",
    "Al principio, resumir los datos puede sonar pan comido: simplemente tome la media de los datos. En realidad, aunque la media es muy fácil de calcular y usar, puede que no siempre sea la mejor medida para el valor central.\n",
    "\n",
    "Para resolver este problema, los estadísticos han desarrollado estimaciones alternativas a la media."
   ]
  },
  {
   "cell_type": "markdown",
   "metadata": {},
   "source": [
    "**Mean**\n",
    "La suma de todos los valores dividida por el número de valores, también conocido como el promedio\n",
    "\n",
    "Aquí se explica cómo calcular la media de la variable Edad:"
   ]
  },
  {
   "cell_type": "markdown",
   "metadata": {},
   "source": [
    "**Media ponderada**\n",
    "La suma de todos los valores multiplicada por un peso dividida por la suma de los pesos. Esto también se conoce como el promedio ponderado.\n",
    "\n",
    "Aquí hay dos motivaciones principales para usar una media ponderada:\n",
    "\n",
    "Algunas observaciones son intrínsecamente más variables (desviación estándar alta) que otras, y las observaciones altamente variables reciben un peso más bajo.\n",
    "Los datos recopilados no representan por igual a los diferentes grupos que nos interesa medir.\n",
    "\n",
    "\n",
    "**Mediana**\n",
    "El valor que separa una mitad de los datos de la otra, dividiéndola así en una mitad superior y otra inferior. Esto también se llama el percentil 50.\n",
    "\n"
   ]
  },
  {
   "cell_type": "markdown",
   "metadata": {},
   "source": [
    "### Estimaciones de Variabilidad\n",
    "\n",
    "Además de la ubicación, tenemos otro método para resumir una característica. La variabilidad, también conocida como dispersión, nos dice qué tan dispersos o agrupados están los datos.\n",
    "\n",
    "Cálculo de las medidas de variabilidad para el mismo marco de datos utilizando bibliotecas como pandas, numpy y scipy.\n",
    "\n",
    "**Desviaciones**\n",
    "La diferencia entre los valores observados y la estimación de ubicación. Las desviaciones a veces se denominan errores o residuales.\n",
    "\n",
    "**Varianza**\n",
    "La suma de las desviaciones al cuadrado de la media dividida por n — 1, donde n es el número de valores de datos. Esto también se llama error cuadrático medio.\n",
    "\n",
    "`df['Age'].var()`\n",
    "\n",
    "**Standard deviation**\n",
    "The square root of the variance.\n",
    "\n",
    "`df['Age'].std()`\n",
    "\n",
    "##output: 28.148861406903617\n",
    "Mean absolute deviation\n",
    "The mean of the absolute values of the deviations from the mean. This is also referred to as the l1-norm or Manhattan norm.\n",
    "\n",
    "I’ve covered this in more detail along with a mathematical explanation here: Calculating Vector P-Norms — Linear Algebra for Data Science -IV\n",
    "\n",
    "Median absolute deviation from the median\n",
    "The median of the absolute values of the deviations from the median.\n",
    "\n",
    "`df['Age'].mad()`\n",
    "\n",
    "##output: 24.610885188020433"
   ]
  },
  {
   "cell_type": "markdown",
   "metadata": {},
   "source": [
    "Habria que fijasrse si la mean median and moden coinciden"
   ]
  },
  {
   "cell_type": "code",
   "execution_count": null,
   "metadata": {},
   "outputs": [
    {
     "data": {
      "text/html": [
       "<div>\n",
       "<style scoped>\n",
       "    .dataframe tbody tr th:only-of-type {\n",
       "        vertical-align: middle;\n",
       "    }\n",
       "\n",
       "    .dataframe tbody tr th {\n",
       "        vertical-align: top;\n",
       "    }\n",
       "\n",
       "    .dataframe thead th {\n",
       "        text-align: right;\n",
       "    }\n",
       "</style>\n",
       "<table border=\"1\" class=\"dataframe\">\n",
       "  <thead>\n",
       "    <tr style=\"text-align: right;\">\n",
       "      <th></th>\n",
       "      <th>ID</th>\n",
       "      <th>Total_E</th>\n",
       "      <th>N_total</th>\n",
       "      <th>E_atomo</th>\n",
       "    </tr>\n",
       "  </thead>\n",
       "  <tbody>\n",
       "    <tr>\n",
       "      <th>0</th>\n",
       "      <td>1</td>\n",
       "      <td>-5908.6345</td>\n",
       "      <td>1599</td>\n",
       "      <td>-3.695206</td>\n",
       "    </tr>\n",
       "    <tr>\n",
       "      <th>1</th>\n",
       "      <td>2</td>\n",
       "      <td>-6035.4034</td>\n",
       "      <td>1642</td>\n",
       "      <td>-3.675642</td>\n",
       "    </tr>\n",
       "    <tr>\n",
       "      <th>2</th>\n",
       "      <td>3</td>\n",
       "      <td>-17330.1660</td>\n",
       "      <td>4637</td>\n",
       "      <td>-3.737366</td>\n",
       "    </tr>\n",
       "    <tr>\n",
       "      <th>3</th>\n",
       "      <td>4</td>\n",
       "      <td>-26937.2010</td>\n",
       "      <td>7189</td>\n",
       "      <td>-3.747003</td>\n",
       "    </tr>\n",
       "    <tr>\n",
       "      <th>4</th>\n",
       "      <td>5</td>\n",
       "      <td>-41427.9010</td>\n",
       "      <td>11004</td>\n",
       "      <td>-3.764804</td>\n",
       "    </tr>\n",
       "    <tr>\n",
       "      <th>...</th>\n",
       "      <td>...</td>\n",
       "      <td>...</td>\n",
       "      <td>...</td>\n",
       "      <td>...</td>\n",
       "    </tr>\n",
       "    <tr>\n",
       "      <th>3995</th>\n",
       "      <td>3996</td>\n",
       "      <td>-5346.9589</td>\n",
       "      <td>1509</td>\n",
       "      <td>-3.543379</td>\n",
       "    </tr>\n",
       "    <tr>\n",
       "      <th>3996</th>\n",
       "      <td>3997</td>\n",
       "      <td>-8218.1252</td>\n",
       "      <td>2315</td>\n",
       "      <td>-3.549946</td>\n",
       "    </tr>\n",
       "    <tr>\n",
       "      <th>3997</th>\n",
       "      <td>3998</td>\n",
       "      <td>-9876.2899</td>\n",
       "      <td>2764</td>\n",
       "      <td>-3.573187</td>\n",
       "    </tr>\n",
       "    <tr>\n",
       "      <th>3998</th>\n",
       "      <td>3999</td>\n",
       "      <td>-11261.0810</td>\n",
       "      <td>3148</td>\n",
       "      <td>-3.577218</td>\n",
       "    </tr>\n",
       "    <tr>\n",
       "      <th>3999</th>\n",
       "      <td>4000</td>\n",
       "      <td>-14264.3970</td>\n",
       "      <td>3986</td>\n",
       "      <td>-3.578624</td>\n",
       "    </tr>\n",
       "  </tbody>\n",
       "</table>\n",
       "<p>4000 rows × 4 columns</p>\n",
       "</div>"
      ],
      "text/plain": [
       "        ID     Total_E  N_total   E_atomo\n",
       "0        1  -5908.6345     1599 -3.695206\n",
       "1        2  -6035.4034     1642 -3.675642\n",
       "2        3 -17330.1660     4637 -3.737366\n",
       "3        4 -26937.2010     7189 -3.747003\n",
       "4        5 -41427.9010    11004 -3.764804\n",
       "...    ...         ...      ...       ...\n",
       "3995  3996  -5346.9589     1509 -3.543379\n",
       "3996  3997  -8218.1252     2315 -3.549946\n",
       "3997  3998  -9876.2899     2764 -3.573187\n",
       "3998  3999 -11261.0810     3148 -3.577218\n",
       "3999  4000 -14264.3970     3986 -3.578624\n",
       "\n",
       "[4000 rows x 4 columns]"
      ]
     },
     "execution_count": 36,
     "metadata": {},
     "output_type": "execute_result"
    }
   ],
   "source": [
    "new_energias_cap"
   ]
  },
  {
   "cell_type": "markdown",
   "metadata": {},
   "source": [
    "## La prueba de Shapiro-Wilk para la muestra limpia (sin outliers)\n",
    "Este es es un ejemplo de test de hipótesis para saber si una distribución sigue la forma de otra distribución.\n",
    "\n",
    "La prueba de Shapiro-Wilk es una prueba bastante buena para comprobar la normalidad de una variable. Se sugiere que la prueba se utilice para muestras de datos pequeñas, miles de observaciones o menos. En caso de tener más observaciones\n",
    "\n",
    "\n"
   ]
  },
  {
   "cell_type": "code",
   "execution_count": null,
   "metadata": {},
   "outputs": [
    {
     "name": "stdout",
     "output_type": "stream",
     "text": [
      "Estadisticos=0.976, p=0.000\n",
      "La muestra no parece Gaussiana o Normal(se rechaza la hipótesis nula H0)\n"
     ]
    }
   ],
   "source": [
    "from numpy.random import seed, randn\n",
    "import matplotlib.pyplot as plt\n",
    "from scipy.stats import shapiro\n",
    "# Configuro la semilla aleatoria\n",
    "#seed(1993)\n",
    "# Genero 100 muestras\n",
    "#data = randn(100)\n",
    "# Prueba de Shapiro-Wilk\n",
    "stat, p = shapiro(new_energias_cap[\"E_atomo\"])\n",
    "print('Estadisticos=%.3f, p=%.3f' % (stat, p))\n",
    "# Interpretación\n",
    "alpha = 0.05\n",
    "if p > alpha:\n",
    "   print('La muestra parece Gaussiana o Normal (no se rechaza la hipótesis nula H0)')\n",
    "else:\n",
    "   print('La muestra no parece Gaussiana o Normal(se rechaza la hipótesis nula H0)')"
   ]
  },
  {
   "cell_type": "markdown",
   "metadata": {},
   "source": [
    "## Prueba K^2 de D’Agostino\n",
    "La prueba K^2 de D’Agostino calcula curtosis y asimetría a partir de los datos, para determinar si la distribución de datos se aparta de la distribución normal.\n"
   ]
  },
  {
   "cell_type": "code",
   "execution_count": null,
   "metadata": {},
   "outputs": [
    {
     "name": "stdout",
     "output_type": "stream",
     "text": [
      "Estadisticos=152.988, p=0.000\n",
      "La muestra no parece Gaussiana o Normal(se rechaza la hipótesis nula H0)\n"
     ]
    }
   ],
   "source": [
    "\n",
    "from numpy.random import seed, randn\n",
    "import matplotlib.pyplot as plt\n",
    "from scipy.stats import normaltest\n",
    "\n",
    "# Test de DAgostino\n",
    "stat, p = normaltest(new_energias_cap[\"E_atomo\"])\n",
    "print('Estadisticos=%.3f, p=%.3f' % (stat, p))\n",
    "# Interpretación\n",
    "alpha = 0.05\n",
    "if p > alpha:\n",
    "   print('La muestra parece Gaussiana o Normal (no se rechaza la hipótesis nula H0)')\n",
    "else:\n",
    "   print('La muestra no parece Gaussiana o Normal(se rechaza la hipótesis nula H0)')"
   ]
  },
  {
   "cell_type": "markdown",
   "metadata": {},
   "source": [
    "# Distribuciones muestrales y el teorema del límite central\n",
    "Hago lo de la distribucion muestral Aplicando el Teorema Central del limte"
   ]
  },
  {
   "cell_type": "markdown",
   "metadata": {},
   "source": [
    "El teorema del límite central se refiere a una población distribuida arbitrariamente dada. Selecciono aleatoriamente n muestras de estas poblaciones cada vez, un total de m veces. Luego, tome los m grupos de muestras para encontrar el valor promedio respectivamente. La distribución de estos promedios se acerca a una distribución normal."
   ]
  },
  {
   "cell_type": "code",
   "execution_count": null,
   "metadata": {},
   "outputs": [],
   "source": [
    "E_atomo_muestra=np.array([np.mean(new_energias_cap[new_energias_cap[\"N_total\"]<len(new_energias_cap[\"N_total\"])].sample(100)[\"E_atomo\"].values)for i in range(200)])"
   ]
  },
  {
   "cell_type": "code",
   "execution_count": null,
   "metadata": {},
   "outputs": [
    {
     "data": {
      "text/plain": [
       "array([-3.58546647, -3.57116475, -3.57696296, -3.57546369, -3.5826491 ,\n",
       "       -3.57488455, -3.58062464, -3.56720507, -3.58051451, -3.5852684 ,\n",
       "       -3.57180716, -3.59089585, -3.57713006, -3.58322399, -3.57173849,\n",
       "       -3.57560985, -3.57485718, -3.58300028, -3.57637931, -3.57183121,\n",
       "       -3.57226879, -3.55737322, -3.57588331, -3.58365453, -3.61004313,\n",
       "       -3.58050166, -3.58305277, -3.56741045, -3.58946252, -3.58262029,\n",
       "       -3.58839093, -3.57138014, -3.58849685, -3.57503931, -3.57761076,\n",
       "       -3.58105993, -3.5686649 , -3.57503055, -3.5777486 , -3.59098102,\n",
       "       -3.58444823, -3.58313012, -3.58862397, -3.59157026, -3.5736313 ,\n",
       "       -3.57843826, -3.58325849, -3.5696396 , -3.56965463, -3.56989698,\n",
       "       -3.58423067, -3.58045699, -3.58493749, -3.57543916, -3.56231167,\n",
       "       -3.57468031, -3.58160416, -3.59144529, -3.5720089 , -3.5687474 ,\n",
       "       -3.57852368, -3.58217414, -3.57872294, -3.57671619, -3.58088518,\n",
       "       -3.57995322, -3.58986357, -3.5824831 , -3.58417992, -3.57288366,\n",
       "       -3.57996981, -3.58617799, -3.5727255 , -3.56835289, -3.58124024,\n",
       "       -3.57646912, -3.58154138, -3.57888502, -3.57731242, -3.58855377,\n",
       "       -3.57996722, -3.58555915, -3.58139639, -3.59017806, -3.58317282,\n",
       "       -3.5787504 , -3.59640856, -3.59820993, -3.58805125, -3.59171016,\n",
       "       -3.56633956, -3.56835469, -3.58495668, -3.58259691, -3.5631381 ,\n",
       "       -3.58554582, -3.58271583, -3.57660012, -3.58141642, -3.5998984 ,\n",
       "       -3.57641048, -3.5811898 , -3.57577059, -3.58284936, -3.5806508 ,\n",
       "       -3.57158626, -3.57465962, -3.58152178, -3.57447659, -3.58993721,\n",
       "       -3.57594592, -3.58601634, -3.59639917, -3.57673512, -3.57166983,\n",
       "       -3.57145596, -3.58219792, -3.5754923 , -3.58503297, -3.59822411,\n",
       "       -3.58150221, -3.56987087, -3.59067992, -3.58889593, -3.56202427,\n",
       "       -3.57399777, -3.57834931, -3.57944487, -3.57089504, -3.57975729,\n",
       "       -3.57252907, -3.57976126, -3.5618121 , -3.58451568, -3.56896717,\n",
       "       -3.57576081, -3.57551435, -3.59723764, -3.56723127, -3.57471148,\n",
       "       -3.57282213, -3.59875866, -3.57920644, -3.57554687, -3.59162121,\n",
       "       -3.58327257, -3.58079845, -3.59156965, -3.57987547, -3.57894821,\n",
       "       -3.5885942 , -3.5788387 , -3.57684588, -3.58089075, -3.59050817,\n",
       "       -3.57571806, -3.57881943, -3.585478  , -3.58310856, -3.57914707,\n",
       "       -3.57639317, -3.57869922, -3.56635242, -3.56905346, -3.5852568 ,\n",
       "       -3.58195317, -3.57432736, -3.59128304, -3.58604495, -3.59270444,\n",
       "       -3.56859158, -3.57124999, -3.57956642, -3.57915665, -3.58376114,\n",
       "       -3.57958644, -3.58784711, -3.58294431, -3.57628028, -3.5732686 ,\n",
       "       -3.5882229 , -3.57185329, -3.5868195 , -3.58711565, -3.58796083,\n",
       "       -3.59029797, -3.56788034, -3.58578968, -3.58306321, -3.58307644,\n",
       "       -3.57968249, -3.58534701, -3.57150853, -3.57621239, -3.57689305,\n",
       "       -3.56899232, -3.56533937, -3.59481489, -3.57861131, -3.59167494])"
      ]
     },
     "execution_count": 40,
     "metadata": {},
     "output_type": "execute_result"
    }
   ],
   "source": [
    "E_atomo_muestra"
   ]
  },
  {
   "cell_type": "code",
   "execution_count": null,
   "metadata": {},
   "outputs": [
    {
     "data": {
      "text/plain": [
       "<AxesSubplot:ylabel='Density'>"
      ]
     },
     "execution_count": 41,
     "metadata": {},
     "output_type": "execute_result"
    },
    {
     "data": {
      "image/png": "[encoded data removed]",
      "text/plain": [
       "<Figure size 432x288 with 1 Axes>"
      ]
     },
     "metadata": {
      "needs_background": "light"
     },
     "output_type": "display_data"
    }
   ],
   "source": [
    "sns.distplot(E_atomo_muestra)"
   ]
  },
  {
   "cell_type": "code",
   "execution_count": null,
   "metadata": {},
   "outputs": [
    {
     "name": "stdout",
     "output_type": "stream",
     "text": [
      "Estadisticos=4.275, p=0.118\n",
      "La muestra parece Gaussiana o Normal (no se rechaza la hipótesis nula H0)\n"
     ]
    }
   ],
   "source": [
    "\n",
    "from numpy.random import seed, randn\n",
    "import matplotlib.pyplot as plt\n",
    "from scipy.stats import normaltest\n",
    "\n",
    "# Test de DAgostino\n",
    "stat, p = normaltest(E_atomo_muestra)\n",
    "print('Estadisticos=%.3f, p=%.3f' % (stat, p))\n",
    "# Interpretación\n",
    "alpha = 0.05\n",
    "if p > alpha:\n",
    "   print('La muestra parece Gaussiana o Normal (no se rechaza la hipótesis nula H0)')\n",
    "else:\n",
    "   print('La muestra no parece Gaussiana o Normal(se rechaza la hipótesis nula H0)')"
   ]
  },
  {
   "cell_type": "markdown",
   "metadata": {},
   "source": [
    "esta distribución está basada en medias muestrales, y no en resultados individuales, recibe un nombre especial. Se llama la distribución muestral de la media muestral  $\\vec{X}$,   \n",
    "LA media de $\\overline{X}$ es  $\\mu_{\\overline{X}}$, media de la poblacion formada por todas las medias muestrales. Osea el promedio del promedio de todas las muestras da:"
   ]
  },
  {
   "cell_type": "code",
   "execution_count": null,
   "metadata": {},
   "outputs": [
    {
     "data": {
      "text/plain": [
       "-3.579908054333582"
      ]
     },
     "execution_count": 43,
     "metadata": {},
     "output_type": "execute_result"
    }
   ],
   "source": [
    "E_atomo_muestra.mean()"
   ]
  },
  {
   "cell_type": "markdown",
   "metadata": {},
   "source": [
    "Los valores de cualquier población se desvían de su media. La variabilidad en una población de elementos (X) se mide en desviaciones estándares.  Las medias muestrales varían porque la muestra no abarca a toda la población, sino tan sólo un subconjunto; y como las muestras varían, las medias también.\n",
    "\n",
    "La variabilidad en la media muestral($\\overline{X}$)se mide con el error estandar $\\sigma _\\overline{X}=\\frac{\\sigma _x}{\\sqrt{n}}$\n",
    "\n",
    "dondo $\\sigma _x$ es la desviacion estandar de la población y n es el tamaño de cada muestra."
   ]
  },
  {
   "cell_type": "markdown",
   "metadata": {},
   "source": [
    "La media de esta distribución muestral es "
   ]
  },
  {
   "cell_type": "code",
   "execution_count": null,
   "metadata": {},
   "outputs": [
    {
     "data": {
      "text/plain": [
       "-3.579908054333582"
      ]
     },
     "execution_count": 44,
     "metadata": {},
     "output_type": "execute_result"
    }
   ],
   "source": [
    "mu=E_atomo_muestra.mean()\n",
    "mu"
   ]
  },
  {
   "cell_type": "markdown",
   "metadata": {},
   "source": [
    "\n",
    "La varianza de esta distribución muestral es"
   ]
  },
  {
   "cell_type": "code",
   "execution_count": null,
   "metadata": {},
   "outputs": [
    {
     "data": {
      "text/plain": [
       "0.009382240203992377"
      ]
     },
     "execution_count": 45,
     "metadata": {},
     "output_type": "execute_result"
    }
   ],
   "source": [
    "sigma_mu=(energias.E_atomo.std())/np.sqrt(100)\n",
    "sigma_mu"
   ]
  },
  {
   "cell_type": "markdown",
   "metadata": {},
   "source": [
    "✅ Y logró dar el error con 4 cifras significativas"
   ]
  },
  {
   "cell_type": "markdown",
   "metadata": {},
   "source": [
    "Distribución del tamaño de las partículas de cobalto, determinada a partir de la transición al estado superparamagnético [5]. Se hicieron dos suposiciones para la distribución del tamaño de partículas: (1) Una distribución normal con los parámetros\n",
    " = 5,5 nm y (curva roja) σ = 0,85 nm, similar al asumido por Woods et al. [5] y (2) una distribución extendida como superposición de dos distribuciones normales (curvas verdes) con los parámetros = 5,5 nm y σ1 = 0,7 nm. Teniendo en cuenta la cola extendida de la distribución del tamaño de partícula en el lado de las partículas más grandes, una segunda distribución normal con los parámetros  = 6,6 nm y se introdujo σ2 = 0,9 nm. En ambos casos, los datos experimentales proporcionados por Woods et al. [5] están bien reproducidos. Sin embargo, la suposición de una distribución de tamaño más amplia también se ocupa de las partículas en la cola del lado de las partículas más grandes."
   ]
  },
  {
   "cell_type": "code",
   "execution_count": null,
   "metadata": {},
   "outputs": [],
   "source": []
  },
  {
   "cell_type": "markdown",
   "metadata": {},
   "source": [
    "Shapiro-Wilk Test\n",
    "\n",
    "Tests whether a data sample has a Gaussian distribution.\n",
    "\n",
    "Assumptions\n",
    "\n",
    "Observations in each sample are independent and identically distributed (iid).\n",
    "Interpretation\n",
    "\n",
    "H0: the sample has a Gaussian distribution.\n",
    "H1: the sample does not have a Gaussian distribution.\n",
    "Python Code"
   ]
  },
  {
   "cell_type": "code",
   "execution_count": null,
   "metadata": {},
   "outputs": [],
   "source": [
    "energias=data[\"Total_E\"]/data[\"N_total\"]"
   ]
  },
  {
   "cell_type": "code",
   "execution_count": null,
   "metadata": {},
   "outputs": [
    {
     "data": {
      "text/plain": [
       "0      -3.695206\n",
       "1      -3.675642\n",
       "2      -3.737366\n",
       "3      -3.747003\n",
       "4      -3.764804\n",
       "          ...   \n",
       "3995   -3.543379\n",
       "3996   -3.549946\n",
       "3997   -3.573187\n",
       "3998   -3.577218\n",
       "3999   -3.578624\n",
       "Length: 4000, dtype: float64"
      ]
     },
     "execution_count": 47,
     "metadata": {},
     "output_type": "execute_result"
    }
   ],
   "source": [
    "energias"
   ]
  },
  {
   "cell_type": "code",
   "execution_count": null,
   "metadata": {},
   "outputs": [
    {
     "name": "stdout",
     "output_type": "stream",
     "text": [
      "stat=0.977, p=0.000\n",
      "Probably not Gaussian\n"
     ]
    }
   ],
   "source": [
    "# Example of the Shapiro-Wilk Normality Test\n",
    "from scipy.stats import shapiro\n",
    "data = energias\n",
    "stat, p = shapiro(data)\n",
    "print('stat=%.3f, p=%.3f' % (stat, p))\n",
    "if p > 0.05:\n",
    "\tprint('Probably Gaussian')\n",
    "else:\n",
    "\tprint('Probably not Gaussian')"
   ]
  },
  {
   "cell_type": "code",
   "execution_count": null,
   "metadata": {},
   "outputs": [],
   "source": [
    "new_energiasp=new_energias_cap[\"Total_E\"]/new_energias_cap[\"N_total\"]"
   ]
  },
  {
   "cell_type": "code",
   "execution_count": null,
   "metadata": {},
   "outputs": [
    {
     "name": "stdout",
     "output_type": "stream",
     "text": [
      "stat=173.562, p=0.000\n",
      "Probably not Gaussian\n"
     ]
    }
   ],
   "source": [
    "\n",
    "# Example of the D'Agostino's K^2 Normality Test\n",
    "from scipy.stats import normaltest\n",
    "stat, p = normaltest(new_energiasp)\n",
    "print('stat=%.3f, p=%.3f' % (stat, p))\n",
    "if p > 0.05:\n",
    "\tprint('Probably Gaussian')\n",
    "else:\n",
    "\tprint('Probably not Gaussian')"
   ]
  },
  {
   "cell_type": "code",
   "execution_count": 117,
   "metadata": {},
   "outputs": [
    {
     "data": {
      "text/plain": [
       "<AxesSubplot:xlabel='E_atomo', ylabel='Count'>"
      ]
     },
     "execution_count": 117,
     "metadata": {},
     "output_type": "execute_result"
    },
    {
     "data": {
      "image/png": "[encoded data removed]",
      "text/plain": [
       "<Figure size 432x288 with 1 Axes>"
      ]
     },
     "metadata": {
      "needs_background": "light"
     },
     "output_type": "display_data"
    }
   ],
   "source": [
    "sns.histplot(data[\"E_atomo\"])"
   ]
  },
  {
   "cell_type": "code",
   "execution_count": 119,
   "metadata": {},
   "outputs": [
    {
     "ename": "KeyError",
     "evalue": "'E_atomo'",
     "output_type": "error",
     "traceback": [
      "\u001b[0;31m---------------------------------------------------------------------------\u001b[0m",
      "\u001b[0;31mKeyError\u001b[0m                                  Traceback (most recent call last)",
      "\u001b[1;32m/Users/jofi/DEV_THE_BRIDGE_FEB22/EDA/previa/1-Au-DataSet/8th_Pruebas.ipynb Cell 91'\u001b[0m in \u001b[0;36m<module>\u001b[0;34m\u001b[0m\n\u001b[0;32m----> <a href='vscode-notebook-cell:/Users/jofi/DEV_THE_BRIDGE_FEB22/EDA/previa/1-Au-DataSet/8th_Pruebas.ipynb#ch0000102?line=0'>1</a>\u001b[0m \u001b[39mprint\u001b[39m(energias[energias[\u001b[39m'\u001b[39;49m\u001b[39mE_atomo\u001b[39;49m\u001b[39m'\u001b[39;49m] \u001b[39m<\u001b[39m \u001b[39m-\u001b[39m\u001b[39m3.7\u001b[39m][\u001b[39m\"\u001b[39m\u001b[39mN_total\u001b[39m\u001b[39m\"\u001b[39m])\n",
      "File \u001b[0;32m/opt/miniconda3/envs/the_bridge_22/lib/python3.9/site-packages/pandas/core/series.py:958\u001b[0m, in \u001b[0;36mSeries.__getitem__\u001b[0;34m(self, key)\u001b[0m\n\u001b[1;32m    <a href='file:///opt/miniconda3/envs/the_bridge_22/lib/python3.9/site-packages/pandas/core/series.py?line=954'>955</a>\u001b[0m     \u001b[39mreturn\u001b[39;00m \u001b[39mself\u001b[39m\u001b[39m.\u001b[39m_values[key]\n\u001b[1;32m    <a href='file:///opt/miniconda3/envs/the_bridge_22/lib/python3.9/site-packages/pandas/core/series.py?line=956'>957</a>\u001b[0m \u001b[39melif\u001b[39;00m key_is_scalar:\n\u001b[0;32m--> <a href='file:///opt/miniconda3/envs/the_bridge_22/lib/python3.9/site-packages/pandas/core/series.py?line=957'>958</a>\u001b[0m     \u001b[39mreturn\u001b[39;00m \u001b[39mself\u001b[39;49m\u001b[39m.\u001b[39;49m_get_value(key)\n\u001b[1;32m    <a href='file:///opt/miniconda3/envs/the_bridge_22/lib/python3.9/site-packages/pandas/core/series.py?line=959'>960</a>\u001b[0m \u001b[39mif\u001b[39;00m is_hashable(key):\n\u001b[1;32m    <a href='file:///opt/miniconda3/envs/the_bridge_22/lib/python3.9/site-packages/pandas/core/series.py?line=960'>961</a>\u001b[0m     \u001b[39m# Otherwise index.get_value will raise InvalidIndexError\u001b[39;00m\n\u001b[1;32m    <a href='file:///opt/miniconda3/envs/the_bridge_22/lib/python3.9/site-packages/pandas/core/series.py?line=961'>962</a>\u001b[0m     \u001b[39mtry\u001b[39;00m:\n\u001b[1;32m    <a href='file:///opt/miniconda3/envs/the_bridge_22/lib/python3.9/site-packages/pandas/core/series.py?line=962'>963</a>\u001b[0m         \u001b[39m# For labels that don't resolve as scalars like tuples and frozensets\u001b[39;00m\n",
      "File \u001b[0;32m/opt/miniconda3/envs/the_bridge_22/lib/python3.9/site-packages/pandas/core/series.py:1069\u001b[0m, in \u001b[0;36mSeries._get_value\u001b[0;34m(self, label, takeable)\u001b[0m\n\u001b[1;32m   <a href='file:///opt/miniconda3/envs/the_bridge_22/lib/python3.9/site-packages/pandas/core/series.py?line=1065'>1066</a>\u001b[0m     \u001b[39mreturn\u001b[39;00m \u001b[39mself\u001b[39m\u001b[39m.\u001b[39m_values[label]\n\u001b[1;32m   <a href='file:///opt/miniconda3/envs/the_bridge_22/lib/python3.9/site-packages/pandas/core/series.py?line=1067'>1068</a>\u001b[0m \u001b[39m# Similar to Index.get_value, but we do not fall back to positional\u001b[39;00m\n\u001b[0;32m-> <a href='file:///opt/miniconda3/envs/the_bridge_22/lib/python3.9/site-packages/pandas/core/series.py?line=1068'>1069</a>\u001b[0m loc \u001b[39m=\u001b[39m \u001b[39mself\u001b[39;49m\u001b[39m.\u001b[39;49mindex\u001b[39m.\u001b[39;49mget_loc(label)\n\u001b[1;32m   <a href='file:///opt/miniconda3/envs/the_bridge_22/lib/python3.9/site-packages/pandas/core/series.py?line=1069'>1070</a>\u001b[0m \u001b[39mreturn\u001b[39;00m \u001b[39mself\u001b[39m\u001b[39m.\u001b[39mindex\u001b[39m.\u001b[39m_get_values_for_loc(\u001b[39mself\u001b[39m, loc, label)\n",
      "File \u001b[0;32m/opt/miniconda3/envs/the_bridge_22/lib/python3.9/site-packages/pandas/core/indexes/range.py:389\u001b[0m, in \u001b[0;36mRangeIndex.get_loc\u001b[0;34m(self, key, method, tolerance)\u001b[0m\n\u001b[1;32m    <a href='file:///opt/miniconda3/envs/the_bridge_22/lib/python3.9/site-packages/pandas/core/indexes/range.py?line=386'>387</a>\u001b[0m             \u001b[39mraise\u001b[39;00m \u001b[39mKeyError\u001b[39;00m(key) \u001b[39mfrom\u001b[39;00m \u001b[39merr\u001b[39;00m\n\u001b[1;32m    <a href='file:///opt/miniconda3/envs/the_bridge_22/lib/python3.9/site-packages/pandas/core/indexes/range.py?line=387'>388</a>\u001b[0m     \u001b[39mself\u001b[39m\u001b[39m.\u001b[39m_check_indexing_error(key)\n\u001b[0;32m--> <a href='file:///opt/miniconda3/envs/the_bridge_22/lib/python3.9/site-packages/pandas/core/indexes/range.py?line=388'>389</a>\u001b[0m     \u001b[39mraise\u001b[39;00m \u001b[39mKeyError\u001b[39;00m(key)\n\u001b[1;32m    <a href='file:///opt/miniconda3/envs/the_bridge_22/lib/python3.9/site-packages/pandas/core/indexes/range.py?line=389'>390</a>\u001b[0m \u001b[39mreturn\u001b[39;00m \u001b[39msuper\u001b[39m()\u001b[39m.\u001b[39mget_loc(key, method\u001b[39m=\u001b[39mmethod, tolerance\u001b[39m=\u001b[39mtolerance)\n",
      "\u001b[0;31mKeyError\u001b[0m: 'E_atomo'"
     ]
    }
   ],
   "source": [
    "energias.loc[energias['E_atomo'] < -3.7][\"N_total\"])"
   ]
  },
  {
   "cell_type": "code",
   "execution_count": 120,
   "metadata": {},
   "outputs": [
    {
     "ename": "NameError",
     "evalue": "name 'ss' is not defined",
     "output_type": "error",
     "traceback": [
      "\u001b[0;31m---------------------------------------------------------------------------\u001b[0m",
      "\u001b[0;31mNameError\u001b[0m                                 Traceback (most recent call last)",
      "\u001b[1;32m/Users/jofi/DEV_THE_BRIDGE_FEB22/EDA/previa/1-Au-DataSet/8th_Pruebas.ipynb Cell 92'\u001b[0m in \u001b[0;36m<module>\u001b[0;34m\u001b[0m\n\u001b[0;32m----> <a href='vscode-notebook-cell:/Users/jofi/DEV_THE_BRIDGE_FEB22/EDA/previa/1-Au-DataSet/8th_Pruebas.ipynb#ch0000104?line=0'>1</a>\u001b[0m normalrv \u001b[39m=\u001b[39m ss\u001b[39m.\u001b[39mnorm\u001b[39m.\u001b[39mrvs(size\u001b[39m=\u001b[39m\u001b[39m10000\u001b[39m, random_state\u001b[39m=\u001b[39m\u001b[39m256\u001b[39m) \u001b[39m# Genera números aleatorios \u001b[39;00m\n\u001b[1;32m      <a href='vscode-notebook-cell:/Users/jofi/DEV_THE_BRIDGE_FEB22/EDA/previa/1-Au-DataSet/8th_Pruebas.ipynb#ch0000104?line=1'>2</a>\u001b[0m cuenta, cajas, ignorar \u001b[39m=\u001b[39m plt\u001b[39m.\u001b[39mhist(normalrv, \u001b[39m100\u001b[39m)\n\u001b[1;32m      <a href='vscode-notebook-cell:/Users/jofi/DEV_THE_BRIDGE_FEB22/EDA/previa/1-Au-DataSet/8th_Pruebas.ipynb#ch0000104?line=2'>3</a>\u001b[0m plt\u001b[39m.\u001b[39mylabel(\u001b[39m'\u001b[39m\u001b[39mFrecuencia\u001b[39m\u001b[39m'\u001b[39m)\n",
      "\u001b[0;31mNameError\u001b[0m: name 'ss' is not defined"
     ]
    }
   ],
   "source": [
    "normalrv = ss.norm.rvs(size=10000, random_state=256) # Genera números aleatorios \n",
    "cuenta, cajas, ignorar = plt.hist(normalrv, 100)\n",
    "plt.ylabel('Frecuencia')\n",
    "plt.xlabel('X')\n",
    "plt.title('Histograma números aleatorios Normal')\n",
    "plt.show()"
   ]
  },
  {
   "cell_type": "code",
   "execution_count": 121,
   "metadata": {},
   "outputs": [
    {
     "ename": "NameError",
     "evalue": "name 'normalrv' is not defined",
     "output_type": "error",
     "traceback": [
      "\u001b[0;31m---------------------------------------------------------------------------\u001b[0m",
      "\u001b[0;31mNameError\u001b[0m                                 Traceback (most recent call last)",
      "\u001b[1;32m/Users/jofi/DEV_THE_BRIDGE_FEB22/EDA/previa/1-Au-DataSet/8th_Pruebas.ipynb Cell 93'\u001b[0m in \u001b[0;36m<module>\u001b[0;34m\u001b[0m\n\u001b[0;32m----> <a href='vscode-notebook-cell:/Users/jofi/DEV_THE_BRIDGE_FEB22/EDA/previa/1-Au-DataSet/8th_Pruebas.ipynb#ch0000103?line=0'>1</a>\u001b[0m serie \u001b[39m=\u001b[39m normalrv\n\u001b[1;32m      <a href='vscode-notebook-cell:/Users/jofi/DEV_THE_BRIDGE_FEB22/EDA/previa/1-Au-DataSet/8th_Pruebas.ipynb#ch0000103?line=1'>2</a>\u001b[0m col\u001b[39m=\u001b[39m\u001b[39m\"\u001b[39m\u001b[39mcol\u001b[39m\u001b[39m\"\u001b[39m\n\u001b[1;32m      <a href='vscode-notebook-cell:/Users/jofi/DEV_THE_BRIDGE_FEB22/EDA/previa/1-Au-DataSet/8th_Pruebas.ipynb#ch0000103?line=2'>3</a>\u001b[0m \u001b[39m# D'Agostino's K-squared test\u001b[39;00m\n\u001b[1;32m      <a href='vscode-notebook-cell:/Users/jofi/DEV_THE_BRIDGE_FEB22/EDA/previa/1-Au-DataSet/8th_Pruebas.ipynb#ch0000103?line=3'>4</a>\u001b[0m \u001b[39m# ==============================================================================\u001b[39;00m\n",
      "\u001b[0;31mNameError\u001b[0m: name 'normalrv' is not defined"
     ]
    }
   ],
   "source": [
    "serie = normalrv\n",
    "col=\"col\"\n",
    "# D'Agostino's K-squared test\n",
    "# ==============================================================================\n",
    "k2, p_value = ss.normaltest(serie)\n",
    "print(\"D'Agostino's K2 test:\")\n",
    "print(f\"\\t Estadístico = {k2}, p-value = {p_value}\")\n",
    "\n",
    "alpha=0.05\n",
    "if p_value <= alpha:\n",
    "    print(f\"P_Valor < 0.05 -> Se rechaza H0 \\n\\t  No es posible asegurar que {col} sigue una distribución normal.\")\n",
    "else:\n",
    "    print(f\"P_Valor > 0.05 -> Se acepta H0 \\n\\t   Es posible asegurar que {col} sigue una distribución normal.\")\n",
    "print(\"*\"*80)   \n",
    "\n",
    "# Histograma + curva normal teórica\n",
    "# ==============================================================================\n",
    "# Valores de la media (mu) y desviación típica (sigma) de los datos\n",
    "mu, sigma = ss.norm.fit(serie)\n",
    "\n",
    "# Valores teóricos de la normal en el rango observado\n",
    "x_hat = np.linspace(min(serie), max(serie), num=100)\n",
    "y_hat = ss.norm.pdf(x_hat, mu, sigma)\n",
    "\n",
    "# Gráfico\n",
    "fig, ax = plt.subplots(figsize=(7,4))\n",
    "ax.plot(x_hat, y_hat, linewidth=2, color=\"red\", label='normal teórica')\n",
    "ax.hist(x=serie, density=True, bins=80, color=\"#3182bd\", alpha=0.5)\n",
    "\n",
    "ax.set_title(f'Distribución de {col}')\n",
    "ax.set_xlabel(f'{col}')\n",
    "ax.set_ylabel('Densidad de probabilidad')\n",
    "ax.legend()\n",
    "# Gráfico Q-Q\n",
    "# ==============================================================================\n",
    "fig, ax = plt.subplots(figsize=(7,4))\n",
    "sm.qqplot(serie, fit = True, line=\"s\", color=\"blue\", alpha = 0.4, lw = 2, ax= ax)\n",
    "ax.set_title(f'Gráfico Q-Q de {col}', fontsize = 10, fontweight = \"bold\")\n",
    "ax.tick_params(labelsize = 7)"
   ]
  },
  {
   "cell_type": "markdown",
   "metadata": {},
   "source": []
  }
 ],
 "metadata": {
  "interpreter": {
   "hash": "445205104a770911ae53d4ff7a59ff70b3e90228acbd85cde7f2b8827f0b2456"
  },
  "kernelspec": {
   "display_name": "Python 3.9.5 ('the_bridge_22')",
   "language": "python",
   "name": "python3"
  },
  "language_info": {
   "codemirror_mode": {
    "name": "ipython",
    "version": 3
   },
   "file_extension": ".py",
   "mimetype": "text/x-python",
   "name": "python",
   "nbconvert_exporter": "python",
   "pygments_lexer": "ipython3",
   "version": "3.9.5"
  },
  "orig_nbformat": 4
 },
 "nbformat": 4,
 "nbformat_minor": 2
}
