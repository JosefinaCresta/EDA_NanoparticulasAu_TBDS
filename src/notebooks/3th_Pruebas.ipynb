{
 "cells": [
  {
   "cell_type": "markdown",
   "metadata": {},
   "source": []
  },
  {
   "cell_type": "markdown",
   "metadata": {},
   "source": [
    "\n",
    "## 3th analisis \n",
    "### PARA: \n",
    "    `La relación entre la temperatura de formación y la tasa de crecimiento separada por el volumen de las nano particulas`\n",
    "==================================================================="
   ]
  },
  {
   "cell_type": "markdown",
   "metadata": {},
   "source": [
    "# ANALISIS DE DATOS DE NANOPARTICULAS DE ORO\n",
    "### EDA\n",
    "#### Autora: Josefina Cresta"
   ]
  },
  {
   "cell_type": "markdown",
   "metadata": {},
   "source": [
    "### Importación de librerias"
   ]
  },
  {
   "cell_type": "code",
   "execution_count": 1,
   "metadata": {},
   "outputs": [],
   "source": [
    "import pandas as pd\n",
    "import numpy as np\n",
    "import matplotlib as mpl\n",
    "import matplotlib.pyplot as plt\n",
    "%matplotlib inline"
   ]
  },
  {
   "cell_type": "markdown",
   "metadata": {},
   "source": [
    "## Importación de base de datos"
   ]
  },
  {
   "cell_type": "code",
   "execution_count": 4,
   "metadata": {},
   "outputs": [],
   "source": [
    "data = pd.read_csv(\"/Users/jofi/DEV_THE_BRIDGE_FEB22/EDA/previa/1-Au-DataSet/Au_nanoparticle_dataset.csv\")"
   ]
  },
  {
   "cell_type": "markdown",
   "metadata": {},
   "source": [
    "## Analisis de la relación entre la temperatura de formación y la tasa de crecimiento separada por el volumen de las nano particulas "
   ]
  },
  {
   "cell_type": "code",
   "execution_count": 6,
   "metadata": {},
   "outputs": [
    {
     "data": {
      "text/plain": [
       "<bound method IndexOpsMixin.tolist of Index(['ID', 'T', 'tau', 'time', 'N_total', 'N_bulk', 'N_surface', 'Volume',\n",
       "       'R_min', 'R_max',\n",
       "       ...\n",
       "       'q6q6_S14', 'q6q6_S15', 'q6q6_S16', 'q6q6_S17', 'q6q6_S18', 'q6q6_S19',\n",
       "       'q6q6_S20', 'q6q6_S20+', 'Total_E', 'Formation_E'],\n",
       "      dtype='object', length=185)>"
      ]
     },
     "execution_count": 6,
     "metadata": {},
     "output_type": "execute_result"
    }
   ],
   "source": [
    "data.columns.to_list"
   ]
  },
  {
   "cell_type": "code",
   "execution_count": 19,
   "metadata": {},
   "outputs": [],
   "source": [
    "data_3= data.iloc[:,0:4]"
   ]
  },
  {
   "cell_type": "code",
   "execution_count": 20,
   "metadata": {},
   "outputs": [
    {
     "data": {
      "text/html": [
       "<div>\n",
       "<style scoped>\n",
       "    .dataframe tbody tr th:only-of-type {\n",
       "        vertical-align: middle;\n",
       "    }\n",
       "\n",
       "    .dataframe tbody tr th {\n",
       "        vertical-align: top;\n",
       "    }\n",
       "\n",
       "    .dataframe thead th {\n",
       "        text-align: right;\n",
       "    }\n",
       "</style>\n",
       "<table border=\"1\" class=\"dataframe\">\n",
       "  <thead>\n",
       "    <tr style=\"text-align: right;\">\n",
       "      <th></th>\n",
       "      <th>ID</th>\n",
       "      <th>T</th>\n",
       "      <th>tau</th>\n",
       "      <th>time</th>\n",
       "    </tr>\n",
       "  </thead>\n",
       "  <tbody>\n",
       "    <tr>\n",
       "      <th>0</th>\n",
       "      <td>1</td>\n",
       "      <td>273</td>\n",
       "      <td>0.000025</td>\n",
       "      <td>1</td>\n",
       "    </tr>\n",
       "    <tr>\n",
       "      <th>1</th>\n",
       "      <td>2</td>\n",
       "      <td>273</td>\n",
       "      <td>0.000025</td>\n",
       "      <td>2</td>\n",
       "    </tr>\n",
       "    <tr>\n",
       "      <th>2</th>\n",
       "      <td>3</td>\n",
       "      <td>273</td>\n",
       "      <td>0.000025</td>\n",
       "      <td>3</td>\n",
       "    </tr>\n",
       "    <tr>\n",
       "      <th>3</th>\n",
       "      <td>4</td>\n",
       "      <td>273</td>\n",
       "      <td>0.000025</td>\n",
       "      <td>4</td>\n",
       "    </tr>\n",
       "    <tr>\n",
       "      <th>4</th>\n",
       "      <td>5</td>\n",
       "      <td>273</td>\n",
       "      <td>0.000025</td>\n",
       "      <td>5</td>\n",
       "    </tr>\n",
       "    <tr>\n",
       "      <th>...</th>\n",
       "      <td>...</td>\n",
       "      <td>...</td>\n",
       "      <td>...</td>\n",
       "      <td>...</td>\n",
       "    </tr>\n",
       "    <tr>\n",
       "      <th>3995</th>\n",
       "      <td>3996</td>\n",
       "      <td>973</td>\n",
       "      <td>0.000250</td>\n",
       "      <td>6</td>\n",
       "    </tr>\n",
       "    <tr>\n",
       "      <th>3996</th>\n",
       "      <td>3997</td>\n",
       "      <td>973</td>\n",
       "      <td>0.000250</td>\n",
       "      <td>7</td>\n",
       "    </tr>\n",
       "    <tr>\n",
       "      <th>3997</th>\n",
       "      <td>3998</td>\n",
       "      <td>973</td>\n",
       "      <td>0.000250</td>\n",
       "      <td>8</td>\n",
       "    </tr>\n",
       "    <tr>\n",
       "      <th>3998</th>\n",
       "      <td>3999</td>\n",
       "      <td>973</td>\n",
       "      <td>0.000250</td>\n",
       "      <td>9</td>\n",
       "    </tr>\n",
       "    <tr>\n",
       "      <th>3999</th>\n",
       "      <td>4000</td>\n",
       "      <td>973</td>\n",
       "      <td>0.000250</td>\n",
       "      <td>10</td>\n",
       "    </tr>\n",
       "  </tbody>\n",
       "</table>\n",
       "<p>4000 rows × 4 columns</p>\n",
       "</div>"
      ],
      "text/plain": [
       "        ID    T       tau  time\n",
       "0        1  273  0.000025     1\n",
       "1        2  273  0.000025     2\n",
       "2        3  273  0.000025     3\n",
       "3        4  273  0.000025     4\n",
       "4        5  273  0.000025     5\n",
       "...    ...  ...       ...   ...\n",
       "3995  3996  973  0.000250     6\n",
       "3996  3997  973  0.000250     7\n",
       "3997  3998  973  0.000250     8\n",
       "3998  3999  973  0.000250     9\n",
       "3999  4000  973  0.000250    10\n",
       "\n",
       "[4000 rows x 4 columns]"
      ]
     },
     "execution_count": 20,
     "metadata": {},
     "output_type": "execute_result"
    }
   ],
   "source": [
    "data_3"
   ]
  },
  {
   "cell_type": "code",
   "execution_count": 23,
   "metadata": {},
   "outputs": [],
   "source": [
    "data_3['Volumen']=data['Volume']"
   ]
  },
  {
   "cell_type": "code",
   "execution_count": 24,
   "metadata": {},
   "outputs": [
    {
     "data": {
      "text/html": [
       "<div>\n",
       "<style scoped>\n",
       "    .dataframe tbody tr th:only-of-type {\n",
       "        vertical-align: middle;\n",
       "    }\n",
       "\n",
       "    .dataframe tbody tr th {\n",
       "        vertical-align: top;\n",
       "    }\n",
       "\n",
       "    .dataframe thead th {\n",
       "        text-align: right;\n",
       "    }\n",
       "</style>\n",
       "<table border=\"1\" class=\"dataframe\">\n",
       "  <thead>\n",
       "    <tr style=\"text-align: right;\">\n",
       "      <th></th>\n",
       "      <th>ID</th>\n",
       "      <th>T</th>\n",
       "      <th>tau</th>\n",
       "      <th>time</th>\n",
       "      <th>Volumen</th>\n",
       "    </tr>\n",
       "  </thead>\n",
       "  <tbody>\n",
       "    <tr>\n",
       "      <th>0</th>\n",
       "      <td>1</td>\n",
       "      <td>273</td>\n",
       "      <td>0.000025</td>\n",
       "      <td>1</td>\n",
       "      <td>2.710000e-26</td>\n",
       "    </tr>\n",
       "    <tr>\n",
       "      <th>1</th>\n",
       "      <td>2</td>\n",
       "      <td>273</td>\n",
       "      <td>0.000025</td>\n",
       "      <td>2</td>\n",
       "      <td>2.780000e-26</td>\n",
       "    </tr>\n",
       "    <tr>\n",
       "      <th>2</th>\n",
       "      <td>3</td>\n",
       "      <td>273</td>\n",
       "      <td>0.000025</td>\n",
       "      <td>3</td>\n",
       "      <td>7.850000e-26</td>\n",
       "    </tr>\n",
       "    <tr>\n",
       "      <th>3</th>\n",
       "      <td>4</td>\n",
       "      <td>273</td>\n",
       "      <td>0.000025</td>\n",
       "      <td>4</td>\n",
       "      <td>1.220000e-25</td>\n",
       "    </tr>\n",
       "    <tr>\n",
       "      <th>4</th>\n",
       "      <td>5</td>\n",
       "      <td>273</td>\n",
       "      <td>0.000025</td>\n",
       "      <td>5</td>\n",
       "      <td>1.860000e-25</td>\n",
       "    </tr>\n",
       "    <tr>\n",
       "      <th>...</th>\n",
       "      <td>...</td>\n",
       "      <td>...</td>\n",
       "      <td>...</td>\n",
       "      <td>...</td>\n",
       "      <td>...</td>\n",
       "    </tr>\n",
       "    <tr>\n",
       "      <th>3995</th>\n",
       "      <td>3996</td>\n",
       "      <td>973</td>\n",
       "      <td>0.000250</td>\n",
       "      <td>6</td>\n",
       "      <td>2.550000e-26</td>\n",
       "    </tr>\n",
       "    <tr>\n",
       "      <th>3996</th>\n",
       "      <td>3997</td>\n",
       "      <td>973</td>\n",
       "      <td>0.000250</td>\n",
       "      <td>7</td>\n",
       "      <td>3.920000e-26</td>\n",
       "    </tr>\n",
       "    <tr>\n",
       "      <th>3997</th>\n",
       "      <td>3998</td>\n",
       "      <td>973</td>\n",
       "      <td>0.000250</td>\n",
       "      <td>8</td>\n",
       "      <td>4.680000e-26</td>\n",
       "    </tr>\n",
       "    <tr>\n",
       "      <th>3998</th>\n",
       "      <td>3999</td>\n",
       "      <td>973</td>\n",
       "      <td>0.000250</td>\n",
       "      <td>9</td>\n",
       "      <td>5.330000e-26</td>\n",
       "    </tr>\n",
       "    <tr>\n",
       "      <th>3999</th>\n",
       "      <td>4000</td>\n",
       "      <td>973</td>\n",
       "      <td>0.000250</td>\n",
       "      <td>10</td>\n",
       "      <td>6.750000e-26</td>\n",
       "    </tr>\n",
       "  </tbody>\n",
       "</table>\n",
       "<p>4000 rows × 5 columns</p>\n",
       "</div>"
      ],
      "text/plain": [
       "        ID    T       tau  time       Volumen\n",
       "0        1  273  0.000025     1  2.710000e-26\n",
       "1        2  273  0.000025     2  2.780000e-26\n",
       "2        3  273  0.000025     3  7.850000e-26\n",
       "3        4  273  0.000025     4  1.220000e-25\n",
       "4        5  273  0.000025     5  1.860000e-25\n",
       "...    ...  ...       ...   ...           ...\n",
       "3995  3996  973  0.000250     6  2.550000e-26\n",
       "3996  3997  973  0.000250     7  3.920000e-26\n",
       "3997  3998  973  0.000250     8  4.680000e-26\n",
       "3998  3999  973  0.000250     9  5.330000e-26\n",
       "3999  4000  973  0.000250    10  6.750000e-26\n",
       "\n",
       "[4000 rows x 5 columns]"
      ]
     },
     "execution_count": 24,
     "metadata": {},
     "output_type": "execute_result"
    }
   ],
   "source": [
    "data_3"
   ]
  },
  {
   "cell_type": "markdown",
   "metadata": {},
   "source": [
    "Pienso analizar la relación entre el volumen de las nanoparticulas y su taza de crecimiento, agrupados por la temperatura de formación."
   ]
  },
  {
   "cell_type": "code",
   "execution_count": 25,
   "metadata": {},
   "outputs": [
    {
     "data": {
      "text/plain": [
       "array([273, 303, 323, 373, 423, 473, 523, 573, 623, 673, 723, 773, 823,\n",
       "       873, 923, 973])"
      ]
     },
     "execution_count": 25,
     "metadata": {},
     "output_type": "execute_result"
    }
   ],
   "source": [
    "data_3['T'].unique()"
   ]
  },
  {
   "cell_type": "code",
   "execution_count": 26,
   "metadata": {},
   "outputs": [
    {
     "data": {
      "text/plain": [
       "array([2.50e-05, 5.00e-05, 7.50e-05, 1.00e-04, 1.25e-04, 1.50e-04,\n",
       "       1.75e-04, 2.00e-04, 2.25e-04, 2.50e-04, 0.00e+00])"
      ]
     },
     "execution_count": 26,
     "metadata": {},
     "output_type": "execute_result"
    }
   ],
   "source": [
    "data_3['tau'].unique()"
   ]
  },
  {
   "cell_type": "code",
   "execution_count": 29,
   "metadata": {},
   "outputs": [
    {
     "data": {
      "text/plain": [
       "array([2.71e-26, 2.78e-26, 7.85e-26, 1.22e-25, 1.86e-25, 2.26e-25,\n",
       "       2.34e-25, 2.36e-25, 2.37e-25, 2.38e-25, 2.60e-26, 2.64e-26,\n",
       "       7.37e-26, 1.11e-25, 1.72e-25, 2.10e-25, 2.24e-25, 2.29e-25,\n",
       "       2.32e-25, 2.33e-25, 2.48e-26, 2.50e-26, 5.45e-26, 7.27e-26,\n",
       "       1.12e-25, 1.56e-25, 1.84e-25, 2.08e-25, 2.22e-25, 2.28e-25,\n",
       "       2.27e-26, 2.28e-26, 4.39e-26, 5.21e-26, 7.51e-26, 1.00e-25,\n",
       "       1.43e-25, 1.70e-25, 1.93e-25, 2.09e-25, 1.89e-26, 1.90e-26,\n",
       "       3.29e-26, 4.26e-26, 5.58e-26, 8.29e-26, 1.01e-25, 1.31e-25,\n",
       "       1.55e-25, 1.77e-25, 1.59e-26, 1.60e-26, 2.66e-26, 3.21e-26,\n",
       "       4.67e-26, 5.40e-26, 7.60e-26, 9.87e-26, 1.14e-25, 1.40e-25,\n",
       "       1.27e-26, 1.32e-26, 2.07e-26, 2.33e-26, 3.36e-26, 4.55e-26,\n",
       "       5.77e-26, 8.12e-26, 1.05e-25, 1.25e-25, 1.09e-26, 1.19e-26,\n",
       "       1.82e-26, 2.23e-26, 2.63e-26, 3.26e-26, 5.29e-26, 7.50e-26,\n",
       "       8.70e-26, 9.68e-27, 9.75e-27, 1.34e-26, 2.39e-26, 2.65e-26,\n",
       "       3.48e-26, 3.85e-26, 4.60e-26, 6.78e-26, 6.11e-27, 6.16e-27,\n",
       "       1.22e-26, 1.46e-26, 2.04e-26, 2.90e-26, 3.18e-26, 4.40e-26,\n",
       "       5.25e-26, 6.04e-26, 2.70e-26, 2.80e-26, 1.26e-25, 1.87e-25,\n",
       "       2.35e-25, 2.58e-26, 2.61e-26, 7.33e-26, 1.08e-25, 1.68e-25,\n",
       "       2.11e-25, 2.30e-25, 2.47e-26, 2.49e-26, 5.43e-26, 7.52e-26,\n",
       "       1.20e-25, 1.53e-25, 1.83e-25, 2.21e-25, 2.27e-25, 2.25e-26,\n",
       "       4.17e-26, 7.73e-26, 1.13e-25, 1.35e-25, 1.94e-25, 1.93e-26,\n",
       "       3.98e-26, 5.55e-26, 7.86e-26, 1.10e-25, 1.58e-25, 1.76e-25,\n",
       "       1.56e-26, 1.57e-26, 2.59e-26, 3.22e-26, 3.87e-26, 5.34e-26,\n",
       "       6.69e-26, 8.86e-26, 1.17e-25, 1.44e-25, 1.21e-26, 1.23e-26,\n",
       "       2.10e-26, 3.19e-26, 4.43e-26, 5.91e-26, 6.90e-26, 9.58e-26,\n",
       "       1.18e-25, 6.69e-27, 6.77e-27, 1.73e-26, 2.18e-26, 2.73e-26,\n",
       "       3.39e-26, 4.29e-26, 6.40e-26, 8.03e-26, 8.90e-26, 9.46e-27,\n",
       "       1.01e-26, 1.98e-26, 2.40e-26, 2.62e-26, 3.30e-26, 3.99e-26,\n",
       "       5.52e-26, 7.84e-26, 6.15e-27, 6.28e-27, 1.63e-26, 1.86e-26,\n",
       "       2.05e-26, 4.62e-26, 6.08e-26, 4.00e-27, 4.03e-27, 4.10e-27,\n",
       "       4.18e-27, 4.23e-27, 4.33e-27, 4.37e-27, 4.40e-27, 4.54e-27,\n",
       "       4.62e-27, 4.64e-27, 4.72e-27, 4.84e-27, 4.86e-27, 5.04e-27,\n",
       "       5.08e-27, 5.23e-27, 5.28e-27, 5.35e-27, 5.38e-27, 5.49e-27,\n",
       "       5.54e-27, 5.64e-27, 5.72e-27, 5.76e-27, 5.82e-27, 5.84e-27,\n",
       "       5.86e-27, 5.96e-27, 6.21e-27, 6.25e-27, 6.43e-27, 6.48e-27,\n",
       "       6.52e-27, 6.55e-27, 6.59e-27, 6.65e-27, 6.67e-27, 6.75e-27,\n",
       "       6.86e-27, 6.92e-27, 7.08e-27, 7.16e-27, 7.18e-27, 7.25e-27,\n",
       "       7.26e-27, 7.35e-27, 7.40e-27, 7.48e-27, 7.50e-27, 7.58e-27,\n",
       "       7.67e-27, 7.70e-27, 7.72e-27, 7.77e-27, 7.79e-27, 8.18e-27,\n",
       "       8.19e-27, 8.21e-27, 8.28e-27, 8.40e-27, 8.45e-27, 8.46e-27,\n",
       "       8.48e-27, 8.58e-27, 8.62e-27, 8.68e-27, 8.80e-27, 8.87e-27,\n",
       "       8.96e-27, 9.11e-27, 9.12e-27, 9.29e-27, 9.31e-27, 9.50e-27,\n",
       "       9.62e-27, 9.63e-27, 9.80e-27, 9.90e-27, 9.92e-27, 1.00e-26,\n",
       "       1.02e-26, 1.03e-26, 1.04e-26, 1.05e-26, 1.11e-26, 1.12e-26,\n",
       "       1.13e-26, 1.14e-26, 1.15e-26, 1.16e-26, 1.18e-26, 1.20e-26,\n",
       "       1.24e-26, 1.25e-26, 1.26e-26, 1.28e-26, 1.30e-26, 1.33e-26,\n",
       "       1.36e-26, 1.37e-26, 1.38e-26, 1.40e-26, 1.41e-26, 1.42e-26,\n",
       "       1.43e-26, 1.44e-26, 1.45e-26, 1.48e-26, 1.50e-26, 1.51e-26,\n",
       "       1.52e-26, 1.53e-26, 1.58e-26, 1.62e-26, 1.64e-26, 1.65e-26,\n",
       "       1.66e-26, 1.67e-26, 1.68e-26, 1.69e-26, 1.70e-26, 1.71e-26,\n",
       "       1.72e-26, 1.74e-26, 1.77e-26, 1.78e-26, 1.79e-26, 1.80e-26,\n",
       "       1.81e-26, 1.83e-26, 1.84e-26, 1.87e-26, 1.88e-26, 1.91e-26,\n",
       "       1.92e-26, 1.94e-26, 1.95e-26, 1.96e-26, 1.97e-26, 1.99e-26,\n",
       "       2.01e-26, 2.03e-26, 2.06e-26, 2.08e-26, 2.11e-26, 2.13e-26,\n",
       "       2.14e-26, 2.15e-26, 2.16e-26, 2.20e-26, 2.21e-26, 2.22e-26,\n",
       "       2.26e-26, 2.29e-26, 2.32e-26, 2.34e-26, 2.35e-26, 2.37e-26,\n",
       "       2.38e-26, 2.41e-26, 2.42e-26, 2.44e-26, 2.46e-26, 2.51e-26,\n",
       "       2.52e-26, 2.53e-26, 2.54e-26, 2.55e-26, 2.56e-26, 2.67e-26,\n",
       "       2.68e-26, 2.72e-26, 2.76e-26, 2.77e-26, 2.79e-26, 2.81e-26,\n",
       "       2.82e-26, 2.83e-26, 2.84e-26, 2.85e-26, 2.86e-26, 2.87e-26,\n",
       "       2.88e-26, 2.91e-26, 2.93e-26, 2.94e-26, 2.95e-26, 4.65e-26,\n",
       "       2.96e-26, 2.97e-26, 2.98e-26, 2.99e-26, 3.00e-26, 3.02e-26,\n",
       "       3.04e-26, 3.05e-26, 3.06e-26, 3.07e-26, 3.09e-26, 3.10e-26,\n",
       "       3.11e-26, 3.12e-26, 3.13e-26, 3.14e-26, 3.16e-26, 3.23e-26,\n",
       "       3.25e-26, 3.28e-26, 3.38e-26, 3.31e-26, 3.33e-26, 3.35e-26,\n",
       "       3.37e-26, 3.45e-26, 3.46e-26, 3.47e-26, 3.49e-26, 3.50e-26,\n",
       "       3.54e-26, 3.56e-26, 3.57e-26, 3.60e-26, 3.63e-26, 3.65e-26,\n",
       "       3.66e-26, 3.67e-26, 3.68e-26, 3.69e-26, 3.70e-26, 3.71e-26,\n",
       "       3.72e-26, 3.74e-26, 3.75e-26, 3.77e-26, 3.78e-26, 3.81e-26,\n",
       "       3.82e-26, 3.88e-26, 3.89e-26, 3.90e-26, 3.93e-26, 3.94e-26,\n",
       "       3.96e-26, 3.97e-26, 4.01e-26, 4.03e-26, 4.04e-26, 4.07e-26,\n",
       "       4.09e-26, 4.12e-26, 4.13e-26, 4.16e-26, 4.20e-26, 4.22e-26,\n",
       "       4.23e-26, 4.33e-26, 4.49e-26, 4.63e-26, 4.85e-26, 4.86e-26,\n",
       "       4.95e-26, 5.09e-26, 5.17e-26, 5.41e-26, 5.47e-26, 5.56e-26,\n",
       "       5.63e-26, 5.73e-26, 5.81e-26, 6.15e-26, 6.18e-26, 6.19e-26,\n",
       "       6.21e-26, 6.31e-26, 6.33e-26, 6.45e-26, 6.59e-26, 6.71e-26,\n",
       "       6.77e-26, 7.02e-26, 7.19e-26, 7.24e-26, 7.38e-26, 7.40e-26,\n",
       "       7.61e-26, 7.62e-26, 7.75e-26, 7.80e-26, 8.37e-26, 8.48e-26,\n",
       "       8.61e-26, 8.68e-26, 8.76e-26, 8.98e-26, 9.04e-26, 9.08e-26,\n",
       "       9.24e-26, 9.27e-26, 9.63e-26, 9.84e-26, 9.91e-26, 1.03e-25,\n",
       "       1.07e-25, 1.15e-25, 1.19e-25, 1.23e-25, 1.27e-25, 1.29e-25,\n",
       "       1.32e-25, 1.33e-25, 1.37e-25, 1.39e-25, 1.41e-25, 1.42e-25,\n",
       "       1.45e-25, 1.46e-25, 1.48e-25, 1.50e-25, 1.51e-25, 1.54e-25,\n",
       "       1.57e-25, 1.59e-25, 1.65e-25, 1.67e-25, 1.71e-25, 1.80e-25,\n",
       "       1.85e-25, 1.88e-25, 1.91e-25, 1.97e-25, 1.98e-25, 1.99e-25,\n",
       "       2.06e-25, 2.15e-25, 2.20e-25, 7.43e-26, 7.15e-26, 4.08e-26,\n",
       "       5.89e-26, 8.28e-26, 1.92e-25, 4.53e-26, 6.12e-26, 8.22e-26,\n",
       "       1.75e-25, 2.75e-26, 4.45e-26, 5.88e-26, 7.83e-26, 1.04e-25,\n",
       "       1.35e-26, 3.84e-26, 6.38e-26, 8.23e-26, 9.86e-26, 1.07e-26,\n",
       "       4.97e-26, 6.46e-26, 8.18e-26, 9.33e-26, 8.53e-27, 8.57e-27,\n",
       "       3.08e-26, 5.64e-26, 6.43e-26, 7.21e-27, 2.24e-26, 5.10e-26,\n",
       "       7.91e-26, 2.39e-25, 7.39e-26, 1.09e-25, 2.31e-25, 2.45e-26,\n",
       "       5.48e-26, 7.68e-26, 1.82e-25, 4.32e-26, 7.94e-26, 1.02e-25,\n",
       "       1.36e-25, 1.69e-25, 5.95e-26, 1.54e-26, 4.27e-26, 6.91e-26,\n",
       "       8.87e-26, 1.24e-25, 1.10e-26, 3.41e-26, 4.75e-26, 5.30e-26,\n",
       "       7.10e-26, 8.66e-26, 2.31e-26, 3.43e-26, 6.22e-26, 7.44e-26,\n",
       "       9.79e-27, 9.94e-27, 2.74e-26, 3.51e-26, 5.65e-26, 6.64e-26,\n",
       "       8.06e-27, 2.09e-26, 3.61e-26, 4.82e-26, 5.74e-26, 7.92e-26,\n",
       "       2.40e-25, 2.41e-25, 5.51e-26, 7.34e-26, 4.06e-26, 5.68e-26,\n",
       "       1.34e-25, 2.07e-25, 3.32e-26, 4.58e-26, 5.90e-26, 7.17e-26,\n",
       "       1.64e-25, 1.55e-26, 4.50e-26, 5.75e-26, 9.75e-26, 1.21e-25,\n",
       "       2.19e-26, 7.08e-26, 9.90e-26, 9.97e-27, 5.99e-26, 7.48e-26,\n",
       "       8.45e-26, 9.31e-26, 1.31e-26, 4.87e-26, 5.53e-26, 6.60e-26,\n",
       "       6.97e-27, 7.09e-27, 2.00e-26, 5.08e-26, 6.54e-26, 2.25e-25,\n",
       "       7.36e-26, 5.28e-26, 7.14e-26, 4.34e-26, 5.82e-26, 7.74e-26,\n",
       "       1.89e-25, 7.72e-26, 4.93e-26, 6.41e-26, 8.06e-26, 1.29e-26,\n",
       "       3.62e-26, 6.39e-26, 3.15e-26, 6.13e-26, 7.59e-26, 9.77e-26,\n",
       "       8.97e-27, 9.07e-27, 2.43e-26, 4.28e-26, 6.55e-26, 7.41e-27,\n",
       "       4.71e-26, 2.23e-25, 5.35e-26, 7.42e-26, 4.11e-26, 5.67e-26,\n",
       "       1.66e-25, 1.85e-26, 4.24e-26, 6.14e-26, 1.49e-25, 6.01e-26,\n",
       "       8.13e-26, 9.39e-26, 3.58e-26, 4.56e-26, 5.85e-26, 8.43e-26,\n",
       "       9.99e-27, 4.19e-26, 5.78e-26, 9.53e-26, 9.23e-27, 9.36e-27,\n",
       "       3.42e-26, 6.47e-26, 7.12e-26, 8.17e-26, 7.01e-27, 1.17e-26,\n",
       "       2.89e-26, 3.24e-26, 4.84e-26, 5.59e-26, 6.61e-26, 5.22e-26,\n",
       "       5.36e-26, 1.62e-25, 1.90e-25, 4.38e-26, 6.09e-26, 1.52e-25,\n",
       "       5.39e-26, 6.65e-26, 8.40e-26, 3.03e-26, 5.31e-26, 7.30e-26,\n",
       "       9.92e-26, 1.16e-25, 9.85e-27, 2.17e-26, 4.89e-26, 6.94e-26,\n",
       "       8.19e-26, 9.72e-27, 1.75e-26, 3.59e-26, 6.29e-26, 8.24e-27,\n",
       "       8.33e-27, 4.31e-26, 5.26e-26, 7.58e-26, 1.81e-25, 7.65e-26,\n",
       "       1.63e-25, 4.30e-26, 5.98e-26, 8.26e-26, 5.14e-26, 6.57e-26,\n",
       "       8.38e-26, 9.98e-26, 5.05e-26, 7.81e-26, 9.09e-26, 4.61e-26,\n",
       "       6.34e-26, 9.28e-26, 8.79e-27, 4.94e-26, 6.28e-26, 7.43e-27,\n",
       "       8.26e-27, 1.47e-26, 4.51e-26, 7.96e-26, 7.31e-26, 5.27e-26,\n",
       "       7.21e-26, 2.19e-25, 7.64e-26, 2.05e-25, 4.48e-26, 5.97e-26,\n",
       "       2.69e-26, 4.35e-26, 1.30e-25, 8.79e-26, 9.40e-27, 3.40e-26,\n",
       "       4.02e-26, 5.19e-26, 6.32e-26, 9.01e-26, 7.36e-27, 8.75e-27,\n",
       "       6.62e-27, 6.74e-27, 6.25e-26, 7.05e-26, 2.42e-25, 7.18e-26,\n",
       "       7.23e-26, 4.14e-26, 3.34e-26, 4.52e-26, 5.66e-26, 7.76e-26,\n",
       "       9.72e-26, 1.49e-26, 5.79e-26, 4.25e-26, 5.84e-26, 7.70e-26,\n",
       "       9.18e-26, 9.73e-27, 8.94e-27, 4.70e-26, 5.93e-26, 6.85e-26,\n",
       "       7.56e-26, 4.13e-27, 8.13e-27, 1.76e-26, 2.92e-26, 4.54e-26,\n",
       "       7.32e-26, 2.17e-25, 4.21e-26, 2.04e-25, 5.92e-26, 7.90e-26,\n",
       "       1.28e-25, 5.16e-26, 7.93e-26, 9.74e-26, 6.66e-26, 9.34e-26,\n",
       "       7.92e-27, 4.50e-27, 2.16e-25, 5.80e-26, 8.16e-26, 1.60e-25,\n",
       "       2.02e-25, 3.20e-26, 7.69e-26, 9.13e-26, 1.47e-25, 4.44e-26,\n",
       "       8.25e-26, 1.38e-25, 5.00e-26, 9.20e-26, 1.06e-26, 3.27e-26,\n",
       "       4.18e-26, 7.00e-26, 9.19e-26, 7.87e-27, 7.96e-27, 2.30e-26,\n",
       "       4.36e-26, 6.74e-26, 7.79e-26, 6.82e-27, 2.57e-26, 4.42e-26,\n",
       "       6.79e-26, 7.29e-26, 7.89e-26, 8.07e-26, 6.49e-26, 3.86e-26,\n",
       "       6.11e-26, 9.47e-26, 6.75e-26, 7.67e-26, 9.42e-26, 8.85e-27,\n",
       "       3.55e-26, 5.61e-26, 7.69e-27, 7.91e-27, 7.99e-26, 7.49e-26,\n",
       "       1.78e-25, 2.03e-25, 2.13e-25, 5.38e-26, 4.10e-26, 1.39e-26,\n",
       "       5.33e-26, 6.63e-26, 5.03e-26, 9.85e-26, 3.44e-26, 5.01e-26,\n",
       "       5.83e-26, 7.20e-26, 9.60e-26, 8.30e-27, 3.52e-26, 4.46e-26,\n",
       "       7.06e-27, 7.14e-27, 2.36e-26, 6.27e-26, 7.97e-26, 7.13e-26,\n",
       "       7.71e-26, 1.06e-25, 8.34e-26, 4.88e-26, 4.96e-26, 6.72e-26,\n",
       "       8.33e-26, 9.46e-26, 9.19e-27, 4.76e-26, 7.03e-27, 3.92e-26,\n",
       "       4.68e-26])"
      ]
     },
     "execution_count": 29,
     "metadata": {},
     "output_type": "execute_result"
    }
   ],
   "source": [
    "data_3['Volumen'].unique()"
   ]
  },
  {
   "cell_type": "code",
   "execution_count": 31,
   "metadata": {},
   "outputs": [
    {
     "data": {
      "image/png": "[encoded data removed]",
      "text/plain": [
       "<Figure size 432x288 with 1 Axes>"
      ]
     },
     "metadata": {
      "needs_background": "light"
     },
     "output_type": "display_data"
    }
   ],
   "source": [
    "# data\n",
    "df = pd.DataFrame({\n",
    "      'x_axis': data_3['Volumen'],\n",
    "      'y_axis': data_3['tau']\n",
    "  })\n",
    "\n",
    "# plot\n",
    "plt.scatter('x_axis', 'y_axis', data=df, linestyle='-', marker='o')\n",
    "plt.show()"
   ]
  },
  {
   "cell_type": "code",
   "execution_count": 32,
   "metadata": {},
   "outputs": [
    {
     "data": {
      "text/plain": [
       "<AxesSubplot:xlabel='Volumen', ylabel='tau'>"
      ]
     },
     "execution_count": 32,
     "metadata": {},
     "output_type": "execute_result"
    },
    {
     "data": {
      "image/png": "[encoded data removed]",
      "text/plain": [
       "<Figure size 432x288 with 1 Axes>"
      ]
     },
     "metadata": {
      "needs_background": "light"
     },
     "output_type": "display_data"
    }
   ],
   "source": [
    "import seaborn as sns\n",
    "sns.scatterplot(x=data_3['Volumen'], y=data_3['tau'], hue=data_3['T'] )"
   ]
  },
  {
   "cell_type": "markdown",
   "metadata": {},
   "source": [
    "La relación entre la temperatura de formación y la tasa de crecimiento separada por el volumen de las nano particulas"
   ]
  },
  {
   "cell_type": "markdown",
   "metadata": {},
   "source": []
  }
 ],
 "metadata": {
  "interpreter": {
   "hash": "445205104a770911ae53d4ff7a59ff70b3e90228acbd85cde7f2b8827f0b2456"
  },
  "kernelspec": {
   "display_name": "Python 3.9.5 ('the_bridge_22')",
   "language": "python",
   "name": "python3"
  },
  "language_info": {
   "codemirror_mode": {
    "name": "ipython",
    "version": 3
   },
   "file_extension": ".py",
   "mimetype": "text/x-python",
   "name": "python",
   "nbconvert_exporter": "python",
   "pygments_lexer": "ipython3",
   "version": "3.9.5"
  },
  "orig_nbformat": 4
 },
 "nbformat": 4,
 "nbformat_minor": 2
}
